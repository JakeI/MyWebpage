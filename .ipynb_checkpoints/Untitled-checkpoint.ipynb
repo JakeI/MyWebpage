{
 "cells": [
  {
   "cell_type": "code",
   "execution_count": 1,
   "metadata": {
    "collapsed": true
   },
   "outputs": [],
   "source": [
    "import re"
   ]
  },
  {
   "cell_type": "code",
   "execution_count": 2,
   "metadata": {
    "collapsed": true
   },
   "outputs": [],
   "source": [
    "s = \\\n",
    "\"\"\"\n",
    "<head>\n",
    "    Some text, text, text\n",
    "    <!-- Start -->\n",
    "    Center, Center, Center\n",
    "    <!-- End -->\n",
    "    End, End, End\n",
    "</head>\n",
    "\"\"\""
   ]
  },
  {
   "cell_type": "code",
   "execution_count": 26,
   "metadata": {
    "collapsed": false
   },
   "outputs": [
    {
     "name": "stdout",
     "output_type": "stream",
     "text": [
      "<_sre.SRE_Match object; span=(0, 38), match='\\n<head>\\n    Some text, text, text\\n    '>\n"
     ]
    }
   ],
   "source": [
    "print(re.match(\".+?(?=<!-- Start -->)\", s, re.DOTALL))"
   ]
  },
  {
   "cell_type": "code",
   "execution_count": 31,
   "metadata": {
    "collapsed": false
   },
   "outputs": [
    {
     "data": {
      "text/plain": [
       "['\\n<head>\\n    Some text, text, text\\n    ',\n",
       " '\\n    Center, Center, Center\\n    ',\n",
       " '\\n    End, End, End\\n</head>\\n']"
      ]
     },
     "execution_count": 31,
     "metadata": {},
     "output_type": "execute_result"
    }
   ],
   "source": [
    "re.split(\"<!-- Start -->|<!-- End -->\", s)"
   ]
  },
  {
   "cell_type": "code",
   "execution_count": 43,
   "metadata": {
    "collapsed": false
   },
   "outputs": [],
   "source": [
    "m = re.match(\"sec_[^/|\\\\\\\\]*.page_[^/|\\\\\\\\]*.sec_[^\\\\.]*\\\\.html\", \"sec_Projekts/page_MyPage/sec_index.html\")"
   ]
  },
  {
   "cell_type": "code",
   "execution_count": 47,
   "metadata": {
    "collapsed": false
   },
   "outputs": [
    {
     "data": {
      "text/plain": [
       "(0, 39, 39)"
      ]
     },
     "execution_count": 47,
     "metadata": {},
     "output_type": "execute_result"
    }
   ],
   "source": [
    "m.pos, m.endpos, len(\"sec_Projekts/page_MyPage/sec_index.html\")"
   ]
  },
  {
   "cell_type": "code",
   "execution_count": 59,
   "metadata": {
    "collapsed": false
   },
   "outputs": [
    {
     "data": {
      "text/plain": [
       "<_sre.SRE_Match object; span=(0, 38), match='sec_Welcome/page_MyPage/sec_index.html'>"
      ]
     },
     "execution_count": 59,
     "metadata": {},
     "output_type": "execute_result"
    }
   ],
   "source": [
    "#re.match(\"sec_[^/|\\\\\\\\]*[/\\\\\\\\]page_[^/|\\\\\\\\]*[/\\\\\\\\]sec_index\\\\.html\", \"sec_Welcome/page_Hello/src_index.html\")\n",
    "re.match(\"sec_[^/|\\\\\\\\]*[/\\\\\\\\]page_[^/|\\\\\\\\]*[/\\\\\\\\]sec_index\\\\.html\", \"sec_Welcome/page_Hello/sec_index.html\")"
   ]
  },
  {
   "cell_type": "code",
   "execution_count": null,
   "metadata": {
    "collapsed": true
   },
   "outputs": [],
   "source": []
  }
 ],
 "metadata": {
  "kernelspec": {
   "display_name": "Python 3",
   "language": "python",
   "name": "python3"
  },
  "language_info": {
   "codemirror_mode": {
    "name": "ipython",
    "version": 3
   },
   "file_extension": ".py",
   "mimetype": "text/x-python",
   "name": "python",
   "nbconvert_exporter": "python",
   "pygments_lexer": "ipython3",
   "version": "3.5.2"
  }
 },
 "nbformat": 4,
 "nbformat_minor": 0
}
