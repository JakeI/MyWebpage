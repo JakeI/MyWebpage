{
 "cells": [
  {
   "cell_type": "code",
   "execution_count": 2,
   "metadata": {
    "collapsed": true,
    "slideshow": {
     "slide_type": "skip"
    }
   },
   "outputs": [],
   "source": [
    "%matplotlib inline\n",
    "import numpy as np\n",
    "import matplotlib.pyplot as plt\n",
    "import IPython.display as disp"
   ]
  },
  {
   "cell_type": "markdown",
   "metadata": {
    "slideshow": {
     "slide_type": "slide"
    }
   },
   "source": [
    "# Tut 14 - Gleichungssysteme und Linearität\n",
    "\n",
    "<img src=\"https://imgs.xkcd.com/comics/matrix_transform.png\" /> <!-- xkcd comic 184 --> \n",
    "\n",
    "*Jochen Illerhaus*"
   ]
  },
  {
   "cell_type": "markdown",
   "metadata": {
    "slideshow": {
     "slide_type": "slide"
    }
   },
   "source": [
    "# Matrizenprodukt\n",
    "\n",
    "$$\n",
    "    (Ax)_i = \\sum_j A_{ij} x_j\n",
    "$$"
   ]
  },
  {
   "cell_type": "markdown",
   "metadata": {
    "slideshow": {
     "slide_type": "subslide"
    }
   },
   "source": [
    "# Blatt 14 Aufgabe 3\n",
    "\n",
    "Betrachten Sie das lineare Gleichungssystem $Ax=y$ mit\n",
    "\n",
    "$$\n",
    "A = \n",
    "\\begin{pmatrix} \n",
    "    1 & −1 & 2 \\\\\n",
    "    0 &  1 & 1 \\\\\n",
    "    1 &  0 & \\beta + 2 \n",
    "\\end{pmatrix}\n",
    ", \\hspace{2cm}\n",
    "y= \\begin{pmatrix} 1 \\\\ 1 \\\\ 3 \\end{pmatrix}\n",
    "$$\n",
    "\n",
    ",und entscheiden Sie, in Abhängigkeit von $\\beta$, ob das Gleichungssystem lösbar ist. Berechnen Sie gegebenenfallsalle Lösungen."
   ]
  },
  {
   "cell_type": "markdown",
   "metadata": {
    "slideshow": {
     "slide_type": "slide"
    }
   },
   "source": [
    "# Linearität\n",
    "\n",
    "Transformation $T$ ist linear wenn $T$ homogen und additiv ist, d.h.:\n",
    "\n",
    "$$\n",
    "    T(su+v) = sTu + Tv\n",
    "$$"
   ]
  },
  {
   "cell_type": "markdown",
   "metadata": {
    "slideshow": {
     "slide_type": "subslide"
    }
   },
   "source": [
    "# Blatt 14 Aufgabe 4\n",
    "\n",
    "Welche der folgenden Abbildungen sind linear?\n",
    "\n",
    "\\begin{align}\n",
    "\\textbf{a)} \\hspace{2cm} & \n",
    "    f: \\mathbb{C}^2 \\to \\mathbb{C}^3, \n",
    "    &\n",
    "    f(\\begin{pmatrix}x\\\\y\\end{pmatrix}) &=& \n",
    "    \\begin{pmatrix} 7y \\\\ ix+y \\\\ 3x−4iy \\end{pmatrix}\n",
    "\\\\\\\\\n",
    "\\textbf{b)} \\hspace{2cm}  &\n",
    "    f: \\mathbb{C}^2 \\to \\mathbb{C}^2,\n",
    "    &\n",
    "    f(\\begin{pmatrix}x \\\\ y\\end{pmatrix}) &=& \n",
    "    \\begin{pmatrix}7y+ 2 \\\\ ix+y \\end{pmatrix}\n",
    "\\\\\\\\\n",
    "\\textbf{c)} \\hspace{2cm}  &\n",
    "    f: \\mathbb{C}^2 \\to \\mathbb{C},\n",
    "    &\n",
    "    f(\\begin{pmatrix} x \\\\ y \\end{pmatrix}) &=& \n",
    "    (x−i)(y+ 4)\n",
    "\\\\\\\\\n",
    "\\textbf{d)} \\hspace{2cm}  &\n",
    "    f: \\mathbb{C}^2 \\to \\mathbb{C},\n",
    "    &\n",
    "    f(\\begin{pmatrix} x \\\\ y \\end{pmatrix}) &=& \n",
    "    (x−2i)(y+ 3)−(x+ 1)(y−6i)\n",
    "\\end{align}\n"
   ]
  },
  {
   "cell_type": "markdown",
   "metadata": {
    "collapsed": true,
    "slideshow": {
     "slide_type": "slide"
    }
   },
   "source": [
    "# Vielen Dank\n",
    "\n",
    "<img src=\"https://i.imgur.com/vDyK9.jpg\" />\n",
    "\n",
    " * Letztes Tutorium\n",
    " * Viel Erfolg bei der Prüfung\n",
    " * Hoffe wir sehen uns in HM2/HM3 (Termin ab nächstem Semester auf der webseite)"
   ]
  },
  {
   "cell_type": "code",
   "execution_count": null,
   "metadata": {
    "collapsed": true,
    "slideshow": {
     "slide_type": "skip"
    }
   },
   "outputs": [],
   "source": []
  }
 ],
 "metadata": {
  "celltoolbar": "Slideshow",
  "kernelspec": {
   "display_name": "Python 3",
   "language": "python",
   "name": "python3"
  },
  "language_info": {
   "codemirror_mode": {
    "name": "ipython",
    "version": 3
   },
   "file_extension": ".py",
   "mimetype": "text/x-python",
   "name": "python",
   "nbconvert_exporter": "python",
   "pygments_lexer": "ipython3",
   "version": "3.5.2"
  }
 },
 "nbformat": 4,
 "nbformat_minor": 2
}
