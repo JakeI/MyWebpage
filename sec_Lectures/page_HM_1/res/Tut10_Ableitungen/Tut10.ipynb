{
 "cells": [
  {
   "cell_type": "code",
   "execution_count": 12,
   "metadata": {
    "collapsed": true,
    "slideshow": {
     "slide_type": "skip"
    }
   },
   "outputs": [],
   "source": [
    "%matplotlib inline\n",
    "\n",
    "import numpy as np\n",
    "import matplotlib.pyplot as plt\n",
    "\n",
    "import IPython.display as disp"
   ]
  },
  {
   "cell_type": "markdown",
   "metadata": {
    "slideshow": {
     "slide_type": "slide"
    }
   },
   "source": [
    "# Ableitung, Extrema, Taylor\n",
    "\n",
    "<img src=\"https://upload.wikimedia.org/wikipedia/commons/f/f7/Differencial_quotient_of_a_function.svg\" />\n",
    "\n",
    "Quelle: Wikipedia - Differencial quotiont of a function\n",
    "\n",
    "*Jochen Illerhaus*"
   ]
  },
  {
   "cell_type": "markdown",
   "metadata": {
    "slideshow": {
     "slide_type": "slide"
    }
   },
   "source": [
    "# Prüfungsanmeldung\n",
    "\n",
    " * Prüfung am: 09.03.2018, 11:00 - 13:00 Uhr\n",
    " * Anmeldung ab sofort (bis 10.02.2018, Vorlesungsende)\n",
    " * Anmeldeschluss unbedingt beachten keine Kulanzregelung in diesem Jahr.\n",
    " * Online über Studierendenportal https://campus.studium.kit.edu/exams/registration.php\n",
    " * Abmeldung online bis zum Tag vor der Prüfung\n",
    " * Abmeldung mit Studentenausweis unmittelbar vor der Prüfung\n",
    " * Keine Abmeldung nach Beginn der Prüfung\n",
    " * Einige Tage nach der Anmeldung nochmal einloggen, kontrolliert und abspeichern.\n",
    " * Die genaue Hörsaalverteilung wird ab Montag, den 19.02.2018 durch Audhang am Brett neben dem Zimmer 2.027 (Geb. 20.30) bekanntgegeben.\n",
    " * Weitere Informationen: http://www.math.kit.edu/iana2/lehre/hm1etec2017w/de"
   ]
  },
  {
   "cell_type": "markdown",
   "metadata": {
    "slideshow": {
     "slide_type": "subslide"
    }
   },
   "source": [
    "<!-- https://www.timeanddate.com/calendar/custom.html?year=2018&month=2&months=2&country=8&typ=2&display=3&cols=0&lang=de&hol=9&cdt=31&holm=1&df=1 -->\n",
    "<table align=\"center\" style=\"border-spacing: 20px 5px; border: None;\">\n",
    "    <tr>\n",
    "        <th>Februar</th>\n",
    "        <td></td>\n",
    "        <th>März</th>\n",
    "    </tr>\n",
    "    <tr>\n",
    "        <td>\n",
    "            <table>\n",
    "                <tr class=cl>\n",
    "                    <td>Mo</td>\n",
    "                    <td>Di</td>\n",
    "                    <td>Mi</td>\n",
    "                    <td>Do</td>\n",
    "                    <td>Fr</td>\n",
    "                    <td>Sa</td>\n",
    "                    <td>So</td>\n",
    "                </tr>\n",
    "                <tr>\n",
    "                    <td>&nbsp;</td>\n",
    "                    <td>&nbsp;</td>\n",
    "                    <td>&nbsp;</td>\n",
    "                    <td>1</td>\n",
    "                    <td>2</td>\n",
    "                    <td style=\"color: gray;\">3</td>\n",
    "                    <td style=\"color: red;\">4</td>\n",
    "                </tr>\n",
    "                <tr>\n",
    "                    <td>5</td>\n",
    "                    <td>6</td>\n",
    "                    <td>7</td>\n",
    "                    <td>8</td>\n",
    "                    <td>9</td>\n",
    "                    <td style=\"color: gray; background-color: blue;\" title=\"Anmeldeschluss Prüfung\">10</td>\n",
    "                    <td style=\"color: red;\">11</td>\n",
    "                </tr>\n",
    "                <tr>\n",
    "                    <td>12</td>\n",
    "                    <td>13</td>\n",
    "                    <td>14</td>\n",
    "                    <td>15</td>\n",
    "                    <td>16</td>\n",
    "                    <td style=\"color: gray;\">17</td>\n",
    "                    <td style=\"color: red;\">18</td>\n",
    "                </tr>\n",
    "                <tr>\n",
    "                    <td style=\"background-color: blue;\" \n",
    "                        title=\"Bekanntgabe der Hörsaalverteilung durch Aushang vor Raum 2.027 (Geb. 20.30)\">19</td>\n",
    "                    <td>20</td>\n",
    "                    <td>21</td>\n",
    "                    <td>22</td>\n",
    "                    <td>23</td>\n",
    "                    <td style=\"color: gray;\">24</td>\n",
    "                    <td style=\"color: red;\">25</td>\n",
    "                </tr>\n",
    "                <tr>\n",
    "                    <td>26</td>\n",
    "                    <td>27</td>\n",
    "                    <td>28</td>\n",
    "                    <td>&nbsp;</td>\n",
    "                    <td>&nbsp;</td>\n",
    "                    <td>&nbsp;</td>\n",
    "                    <td>&nbsp;</td>\n",
    "                </tr>\n",
    "            </table>\n",
    "        </td>\n",
    "        <td></td>\n",
    "        <td>\n",
    "            <table>\n",
    "                <tr>\n",
    "                    <td>Mo</td>\n",
    "                    <td>Di</td>\n",
    "                    <td>Mi</td>\n",
    "                    <td>Do</td>\n",
    "                    <td>Fr</td>\n",
    "                    <td>Sa</td>\n",
    "                    <td>So</td>\n",
    "                </tr>\n",
    "                <tr>\n",
    "                    <td>&nbsp;</td>\n",
    "                    <td>&nbsp;</td>\n",
    "                    <td>&nbsp;</td>\n",
    "                    <td>1</td>\n",
    "                    <td>2</td>\n",
    "                    <td style=\"color: gray;\">3</td>\n",
    "                    <td style=\"color: red;\">4</td>\n",
    "                </tr>\n",
    "                <tr>\n",
    "                    <td>5</td>\n",
    "                    <td>6</td>\n",
    "                    <td>7</td>\n",
    "                    <td>8</td>\n",
    "                    <td style=\"background-color: blue;\" title=\"Prüfung 11:00 - 13:00 Uhr\">9</td>\n",
    "                    <td style=\"color: gray;\">10</td>\n",
    "                    <td style=\"color: red;\">11</td>\n",
    "                </tr>\n",
    "                <tr>\n",
    "                    <td>12</td>\n",
    "                    <td>13</td>\n",
    "                    <td>14</td>\n",
    "                    <td>15</td>\n",
    "                    <td>16</td>\n",
    "                    <td style=\"color: gray;\">17</td>\n",
    "                    <td style=\"color: red;\">18</td>\n",
    "                </tr>\n",
    "                <tr>\n",
    "                    <td>19</td>\n",
    "                    <td>20</td>\n",
    "                    <td>21</td>\n",
    "                    <td>22</td>\n",
    "                    <td>23</td>\n",
    "                    <td style=\"color: gray;\">24</td>\n",
    "                    <td style=\"color: red;\">25</td>\n",
    "                </tr>\n",
    "                <tr>\n",
    "                    <td>26</td>\n",
    "                    <td>27</td>\n",
    "                    <td>28</td>\n",
    "                    <td>29</td>\n",
    "                    <td class=co1>30</td>\n",
    "                    <td style=\"color: gray;\">31</td>\n",
    "                    <td class=cr>&nbsp;</td>\n",
    "                </tr>\n",
    "            </table>\n",
    "        </td>\n",
    "    </tr>\n",
    "</table> "
   ]
  },
  {
   "cell_type": "markdown",
   "metadata": {
    "slideshow": {
     "slide_type": "slide"
    }
   },
   "source": [
    "# Ableitung (Derivative)\n",
    "\n",
    "$$\n",
    "    \\frac{df}{dx} = f'(x) := \\lim_{h \\to \\infty} \\frac{f(x+h) \\, - \\, f(x)}{h}\n",
    "$$\n",
    "\n",
    "<img src=\"Derivative_GIF.gif\" width=\"350px\" />\n",
    "Quelle: Wikipedia - Derivative"
   ]
  },
  {
   "cell_type": "markdown",
   "metadata": {
    "slideshow": {
     "slide_type": "slide"
    }
   },
   "source": [
    "## Ableitungsregeln (Differentiation rules):\n",
    " * Polynome: $\\big( x^a \\big)' = a x^{a-1} \\; \\; \\forall \\; a \\neq 0$\n",
    " * Logaritmen: $\\big( \\ln(x) \\big)' = \\frac{1}{x}$\n",
    " * Linearität: $\\big( au(x) \\; + \\; bv(x) \\big)' = a u'(x) \\; + \\; b v'(x)$\n",
    " * Ketten-regel: $\\Big( u\\big(v(x) \\big) \\Big)' = u'\\big(v(x)\\big) \\; v'(x)$\n",
    " * Produkt-regel $\\big( u(x) \\; v(x) \\big)' = u'(x) \\; v(x) \\; + \\; u(x) \\; v'(x)$\n",
    "\n",
    "## Blatt 10 Aufgabe 1\n",
    "Berechnen Sie die Ableitungen folgender Funktionen.\n",
    " * **(b)** $$ f: \\; \\; (0, \\infty) \\to \\mathbb{R}, \\; x \\mapsto x^{\\sqrt[3]{x}} $$"
   ]
  },
  {
   "cell_type": "code",
   "execution_count": 19,
   "metadata": {
    "slideshow": {
     "slide_type": "subslide"
    }
   },
   "outputs": [
    {
     "data": {
      "text/html": [
       "<h1>$f(x) = x^{\\sqrt[3]{x}}$</h1>"
      ],
      "text/plain": [
       "<IPython.core.display.HTML object>"
      ]
     },
     "execution_count": 19,
     "metadata": {},
     "output_type": "execute_result"
    },
    {
     "data": {
      "image/png": "[encoded data removed]",
      "text/plain": [
       "<matplotlib.figure.Figure at 0x7fcddefd3320>"
      ]
     },
     "metadata": {},
     "output_type": "display_data"
    }
   ],
   "source": [
    "def plotFuncDiff(func, diff, start, end):\n",
    "    x = np.linspace(start, end, 400)\n",
    "    fig, (axa, axb) = plt.subplots(1, 2, figsize=(16, 8))\n",
    "    axa.plot(x, func(x))\n",
    "    axa.set_title(\"Funktion\")\n",
    "    axb.plot(x, diff(x))\n",
    "    axb.set_title(\"Ableitung\")\n",
    "\n",
    "with np.warnings.catch_warnings():\n",
    "    np.warnings.filterwarnings('ignore')\n",
    "    plotFuncDiff(lambda x: x**(x**(1/3)), lambda x: ((np.log(x)+3)/(3*x**(2/3))) * x**(x**(1/3)), 0, 2)\n",
    "    \n",
    "disp.HTML(\"<h1>$f(x) = x^{\\\\sqrt[3]{x}}$</h1>\")"
   ]
  },
  {
   "cell_type": "markdown",
   "metadata": {
    "slideshow": {
     "slide_type": "slide"
    }
   },
   "source": [
    "# Mittelwertsatz (Mean value theorem)\n",
    "\n",
    "<img src=\"Mvt2.svg\" width=\"400px\" />\n",
    "\n",
    "$$\n",
    "    f \\text{dbar auf $(a, b)$ und stetig auf $[a, b]$} \\, \\Rightarrow \\, \n",
    "    \\exists \\, \\xi \\in (a, b): \\; \\; f'(\\xi) = \\frac{f(b) - f(a)}{b-a}\n",
    "$$\n",
    "\n",
    "Quelle: Wikipedia - Mean value theorem"
   ]
  },
  {
   "cell_type": "markdown",
   "metadata": {
    "slideshow": {
     "slide_type": "slide"
    }
   },
   "source": [
    "## Mittelwertsatze (Mean value theorem)\n",
    "\n",
    "$$\n",
    "    f \\text{dbar auf $(a, b)$ und stetig auf $[a, b]$} \\, \\Rightarrow \\, \n",
    "    \\exists \\, \\xi \\in (a, b): \\; \\; f'(\\xi) = \\frac{f(b) - f(a)}{b-a}\n",
    "$$\n",
    "\n",
    "## Blatt 10 Aufgabe 2\n",
    "\n",
    " * **(b)** Zeigen Sie mit Hilfe des Mittelwertsatzes die folgende Abschätzung: \n",
    " $$ \n",
    "     x \\ln(x) \\, - \\, y \\ln(y) \\leq (x-y) \\big(1 \\, + \\, \\ln(x) \\big) \\; \\; \\; \\forall x > y > 0\n",
    " $$"
   ]
  },
  {
   "cell_type": "code",
   "execution_count": 32,
   "metadata": {
    "slideshow": {
     "slide_type": "skip"
    }
   },
   "outputs": [
    {
     "data": {
      "text/plain": [
       "'X = np.linspace(0, 3, 400)\\nY = np.linspace(0, 3, 400)\\nx, y = np.meshgrid(X, Y)\\n\\nlhs = x*np.log(x) + y*np.log(y)\\nrhs = (x-y)*(1+np.log(x))\\n\\nlp = np.ones((*lhs.shape, 3))\\nrp = np.ones((*rhs.shape, 3))\\n\\nmask2 = x > y\\nscale = lmabda a: np.max(a)-np.min(a)\\ntrans = lambda a, 0, s: (a-o)/s\\n\\nlp[mask2, 1] = trans(lhs[mask2])\\nrp[mask2, 1] = trans(rhs[mask2])\\n\\nmask = np.logical_not(mask2)\\nlp[mask, 0] = 0.0\\nrp[mask, 0] = 0.0\\n\\nfig, (axa, axb) = plt.subplots(1, 2, figsize=(16, 7))\\naxa.imshow(lp)\\naxb.imshow(rp)'"
      ]
     },
     "execution_count": 32,
     "metadata": {},
     "output_type": "execute_result"
    }
   ],
   "source": [
    "'''X = np.linspace(0, 3, 400)\n",
    "Y = np.linspace(0, 3, 400)\n",
    "x, y = np.meshgrid(X, Y)\n",
    "\n",
    "lhs = x*np.log(x) + y*np.log(y)\n",
    "rhs = (x-y)*(1+np.log(x))\n",
    "\n",
    "lp = np.ones((*lhs.shape, 3))\n",
    "rp = np.ones((*rhs.shape, 3))\n",
    "\n",
    "mask2 = x > y\n",
    "scale = lmabda a: np.max(a)-np.min(a)\n",
    "trans = lambda a, 0, s: (a-o)/s\n",
    "\n",
    "lp[mask2, 1] = trans(lhs[mask2])\n",
    "rp[mask2, 1] = trans(rhs[mask2])\n",
    "\n",
    "mask = np.logical_not(mask2)\n",
    "lp[mask, 0] = 0.0\n",
    "rp[mask, 0] = 0.0\n",
    "\n",
    "fig, (axa, axb) = plt.subplots(1, 2, figsize=(16, 7))\n",
    "axa.imshow(lp)\n",
    "axb.imshow(rp)'''"
   ]
  },
  {
   "cell_type": "markdown",
   "metadata": {
    "slideshow": {
     "slide_type": "slide"
    }
   },
   "source": [
    "## Blatt 10 Aufgabe 3\n",
    "\n",
    "Beweisen Sie, dass die Funktion $f$ konstant ist, und bestimmen Sie die Konstante.\n",
    "\n",
    "$$\n",
    "    f: \\; (0, \\infty) \\to \\mathbb{R}, \\; x \\mapsto \\arctan(x) \\, + \\, \\arctan(x^-1)\n",
    "$$"
   ]
  },
  {
   "cell_type": "markdown",
   "metadata": {
    "slideshow": {
     "slide_type": "fragment"
    }
   },
   "source": [
    "### Hinweise\n",
    "\n",
    " * $\\tan(x) = \\frac{\\sin(x)}{\\cos(x)}$\n",
    " * $\\big(\\sin(x)\\big)' = \\cos(x)$\n",
    " * $\\big(\\cos(x)\\big)' = -\\sin(x)$"
   ]
  },
  {
   "cell_type": "markdown",
   "metadata": {
    "slideshow": {
     "slide_type": "slide"
    }
   },
   "source": [
    "# Blatt 10 Aufgabe 4\n",
    "\n",
    "Bestimmen Sie die Grenzwerte\n",
    "\n",
    "**b)**\n",
    "$$\n",
    "    \\lim_{x \\to \\frac{\\pi}{4}} \\frac{4 \\sin^2(x) \\cos^2(x) - 1}{\\big( \\tan(x) \\big)^{1/2} - 1}\n",
    "$$"
   ]
  },
  {
   "cell_type": "code",
   "execution_count": 48,
   "metadata": {
    "slideshow": {
     "slide_type": "subslide"
    }
   },
   "outputs": [
    {
     "data": {
      "image/png": "[encoded data removed]",
      "text/plain": [
       "<matplotlib.figure.Figure at 0x7fcddf221320>"
      ]
     },
     "metadata": {},
     "output_type": "display_data"
    }
   ],
   "source": [
    "a = 0.5\n",
    "x = np.linspace(np.pi/4 - a, np.pi/4 + a, 200)\n",
    "y = (4*(np.sin(x)*np.cos(x))**2 - 1)/(np.sqrt(np.tan(x)) - 1)\n",
    "fig, ax = plt.subplots(1, 1, figsize=(16, 6))\n",
    "ax.plot(x, y)\n",
    "line = lambda ax, a, b: ax.plot([a[1], b[1]], [a[0], b[0]])\n",
    "line(ax, [-3, np.pi/4], [3, np.pi/4])\n",
    "line(ax, [0, -5], [0, 5])\n",
    "ax.set_ylim([-1.2, 1.7])\n",
    "ax.set_xlim([np.pi/4 - a, np.pi/4 + a]);"
   ]
  },
  {
   "cell_type": "markdown",
   "metadata": {
    "slideshow": {
     "slide_type": "slide"
    }
   },
   "source": [
    "# Blatt 10 Aufgabe 6\n",
    "**(Fermatsches Brechungsgesetz)** Ein Lichtstrahl von Punkt P zum Punkt Q schlägt den zeitkürzesten Weg ein. Dabei seien die Lichtgeschwindigkeiten oberhalb bzw. unterhalb der x-Achse durch $c_1$ und $c_2$ gegeben. Leiten Sie das Brechungsgesetz her, d.h. die Beziehung zwischen $\\alpha$, $\\beta$, $c_1$, $c_2$.\n",
    "\n",
    "<img src=\"No6.png\" width=\"400px\" />"
   ]
  },
  {
   "cell_type": "markdown",
   "metadata": {
    "slideshow": {
     "slide_type": "slide"
    }
   },
   "source": [
    "# Blatt 10 Aufgabe 7\n",
    "\n",
    "Berechnen Sie Maximum und Minimum der Funktionen:\n",
    "\n",
    "**(b)** \n",
    "$$\n",
    "    g: [0, 10] \\to \\mathbb{R}, \\; x \\mapsto -6x \\, + \\, \\Big( \\big| x - 3 \\big| + 2 \\Big)^2\n",
    "$$"
   ]
  },
  {
   "cell_type": "code",
   "execution_count": 53,
   "metadata": {
    "slideshow": {
     "slide_type": "subslide"
    }
   },
   "outputs": [
    {
     "data": {
      "image/png": "[encoded data removed]",
      "text/plain": [
       "<matplotlib.figure.Figure at 0x7fcddccdb7b8>"
      ]
     },
     "metadata": {},
     "output_type": "display_data"
    }
   ],
   "source": [
    "horizontal = lambda ax, a, b, y: ax.plot([a, b], [y, y])\n",
    "vertical = lambda ax, x, a, b: ax.plot([x, x], [a, b])\n",
    "def point(ax, a, b):\n",
    "    vertical(ax, a, -100, 100)\n",
    "    horizontal(ax, -100, 100, b)\n",
    "    \n",
    "x = np.linspace(0, 10, 400)\n",
    "y = -6*x + (np.abs(x-3)+2)**2\n",
    "fig, ax = plt.subplots(1, 1, figsize=(16, 6))\n",
    "ax.plot(x, y)\n",
    "\n",
    "#point(ax, 0, 25)\n",
    "#point(ax, 4, -15)\n",
    "\n",
    "ax.set_ylim([-16, 26])\n",
    "ax.set_xlim([0, 10]);"
   ]
  },
  {
   "cell_type": "markdown",
   "metadata": {
    "slideshow": {
     "slide_type": "slide"
    }
   },
   "source": [
    "# Satz von Taylor\n",
    "<a href=\"https://www.geogebra.org/classic/frkWCH4U\">GeoGibra demo (Externer Link)</a>\n",
    "$$\n",
    "f(x) = T_n\\big(f, x_0\\big)(x) \\; + \\; R_n\\big(f, x_0 \\big)(x)\n",
    "$$\n",
    "$$\n",
    "T_n\\big(f, x_0\\big)(x) = \\sum_{n=0}^n \\frac{f^{(n)}(x)}{n!} (x - x_0)^n\n",
    "$$\n",
    "$$\n",
    "R_n\\big(f, x_0\\big)(x) = \\frac{f^{(n+1)}(\\xi)}{(n+1)!} (x - x_0)^{n+1} \n",
    "\\; \\text{mit} \\; \\xi \\in \\big(\\min\\{x, x_0\\}, \\max\\{x, x_0\\}\\big)\n",
    "$$\n",
    "\n",
    "# Blatt 10 Aufgabe 8\n",
    "**(b)** Approximieren Sie die Funktion $f(x) := e^{−x}+11+x$ durch das Taylorpolynom $T_2 \\big(f;\\frac{1}{2} \\big)$ und geben Sie eine Konstante $C >0$ an so, dass für alle $x \\in [0,1]$ gilt:\n",
    "$$\n",
    "    \\Big| f(x) - T_2\\Big(f; \\frac{1}{2}\\Big)(x) \\Big| \\leq 6C\\big| x - \\frac{1}{2} \\big|^3\n",
    "$$"
   ]
  },
  {
   "cell_type": "markdown",
   "metadata": {
    "slideshow": {
     "slide_type": "slide"
    }
   },
   "source": [
    "# Fragen"
   ]
  },
  {
   "cell_type": "code",
   "execution_count": null,
   "metadata": {
    "collapsed": true,
    "slideshow": {
     "slide_type": "skip"
    }
   },
   "outputs": [],
   "source": []
  }
 ],
 "metadata": {
  "celltoolbar": "Slideshow",
  "kernelspec": {
   "display_name": "Python 3",
   "language": "python",
   "name": "python3"
  },
  "language_info": {
   "codemirror_mode": {
    "name": "ipython",
    "version": 3
   },
   "file_extension": ".py",
   "mimetype": "text/x-python",
   "name": "python",
   "nbconvert_exporter": "python",
   "pygments_lexer": "ipython3",
   "version": "3.5.2"
  }
 },
 "nbformat": 4,
 "nbformat_minor": 2
}
