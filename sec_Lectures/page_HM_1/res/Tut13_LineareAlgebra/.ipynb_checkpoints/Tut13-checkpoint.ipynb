{
 "cells": [
  {
   "cell_type": "code",
   "execution_count": 1,
   "metadata": {
    "collapsed": true,
    "slideshow": {
     "slide_type": "skip"
    }
   },
   "outputs": [],
   "source": [
    "%matplotlib inline\n",
    "import numpy as np\n",
    "import matplotlib.pyplot as plt\n",
    "import IPython.display as disp"
   ]
  },
  {
   "cell_type": "markdown",
   "metadata": {
    "slideshow": {
     "slide_type": "slide"
    }
   },
   "source": [
    "# Tut 13 - Lineare Algebra\n",
    "\n",
    "<img src=\"https://image.slidesharecdn.com/adl1103-161027023044/95/applied-deep-learning-1103-convolutional-neural-networks-60-638.jpg?cb=1479405398\" />\n",
    "\n",
    "<!--<span style=\"font-size: 48pt\">\n",
    "\n",
    "\\tilde{F}^{\\mu \\nu} := \\frac{1}{2} \\epsilon^{\\mu \\nu \\rho \\sigma} F_{\\rho \\sigma} \n",
    "\n",
    "</span>-->\n",
    "\n",
    "*Jochen Illerhaus*"
   ]
  },
  {
   "cell_type": "markdown",
   "metadata": {
    "slideshow": {
     "slide_type": "slide"
    }
   },
   "source": [
    "# Blatt 13 Aufgabe 1a)\n",
    "\n",
    "Im $\\mathbb{R}^4$ sind die Vektoren \n",
    "$$\n",
    "v_1 = \\begin{pmatrix} 0 \\\\ 8 \\\\ −2 \\\\ 4 \\end{pmatrix}\n",
    ", \\; \\; \n",
    "v_2 = \\begin{pmatrix} 3 \\\\ 6 \\\\ 2 \\\\ −1 \\end{pmatrix}\n",
    ", \\; \\; \n",
    "v_3 = \\begin{pmatrix} 0 \\\\ −4 \\\\ 1 \\\\ −2 \\end{pmatrix}\n",
    "$$ \n",
    "gegeben. \n",
    "\n",
    "Zeigen Sie:\n",
    "\n",
    "**i)** Die Vektoren $v_1$,$v_2$ und $v_3$ sind linear abhängig.\n",
    "\n",
    "**ii)** Es gibt keine Zahlen $\\alpha_1, \\alpha_3 \\in \\mathbb{R}$ mit $v_2 = \\alpha_1 v_1 + \\alpha_3 v_3$."
   ]
  },
  {
   "cell_type": "markdown",
   "metadata": {
    "slideshow": {
     "slide_type": "slide"
    }
   },
   "source": [
    "# Blatt 13 Aufgabe 1b)\n",
    "\n",
    "Bestimmen Sie alle $a \\in \\mathbb{R}$ so, dass die Vektoren \n",
    "$$\n",
    "v_1 = \\begin{pmatrix} 1 \\\\ 0 \\\\ 1 \\end{pmatrix}\n",
    ", \\; \\; \n",
    "v_ 2 = \\begin{pmatrix} 0 \\\\ 1 \\\\ −1 \\end{pmatrix}\n",
    ", \\; \\;\n",
    "v_3 = \\begin{pmatrix} a \\\\ 1 \\\\ 1 \\end{pmatrix}\n",
    "$$\n",
    "des $\\mathbb{R}^3$ linear abhängig sind."
   ]
  },
  {
   "cell_type": "markdown",
   "metadata": {
    "slideshow": {
     "slide_type": "slide"
    }
   },
   "source": [
    "# Blatt 13 Aufgabe 2a)\n",
    "\n",
    "Im $\\mathbb{C}^4$ sind die Vektoren\n",
    "$$\n",
    "v_1 = \\begin{pmatrix} 1 \\\\ −2 \\\\ 3 \\\\ 0 \\end{pmatrix}\n",
    ", \\; \\;\n",
    "v_2 = \\begin{pmatrix} 2 \\\\ 0 \\\\ 5 \\\\ 0 \\end{pmatrix}\n",
    ", \\; \\;\n",
    "v_3 = \\begin{pmatrix} 5 \\\\ −2 \\\\ 13 \\\\ 0 \\end{pmatrix}\n",
    "$$\n",
    "gegeben.\n",
    "\n",
    "Vergleichen Sie die Vektorräume ($\\subset, \\; \\subseteq, \\; =$): \n",
    "$$\n",
    "\\mathrm{lin}(v_1,v_2,v_3), \\; \\; \\mathrm{lin}(v_1,v_2), \\; \\; \\mathrm{lin}(v_1,v_3), \\; \\; \\mathrm{lin}(v_2,v_3).\n",
    "$$"
   ]
  },
  {
   "cell_type": "markdown",
   "metadata": {
    "slideshow": {
     "slide_type": "slide"
    }
   },
   "source": [
    "# Blatt 13 Aufgabe 2b)\n",
    "\n",
    "Seien\n",
    "$$\n",
    "b_1 = \\begin{pmatrix} 1 \\\\ 1 \\\\ 0 \\end{pmatrix}\n",
    ", \\; \\;\n",
    "b_2 = \\begin{pmatrix} 0 \\\\ 1 \\\\ 1 \\end{pmatrix}\n",
    ", \\; \\;\n",
    "b_3 = \\begin{pmatrix} 1 \\\\ 1 \\\\ 1 \\end{pmatrix}\n",
    "$$. \n",
    "\n",
    "Zeigen Sie: \n",
    "\n",
    "$$\\mathrm{lin}(b_1,b_2,b_3) = \\mathbb{R}^3$$"
   ]
  },
  {
   "cell_type": "markdown",
   "metadata": {
    "slideshow": {
     "slide_type": "slide"
    }
   },
   "source": [
    "# Blatt 13 Aufgabe 3\n",
    "\n",
    "Bestimmen Sie die Zeilennormalform der Matrix\n",
    "$$\n",
    "A = \n",
    "\\begin{pmatrix}\n",
    "0 & −2 & 2 & 4\n",
    "\\\\\n",
    "4 & −6 & 4 & −5\n",
    "\\\\\n",
    "−2 & 0 & 1 & 7\n",
    "\\end{pmatrix}\n",
    "$$"
   ]
  },
  {
   "cell_type": "code",
   "execution_count": null,
   "metadata": {
    "collapsed": true,
    "slideshow": {
     "slide_type": "skip"
    }
   },
   "outputs": [],
   "source": []
  }
 ],
 "metadata": {
  "celltoolbar": "Slideshow",
  "kernelspec": {
   "display_name": "Python 3",
   "language": "python",
   "name": "python3"
  },
  "language_info": {
   "codemirror_mode": {
    "name": "ipython",
    "version": 3
   },
   "file_extension": ".py",
   "mimetype": "text/x-python",
   "name": "python",
   "nbconvert_exporter": "python",
   "pygments_lexer": "ipython3",
   "version": "3.5.2"
  }
 },
 "nbformat": 4,
 "nbformat_minor": 2
}
