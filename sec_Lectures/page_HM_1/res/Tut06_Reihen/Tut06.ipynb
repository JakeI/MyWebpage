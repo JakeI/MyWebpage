{
 "cells": [
  {
   "cell_type": "code",
   "execution_count": 2,
   "metadata": {
    "collapsed": true,
    "slideshow": {
     "slide_type": "skip"
    }
   },
   "outputs": [],
   "source": [
    "%matplotlib inline\n",
    "import numpy as np\n",
    "import matplotlib.pyplot as plt\n",
    "import IPython.display"
   ]
  },
  {
   "cell_type": "markdown",
   "metadata": {
    "slideshow": {
     "slide_type": "slide"
    }
   },
   "source": [
    "# Reihen (Series)\n",
    "\n",
    "<span style=\"font-size:70pt\">\n",
    "$$\n",
    "\\zeta(s) = \\sum_{n=1}^\\infty \\frac{1}{n^s}\n",
    "$$\n",
    "</span>\n",
    "\n",
    "*Jochen Illerhaus*"
   ]
  },
  {
   "cell_type": "markdown",
   "metadata": {
    "slideshow": {
     "slide_type": "subslide"
    }
   },
   "source": [
    "# Fragen"
   ]
  },
  {
   "cell_type": "markdown",
   "metadata": {
    "slideshow": {
     "slide_type": "slide"
    }
   },
   "source": [
    "# Konvergenz von Reihen:\n",
    "\n",
    "Betrachte: $\\sum_{n=1}^\\infty a_n$\n",
    " \n",
    " * $s_N = \\sum_{n=1}^N a_n$ ist $a_N$ konvergent, dann konvergiert die Reihe\n",
    " * $\\neg (a_n \\to 0) \\Leftrightarrow \\text{div}$\n",
    " * vergleiche $a_n$ mit Minoranten oder Majoranten. Oft hilfreich: $\\sum_{n=1}^\\infty \\frac{1}{n}$ ist divergent und $\\sum_{n=0}^\\infty q^n = \\frac{1}{1-q} \\; \\forall \\big| q \\big| < 1$\n",
    " * Vergleche mit Integral\n",
    " * Monotone alternierende Nullfolgen sind konvergent (Leibniz-Kriterium)\n",
    " * $\\limsup_{n \\to \\infty} \\sqrt[n]{\\big| a_n \\big|} < 1 \\Leftrightarrow \\text{abs conv}$ (Wurzelkriterium)\n",
    " * $\\lim_{n \\to \\infty} \\Big| \\frac{a_{n+1}}{a_n}\\Big| < 1$ (Quotientenkriterium)\n",
    " * Absolute Konvergenz falls $\\sum_{n=1}^\\infty \\big| a_n \\big|$ konvergent"
   ]
  },
  {
   "cell_type": "markdown",
   "metadata": {
    "slideshow": {
     "slide_type": "slide"
    }
   },
   "source": [
    "# Übungsblatt 6 Aufgabe 3\n",
    "Für $n \\in \\mathbb{N}$ seien $a_n := \\frac{1}{\\sqrt{n}} + \\frac{(-1)^{n+1}}{n}$\n",
    "\n",
    " * **(a)** Beweisen Sie: Es gilt $a_n > 0$ für alle $n \\in \\mathbb{N}$ und $\\lim_{n \\to \\infty} a_n = 0$.\n",
    " * **(b)** Zeigen Sie, dass die Reihe $\\sum_{n=1}^\\infty (-1)^n a_n$ divergent ist.\n",
    " * **(c)** Warum ist das Leibnizkriterium hier nicht anwendbar?"
   ]
  },
  {
   "cell_type": "code",
   "execution_count": 17,
   "metadata": {
    "collapsed": true,
    "slideshow": {
     "slide_type": "skip"
    }
   },
   "outputs": [],
   "source": [
    "def dispSum(func, a=1, b=50, an_tex=\"a_n\", loc=[\"upper left\", \"upper left\"]):\n",
    "    n = np.arange(a, b)\n",
    "    x = np.linspace(a, b, 200)\n",
    "    an = func(n)\n",
    "    sn = np.cumsum(an)\n",
    "    fig, (axa, axb) = plt.subplots(1, 2, figsize=(15, 5))\n",
    "    markerline, stemlines, baseline = axa.stem(n, an , label=\"$%s$\" % an_tex)\n",
    "    plt.setp(baseline, color='gray', linewidth=0.5)\n",
    "    plt.setp(stemlines, color='gray', linewidth=0.5)\n",
    "    axa.legend(loc=loc[0])\n",
    "    markerline, stemlines, baseline = axb.stem(n, sn, label=\"$\\\\sum_{n=%s}^N %s$\" % (a, an_tex))\n",
    "    plt.setp(baseline, color='gray', linewidth=0.5)\n",
    "    plt.setp(stemlines, color='gray', linewidth=0.5)\n",
    "    axb.legend(loc=loc[1])"
   ]
  },
  {
   "cell_type": "code",
   "execution_count": 13,
   "metadata": {
    "collapsed": true,
    "slideshow": {
     "slide_type": "skip"
    }
   },
   "outputs": [],
   "source": [
    "def ex3():\n",
    "    dispSum(lambda n: 1/np.sqrt(n) + (-1)**(n+1)/n, \n",
    "            an_tex=\"\\\\frac{1}{\\\\sqrt{n}} + \\\\frac{(-1)^{n+1}}{n}\", \n",
    "            b=50, loc=[\"upper right\", \"upper left\"])"
   ]
  },
  {
   "cell_type": "code",
   "execution_count": 14,
   "metadata": {
    "slideshow": {
     "slide_type": "subslide"
    }
   },
   "outputs": [
    {
     "data": {
      "image/png": "[encoded data removed]",
      "text/plain": [
       "<matplotlib.figure.Figure at 0x7f60b4b9a2e8>"
      ]
     },
     "metadata": {},
     "output_type": "display_data"
    }
   ],
   "source": [
    "ex3()"
   ]
  },
  {
   "cell_type": "markdown",
   "metadata": {
    "slideshow": {
     "slide_type": "slide"
    }
   },
   "source": [
    "# Übungsblatt 6 Aufgabe 5\n",
    "\n",
    "Für $n \\in \\mathbb{N}_0$ definiere \n",
    "$$a_n := \\frac{(−1)^n}{\\sqrt{n+1}}$$\n",
    "Zeigen Sie, dass die Reihe $\\sum_{n=0}^\\infty a_n$konvergiert, dass aber das Cauchyprodukt der Reihe mit sich selbst divergiert.\n",
    "\n",
    "Bemerkung: Dies ist ein Beispiel dafür, dass das Cauchyprodukt zweier konvergenter Reihen\n",
    "nicht konvergieren muss, wenn beide Reihen nicht absolut konvergieren."
   ]
  },
  {
   "cell_type": "code",
   "execution_count": 15,
   "metadata": {
    "collapsed": true,
    "slideshow": {
     "slide_type": "skip"
    }
   },
   "outputs": [],
   "source": [
    "def ex5():\n",
    "    dispSum(lambda n: (-1)**n/np.sqrt(n+1), loc=[\"upper right\", \"upper right\"], \n",
    "            an_tex=\"\\\\frac{(-1)^n}{\\\\sqrt{n+1}}\")"
   ]
  },
  {
   "cell_type": "code",
   "execution_count": 16,
   "metadata": {
    "slideshow": {
     "slide_type": "subslide"
    }
   },
   "outputs": [
    {
     "data": {
      "image/png": "[encoded data removed]",
      "text/plain": [
       "<matplotlib.figure.Figure at 0x7f60b4c56ac8>"
      ]
     },
     "metadata": {},
     "output_type": "display_data"
    }
   ],
   "source": [
    "ex5()"
   ]
  },
  {
   "cell_type": "markdown",
   "metadata": {
    "slideshow": {
     "slide_type": "slide"
    }
   },
   "source": [
    "# Übungsblatt 6 Aufgabe 7\n",
    "\n",
    "Zeigen Sie, dass die Reihe\n",
    "$$\n",
    "\\def\\fr#1{\\frac{1}{\\sqrt{#1}}}\n",
    "1 - \\fr 2 + \\fr 3 - \\fr 4 + \\fr 5 - \\fr 6 + \\cdots \n",
    "$$\n",
    "konvergiert, die daraus durch Umordnung entstehende Reihe\n",
    "$$\n",
    "1 + \\fr 3 - \\fr 2 + \\fr 5 + \\fr 7 - \\fr 4 + \\fr 9 + \\fr{11} - \\fr 6 + \\cdots\n",
    "$$\n",
    "jedoch divergiert."
   ]
  },
  {
   "cell_type": "code",
   "execution_count": 30,
   "metadata": {
    "collapsed": true,
    "slideshow": {
     "slide_type": "skip"
    }
   },
   "outputs": [],
   "source": [
    "def converge(v=3, N=70):\n",
    "    s = \"\\\\sum_{{n=1}}^\\\\infty \\\\frac{{(-1)^{{n+1}}}}{{\\\\sqrt{{n}}}} = \"\n",
    "    vv = 0\n",
    "    pos = 1\n",
    "    neg = 2\n",
    "    for i in range(N):\n",
    "        if vv < v:\n",
    "            vv += 1/np.sqrt(pos)\n",
    "            s += \"+ \\\\fr{{ {0} }}\".format(pos)\n",
    "            pos += 2\n",
    "        else:\n",
    "            vv -= 1/np.sqrt(neg)\n",
    "            s += \"- \\\\fr{{ {0} }}\".format(neg)\n",
    "            neg += 2\n",
    "    s += \"+ \\\\cdots = {0} \\\\approx {1}\".format(vv, v)\n",
    "\n",
    "    IPython.display.display(IPython.display.Math(s))"
   ]
  },
  {
   "cell_type": "code",
   "execution_count": 31,
   "metadata": {
    "slideshow": {
     "slide_type": "subslide"
    }
   },
   "outputs": [
    {
     "data": {
      "text/latex": [
       "$$\\sum_{{n=1}}^\\infty \\frac{{(-1)^{{n+1}}}}{{\\sqrt{{n}}}} = + \\fr{ 1 }+ \\fr{ 3 }+ \\fr{ 5 }+ \\fr{ 7 }+ \\fr{ 9 }+ \\fr{ 11 }- \\fr{ 2 }+ \\fr{ 13 }+ \\fr{ 15 }+ \\fr{ 17 }- \\fr{ 4 }+ \\fr{ 19 }+ \\fr{ 21 }- \\fr{ 6 }+ \\fr{ 23 }+ \\fr{ 25 }- \\fr{ 8 }+ \\fr{ 27 }+ \\fr{ 29 }- \\fr{ 10 }+ \\fr{ 31 }+ \\fr{ 33 }- \\fr{ 12 }+ \\fr{ 35 }+ \\fr{ 37 }- \\fr{ 14 }+ \\fr{ 39 }- \\fr{ 16 }+ \\fr{ 41 }+ \\fr{ 43 }- \\fr{ 18 }+ \\fr{ 45 }- \\fr{ 20 }+ \\fr{ 47 }+ \\fr{ 49 }- \\fr{ 22 }+ \\fr{ 51 }- \\fr{ 24 }+ \\fr{ 53 }+ \\fr{ 55 }- \\fr{ 26 }+ \\fr{ 57 }- \\fr{ 28 }+ \\fr{ 59 }+ \\fr{ 61 }- \\fr{ 30 }+ \\fr{ 63 }- \\fr{ 32 }+ \\fr{ 65 }+ \\fr{ 67 }- \\fr{ 34 }+ \\fr{ 69 }- \\fr{ 36 }+ \\fr{ 71 }- \\fr{ 38 }+ \\fr{ 73 }+ \\fr{ 75 }- \\fr{ 40 }+ \\fr{ 77 }- \\fr{ 42 }+ \\fr{ 79 }+ \\fr{ 81 }- \\fr{ 44 }+ \\fr{ 83 }- \\fr{ 46 }+ \\fr{ 85 }- \\fr{ 48 }+ \\fr{ 87 }+ \\fr{ 89 }- \\fr{ 50 }+ \\cdots = 2.95023761059 \\approx 3$$"
      ],
      "text/plain": [
       "<IPython.core.display.Math at 0x62dffd0>"
      ]
     },
     "metadata": {},
     "output_type": "display_data"
    }
   ],
   "source": [
    "converge(3)"
   ]
  },
  {
   "cell_type": "code",
   "execution_count": 42,
   "metadata": {
    "slideshow": {
     "slide_type": "subslide"
    }
   },
   "outputs": [
    {
     "data": {
      "text/latex": [
       "$$\\sum_{{n=1}}^\\infty \\frac{{(-1)^{{n+1}}}}{{\\sqrt{{n}}}} = + \\fr{ 1 }+ \\fr{ 3 }- \\fr{ 2 }+ \\fr{ 5 }+ \\fr{ 7 }- \\fr{ 4 }+ \\fr{ 9 }- \\fr{ 6 }+ \\fr{ 11 }+ \\fr{ 13 }- \\fr{ 8 }+ \\fr{ 15 }- \\fr{ 10 }+ \\fr{ 17 }- \\fr{ 12 }+ \\fr{ 19 }+ \\fr{ 21 }- \\fr{ 14 }+ \\fr{ 23 }- \\fr{ 16 }+ \\fr{ 25 }- \\fr{ 18 }+ \\fr{ 27 }- \\fr{ 20 }+ \\fr{ 29 }+ \\fr{ 31 }- \\fr{ 22 }+ \\fr{ 33 }- \\fr{ 24 }+ \\fr{ 35 }- \\fr{ 26 }+ \\fr{ 37 }- \\fr{ 28 }+ \\fr{ 39 }- \\fr{ 30 }+ \\fr{ 41 }- \\fr{ 32 }+ \\fr{ 43 }+ \\fr{ 45 }- \\fr{ 34 }+ \\fr{ 47 }- \\fr{ 36 }+ \\fr{ 49 }- \\fr{ 38 }+ \\fr{ 51 }- \\fr{ 40 }+ \\fr{ 53 }- \\fr{ 42 }+ \\fr{ 55 }- \\fr{ 44 }+ \\fr{ 57 }- \\fr{ 46 }+ \\fr{ 59 }+ \\fr{ 61 }- \\fr{ 48 }+ \\cdots = 1.47887040223 \\approx 1.5$$"
      ],
      "text/plain": [
       "<IPython.core.display.Math at 0x614b850>"
      ]
     },
     "metadata": {},
     "output_type": "display_data"
    }
   ],
   "source": [
    "converge(1.5, N=55)"
   ]
  },
  {
   "cell_type": "code",
   "execution_count": 48,
   "metadata": {
    "collapsed": true,
    "slideshow": {
     "slide_type": "skip"
    }
   },
   "outputs": [],
   "source": [
    "def ex7():\n",
    "    n = np.arange(1, 10000); N = np.sum((-1)**n/np.sqrt(n))\n",
    "    IPython.display.display(IPython.display.Math(\n",
    "        \"\\\\sum_{n=1}^{10000} \\\\frac{(-1)^{n+1}}{\\\\sqrt{n}} \\\\approx %s\" % N))\n",
    "    NN = np.sum(1/np.sqrt(4*n-3) - 1/np.sqrt(4*n-1) - 1/np.sqrt(2*n))\n",
    "    IPython.display.display(IPython.display.Math(\n",
    "        (\"\\\\sum_{n=1}^{10000} \\\\frac{1}{\\\\sqrt{4n-3}} + \\\\frac{1}{\\\\sqrt{4n-1}}\" + \\\n",
    "        \"- \\\\frac{1}{\\\\sqrt{2n}} \\\\approx %s\") % NN))"
   ]
  },
  {
   "cell_type": "code",
   "execution_count": 49,
   "metadata": {
    "slideshow": {
     "slide_type": "subslide"
    }
   },
   "outputs": [
    {
     "data": {
      "text/latex": [
       "$$\\sum_{n=1}^{10000} \\frac{(-1)^{n+1}}{\\sqrt{n}} \\approx -0.609898768422$$"
      ],
      "text/plain": [
       "<IPython.core.display.Math at 0x62c6610>"
      ]
     },
     "metadata": {},
     "output_type": "display_data"
    },
    {
     "data": {
      "text/latex": [
       "$$\\sum_{n=1}^{10000} \\frac{1}{\\sqrt{4n-3}} + \\frac{1}{\\sqrt{4n-1}}- \\frac{1}{\\sqrt{2n}} \\approx -139.720002766$$"
      ],
      "text/plain": [
       "<IPython.core.display.Math at 0x62c65f0>"
      ]
     },
     "metadata": {},
     "output_type": "display_data"
    }
   ],
   "source": [
    "ex7()"
   ]
  },
  {
   "cell_type": "markdown",
   "metadata": {
    "slideshow": {
     "slide_type": "slide"
    }
   },
   "source": [
    "# Fragen"
   ]
  },
  {
   "cell_type": "code",
   "execution_count": null,
   "metadata": {
    "collapsed": true,
    "slideshow": {
     "slide_type": "skip"
    }
   },
   "outputs": [],
   "source": []
  }
 ],
 "metadata": {
  "celltoolbar": "Slideshow",
  "kernelspec": {
   "display_name": "Python 3",
   "language": "python",
   "name": "python3"
  },
  "language_info": {
   "codemirror_mode": {
    "name": "ipython",
    "version": 3
   },
   "file_extension": ".py",
   "mimetype": "text/x-python",
   "name": "python",
   "nbconvert_exporter": "python",
   "pygments_lexer": "ipython3",
   "version": "3.5.2"
  }
 },
 "nbformat": 4,
 "nbformat_minor": 1
}
