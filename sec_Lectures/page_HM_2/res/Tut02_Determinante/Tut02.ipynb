{
 "cells": [
  {
   "cell_type": "code",
   "execution_count": 55,
   "metadata": {
    "collapsed": true,
    "slideshow": {
     "slide_type": "skip"
    }
   },
   "outputs": [],
   "source": [
    "%matplotlib qt5\n",
    "import matplotlib.pyplot as plt\n",
    "import numpy as np\n",
    "import IPython.display as disp\n",
    "\n",
    "import pandas as pd"
   ]
  },
  {
   "cell_type": "code",
   "execution_count": 56,
   "metadata": {
    "collapsed": true,
    "slideshow": {
     "slide_type": "skip"
    }
   },
   "outputs": [],
   "source": [
    "%matplotlib inline"
   ]
  },
  {
   "cell_type": "code",
   "execution_count": 73,
   "metadata": {
    "slideshow": {
     "slide_type": "skip"
    }
   },
   "outputs": [
    {
     "name": "stdout",
     "output_type": "stream",
     "text": [
      "\\begin{vmatrix}1 & 5 & 9 & 13\\\\2 & 6 & 10 & 14\\\\3 & 7 & 11 & 15\\\\4 & 8 & 12 & 16\\end{vmatrix} = \\\\+1\\underbrace{\\begin{vmatrix}6 & 10 & 14\\\\7 & 11 & 15\\\\8 & 12 & 16\\end{vmatrix}}_{+6\\underbrace{\\begin{vmatrix}11 & 15\\\\12 & 16\\end{vmatrix}}_{-4}-10\\underbrace{\\begin{vmatrix}7 & 15\\\\8 & 16\\end{vmatrix}}_{-8}+14\\underbrace{\\begin{vmatrix}7 & 11\\\\8 & 12\\end{vmatrix}}_{-4}}-5\\underbrace{\\begin{vmatrix}2 & 10 & 14\\\\3 & 11 & 15\\\\4 & 12 & 16\\end{vmatrix}}_{+2\\underbrace{\\begin{vmatrix}11 & 15\\\\12 & 16\\end{vmatrix}}_{-4}-10\\underbrace{\\begin{vmatrix}3 & 15\\\\4 & 16\\end{vmatrix}}_{-12}+14\\underbrace{\\begin{vmatrix}3 & 11\\\\4 & 12\\end{vmatrix}}_{-8}}\\\\+9\\underbrace{\\begin{vmatrix}2 & 6 & 14\\\\3 & 7 & 15\\\\4 & 8 & 16\\end{vmatrix}}_{+2\\underbrace{\\begin{vmatrix}7 & 15\\\\8 & 16\\end{vmatrix}}_{-8}-6\\underbrace{\\begin{vmatrix}3 & 15\\\\4 & 16\\end{vmatrix}}_{-12}+14\\underbrace{\\begin{vmatrix}3 & 7\\\\4 & 8\\end{vmatrix}}_{-4}}-13\\underbrace{\\begin{vmatrix}2 & 6 & 10\\\\3 & 7 & 11\\\\4 & 8 & 12\\end{vmatrix}}_{+2\\underbrace{\\begin{vmatrix}7 & 11\\\\8 & 12\\end{vmatrix}}_{-4}-6\\underbrace{\\begin{vmatrix}3 & 11\\\\4 & 12\\end{vmatrix}}_{-8}+10\\underbrace{\\begin{vmatrix}3 & 7\\\\4 & 8\\end{vmatrix}}_{-4}}\n"
     ]
    }
   ],
   "source": [
    "N = 4\n",
    "D = Matrix([[j+N*i+1 for i in range(N)] for j in range(N)])\n",
    "s = mathtex(D, 'v') + \" = \\\\\\\\\" + det(D)\n",
    "print(s)"
   ]
  },
  {
   "cell_type": "markdown",
   "metadata": {
    "slideshow": {
     "slide_type": "slide"
    }
   },
   "source": [
    "# Tut 02 - Determinante\n",
    "\n",
    "$$\n",
    "\\begin{vmatrix}1 & 5 & 9 & 13\\\\2 & 6 & 10 & 14\\\\3 & 7 & 11 & 15\\\\4 & 8 & 12 & 16\\end{vmatrix} = \\\\+1\\underbrace{\\begin{vmatrix}6 & 10 & 14\\\\7 & 11 & 15\\\\8 & 12 & 16\\end{vmatrix}}_{+6\\underbrace{\\begin{vmatrix}11 & 15\\\\12 & 16\\end{vmatrix}}_{-4}-10\\underbrace{\\begin{vmatrix}7 & 15\\\\8 & 16\\end{vmatrix}}_{-8}+14\\underbrace{\\begin{vmatrix}7 & 11\\\\8 & 12\\end{vmatrix}}_{-4}}-5\\underbrace{\\begin{vmatrix}2 & 10 & 14\\\\3 & 11 & 15\\\\4 & 12 & 16\\end{vmatrix}}_{+2\\underbrace{\\begin{vmatrix}11 & 15\\\\12 & 16\\end{vmatrix}}_{-4}-10\\underbrace{\\begin{vmatrix}3 & 15\\\\4 & 16\\end{vmatrix}}_{-12}+14\\underbrace{\\begin{vmatrix}3 & 11\\\\4 & 12\\end{vmatrix}}_{-8}}+9\\underbrace{\\begin{vmatrix}2 & 6 & 14\\\\3 & 7 & 15\\\\4 & 8 & 16\\end{vmatrix}}_{+2\\underbrace{\\begin{vmatrix}7 & 15\\\\8 & 16\\end{vmatrix}}_{-8}-6\\underbrace{\\begin{vmatrix}3 & 15\\\\4 & 16\\end{vmatrix}}_{-12}+14\\underbrace{\\begin{vmatrix}3 & 7\\\\4 & 8\\end{vmatrix}}_{-4}}-13\\underbrace{\\begin{vmatrix}2 & 6 & 10\\\\3 & 7 & 11\\\\4 & 8 & 12\\end{vmatrix}}_{+2\\underbrace{\\begin{vmatrix}7 & 11\\\\8 & 12\\end{vmatrix}}_{-4}-6\\underbrace{\\begin{vmatrix}3 & 11\\\\4 & 12\\end{vmatrix}}_{-8}+10\\underbrace{\\begin{vmatrix}3 & 7\\\\4 & 8\\end{vmatrix}}_{-4}}\n",
    "$$\n",
    "\n",
    "*Jochen Illerhaus - jochen.illerhaus@student.kit.edu*"
   ]
  },
  {
   "cell_type": "markdown",
   "metadata": {
    "slideshow": {
     "slide_type": "slide"
    }
   },
   "source": [
    "# Orga\n",
    "\n",
    "<ul style=\"font-size: 30pt; line-height: 1.5;\">\n",
    "<li><a href=\"http://bit.ly/2HayX3w\">http://bit.ly/2HayX3w</a></li>\n",
    "<li>jochen.illerhaus@student.kit.edu</li>\n",
    "</ul>"
   ]
  },
  {
   "cell_type": "markdown",
   "metadata": {
    "slideshow": {
     "slide_type": "slide"
    }
   },
   "source": [
    "<center>\n",
    "<span style=\"font-size: 40pt; line-height: 100px;\">\n",
    "Fragen\n",
    "</span>\n",
    "</center>"
   ]
  },
  {
   "cell_type": "code",
   "execution_count": 81,
   "metadata": {
    "slideshow": {
     "slide_type": "slide"
    }
   },
   "outputs": [
    {
     "data": {
      "text/html": [
       "<script type=\"text/javascript\">\n",
       "    /*\n",
       "    function eigen_vec(a, b, c, d, lam, id) {\n",
       "        var k = (lam - a)/b;\n",
       "        var v1 = 1/Math.sqrt(1+k);\n",
       "        var v2 = k*v1;\n",
       "        \n",
       "        const scale = 3;\n",
       "        v1 *= scale;\n",
       "        v2 *= scale;\n",
       "        \n",
       "        var d = \"m 0,0 \"+v1.toFixed(2)+\",\"+v2.toFixed(2);\n",
       "        document.getElementById(id).setAttribute('d', d);\n",
       "        document.getElementById(id+\"_out\").setAttribute('d', d);\n",
       "    }\n",
       "    */   \n",
       "    \n",
       "    function updateValue() {\n",
       "        \n",
       "        var a = parseFloat(document.getElementById(\"num_a\").value);\n",
       "        var b = parseFloat(document.getElementById(\"num_b\").value);\n",
       "        var c = parseFloat(document.getElementById(\"num_c\").value);\n",
       "        var d = parseFloat(document.getElementById(\"num_d\").value);\n",
       "        \n",
       "        var det = a*d - b*c;\n",
       "        /*\n",
       "        var sp = a + d;\n",
       "        var arg = sp*sp/4.0 - det;\n",
       "        var delta = Math.sqrt(arg);\n",
       "        var lam1 = sp/2 + delta;\n",
       "        var lam2 = sp/2 - delta;\n",
       "        */\n",
       "        \n",
       "        document.getElementById(\"bsp1_content\").setAttribute('transform', \"matrix(\"+a+\",\"+c+\",\"+b+\",\"+d+\",0,0)\");\n",
       "        document.getElementById(\"det\").innerHTML = det.toFixed(2);\n",
       "        //document.getElementById(\"lam1\").innerHTML = lam1.toFixed(2);\n",
       "        //document.getElementById(\"lam2\").innerHTML = lam2.toFixed(2);\n",
       "        \n",
       "        //eigen_vec(a, b, c, d, lam1, \"eigen1\");\n",
       "        //eigen_vec(a, b, c, d, lam2, \"eigen2\");\n",
       "    }\n",
       "</script>\n",
       "\n",
       "<table><tr>\n",
       "\n",
       "<td>\n",
       "    <table>\n",
       "        <tr>\n",
       "            <td>$\\det(M) = $</td><td id=\"det\">1.00</td>\n",
       "        </tr>\n",
       "        <!--\n",
       "        <tr>\n",
       "            <td>$\\lambda_1 = $</td><td id=\"lam1\">1.00</td>\n",
       "        </tr>\n",
       "        <tr>\n",
       "            <td>$\\lambda_2 = $</td><td id=\"lam2\">1.00</td>\n",
       "        </tr>\n",
       "        -->\n",
       "    </table>\n",
       "</td>\n",
       "\n",
       "<td>\n",
       "<table border=\"0\" style=\"border: none;\">\n",
       "<tr>\n",
       "    <td> \n",
       "        <table><tr> \n",
       "            <td style=\"min-width: 50px;\">$a = $</td> \n",
       "            <td><input type=\"number\" id=\"num_a\" value=\"1\" step=\"0.01\" \n",
       "                       style=\"max-width: 100px;\" oninput=\"updateValue();\"/></td> \n",
       "        </tr></table>\n",
       "    </td>\n",
       "    <td>\n",
       "        <table><tr>\n",
       "            <td style=\"min-width: 50px;\">$b = $</td>\n",
       "            <td><input type=\"number\" id=\"num_b\" value=\"0\" step=\"0.01\" \n",
       "                       style=\"max-width: 100px;\" oninput=\"updateValue();\"/></td> \n",
       "        </tr></table>\n",
       "    </td>\n",
       "</tr>\n",
       "<tr>\n",
       "    <td> \n",
       "        <table><tr> \n",
       "            <td style=\"min-width: 50px;\">$c = $</td> \n",
       "            <td><input type=\"number\" id=\"num_c\" value=\"0\" step=\"0.01\" \n",
       "                       style=\"max-width: 100px;\" oninput=\"updateValue();\"/></td> \n",
       "        </tr></table>\n",
       "    </td>\n",
       "    <td>\n",
       "        <table><tr>\n",
       "            <td style=\"min-width: 50px;\">$d = $</td>\n",
       "            <td><input type=\"number\" id=\"num_d\" value=\"1\" step=\"0.01\" \n",
       "                       style=\"max-width: 100px;\" oninput=\"updateValue();\"/></td> \n",
       "        </tr></table>\n",
       "    </td>\n",
       "</tr>\n",
       "</table>\n",
       "\n",
       "</td>\n",
       "</tr>\n",
       "</table>\n",
       "\n",
       "<center>\n",
       "<svg viewbox=\"-5.1, -5.1, 11, 11\" width=\"600px\" heigth=\"400px\">\n",
       "    <marker orient=\"auto\" refY=\"0\" refX=\"0\" id=\"marker_arrow\" style=\"overflow:visible\">\n",
       "        <path d=\"M 0,0 5,-5 -12.5,0 5,5 0,0 Z\"\n",
       "            style=\"stroke:gray; fill: gray;\" fill-opacity=\"0.5\" stroke-opacity=\"0.5\"\n",
       "            transform=\"matrix(-0.4,0,0,-0.4,-4,0)\" />\n",
       "    </marker>\n",
       "    <marker orient=\"auto\" refY=\"0\" refX=\"0\" id=\"marker_arrow_black\" style=\"overflow:visible\">\n",
       "        <path d=\"M 0,0 5,-5 -12.5,0 5,5 0,0 Z\"\n",
       "                style=\"stroke:black; fill: black;\"\n",
       "                transform=\"matrix(-0.4,0,0,-0.4,-4,0)\" />\n",
       "    </marker>\n",
       "    <marker orient=\"auto\" refY=\"0\" refX=\"0\" id=\"marker_arrow_red\" style=\"overflow:visible\">\n",
       "        <path d=\"M 0,0 5,-5 -12.5,0 5,5 0,0 Z\"\n",
       "                style=\"stroke:red; fill: red;\"\n",
       "                transform=\"matrix(-0.4,0,0,-0.4,-4,0)\" />\n",
       "    </marker>\n",
       "    <marker orient=\"auto\" refY=\"0\" refX=\"0\" id=\"marker_arrow_purple\" style=\"overflow:visible\">\n",
       "        <path d=\"M 0,0 5,-5 -12.5,0 5,5 0,0 Z\"\n",
       "                style=\"stroke:purple; fill: purple;\"\n",
       "                transform=\"matrix(-0.4,0,0,-0.4,-4,0)\" />\n",
       "    </marker>\n",
       "    <g transform=\"scale(1, -1)\">\n",
       "        <path d=\"m 0,-4.5, 0,9\"\n",
       "            style=\"stroke:black;stroke-width:0.1;marker-end:url(#marker_arrow_black)\" />\n",
       "        <path d=\"m -4.5,0, 9,0\"\n",
       "            style=\"stroke:black;stroke-width:0.1;marker-end:url(#marker_arrow_black)\" />\n",
       "        <g id=\"black_markers\"></g>\n",
       "        \n",
       "        <g id=\"bsp1_content\" transform=\"matrix(1, 0, 0, 1, 0, 0)\">\n",
       "            <path d=\"m 0,-4.5, 0,9\" fill-opacity=\"0.5\" stroke-opacity=\"0.5\"\n",
       "                style=\"stroke:gray;stroke-width:0.1;marker-end:url(#marker_arrow)\" />\n",
       "            <path d=\"m -4.5,0, 9,0\" fill-opacity=\"0.5\" stroke-opacity=\"0.5\"\n",
       "                style=\"stroke:gray;stroke-width:0.1;marker-end:url(#marker_arrow)\" />\n",
       "            <g id=\"gray_markers\"></g>\n",
       "            \n",
       "            <rect x=\"1\" y=\"1\" width=\"2\" height=\"2\" fill=\"blue\" stroke=\"black\" \n",
       "                stroke-width=\"0.1\" />\n",
       "            <line x1=\"1\" y1=\"1\" x2=\"0\" y2=\"1\" stroke=\"black\" stroke-width=\"0.04\" stroke-dasharray=\"0.04, 0.04\" \n",
       "                stroke-opacity=\"0.5\" />\n",
       "            <line x1=\"1\" y1=\"1\" x2=\"1\" y2=\"0\" stroke=\"black\" stroke-width=\"0.04\" stroke-dasharray=\"0.04, 0.04\" \n",
       "                stroke-opacity=\"0.5\" />\n",
       "            <line x1=\"3\" y1=\"1\" x2=\"3\" y2=\"0\" stroke=\"black\" stroke-width=\"0.04\" stroke-dasharray=\"0.04, 0.04\" \n",
       "                stroke-opacity=\"0.5\" />\n",
       "            <line x1=\"1\" y1=\"3\" x2=\"0\" y2=\"3\" stroke=\"black\" stroke-width=\"0.04\" stroke-dasharray=\"0.04, 0.04\" \n",
       "                stroke-opacity=\"0.5\" />\n",
       "            <polygon points=\"350,75  379,161 469,161 397,215 423,301 350,250 277,301 303,215 231,161 321,161\"\n",
       "                style=\"fill:green;stroke:black;stroke-width:5;fill-rule:evenodd;\"\n",
       "                transform=\"translate(-8, -6) scale(0.015)\" />\n",
       "            <polygon points=\"-1,1 -1,3 -3,1\" style=\"fill:orange;stroke:black;stroke-width:0.1;fill-rule:evenodd;\" />\n",
       "            <text x=\"0.5\" y=\"3\" style=\"font-size: 1.8\" transform=\"scale(1, -1)\" stroke=\"balck\" fill=\"brown\"\n",
       "                    font-family=\"MathJax_Script\">\n",
       "                <tspan stroke=\"black\" stroke-width=\"0.07\">KIT</tspan>\n",
       "            </text>\n",
       "            \n",
       "            <!--\n",
       "            <path id=\"eigen1\" d=\"m 0,0, 0,3\"\n",
       "                style=\"stroke:red;stroke-width:0.1;marker-end:url(#marker_arrow_red)\" />\n",
       "            <path id=\"eigen2\" d=\"m 0,0, 3,0\"\n",
       "                style=\"stroke:purple;stroke-width:0.1;marker-end:url(#marker_arrow_purple)\" />\n",
       "            -->\n",
       "        </g>\n",
       "        <!--\n",
       "        <path id=\"eigen1_out\" d=\"m 0,0, 0,3\"\n",
       "            style=\"stroke:red;stroke-width:0.1;marker-end:url(#marker_arrow_red)\" />\n",
       "        <path id=\"eigen2_out\" d=\"m 0,0, 3,0\"\n",
       "            style=\"stroke:purple;stroke-width:0.1;marker-end:url(#marker_arrow_purple);\" />\n",
       "        -->\n",
       "    </g>\n",
       "</svg>\n",
       "\n",
       "<script type=\"text/javascript\">\n",
       "    function marker_text(stroke, params) {\n",
       "        s = \"\";\n",
       "        for(y = -4.0; y < 4; y += 1.0) {\n",
       "            s += '<line x1=\"-0.2\" x2=\"0.2\" y1=\"' + y + '\" y2=\"' + y +\n",
       "                   '\" stroke=\"' + stroke + '\" stroke-width=\"0.05\" ' + params + ' />\\n';\n",
       "        }\n",
       "        for(x = -4.0; x < 4; x += 1.0) {\n",
       "            s +=  '<line y1=\"-0.2\" y2=\"0.2\" x1=\"' + x + '\" x2=\"' + x \n",
       "                  + '\" stroke=\"' + stroke + '\" stroke-width=\"0.05\" />\\n';\n",
       "        }\n",
       "        return s;\n",
       "    }\n",
       "    \n",
       "    document.getElementById(\"black_markers\").innerHTML = marker_text(\"black\");\n",
       "    document.getElementById(\"gray_markers\").innerHTML = \n",
       "        marker_text(\"gray\", 'fill-opacity=\"0.5\" stroke-opacity=\"0.5\"');\n",
       "</script>\n",
       "\n",
       "</center>"
      ],
      "text/plain": [
       "<IPython.core.display.HTML object>"
      ]
     },
     "metadata": {},
     "output_type": "display_data"
    }
   ],
   "source": [
    "%%html\n",
    "<script type=\"text/javascript\">\n",
    "    /*\n",
    "    function eigen_vec(a, b, c, d, lam, id) {\n",
    "        var k = (lam - a)/b;\n",
    "        var v1 = 1/Math.sqrt(1+k);\n",
    "        var v2 = k*v1;\n",
    "        \n",
    "        const scale = 3;\n",
    "        v1 *= scale;\n",
    "        v2 *= scale;\n",
    "        \n",
    "        var d = \"m 0,0 \"+v1.toFixed(2)+\",\"+v2.toFixed(2);\n",
    "        document.getElementById(id).setAttribute('d', d);\n",
    "        document.getElementById(id+\"_out\").setAttribute('d', d);\n",
    "    }\n",
    "    */   \n",
    "    \n",
    "    function updateValue() {\n",
    "        \n",
    "        var a = parseFloat(document.getElementById(\"num_a\").value);\n",
    "        var b = parseFloat(document.getElementById(\"num_b\").value);\n",
    "        var c = parseFloat(document.getElementById(\"num_c\").value);\n",
    "        var d = parseFloat(document.getElementById(\"num_d\").value);\n",
    "        \n",
    "        var det = a*d - b*c;\n",
    "        /*\n",
    "        var sp = a + d;\n",
    "        var arg = sp*sp/4.0 - det;\n",
    "        var delta = Math.sqrt(arg);\n",
    "        var lam1 = sp/2 + delta;\n",
    "        var lam2 = sp/2 - delta;\n",
    "        */\n",
    "        \n",
    "        document.getElementById(\"bsp1_content\").setAttribute('transform', \"matrix(\"+a+\",\"+c+\",\"+b+\",\"+d+\",0,0)\");\n",
    "        document.getElementById(\"det\").innerHTML = det.toFixed(2);\n",
    "        //document.getElementById(\"lam1\").innerHTML = lam1.toFixed(2);\n",
    "        //document.getElementById(\"lam2\").innerHTML = lam2.toFixed(2);\n",
    "        \n",
    "        //eigen_vec(a, b, c, d, lam1, \"eigen1\");\n",
    "        //eigen_vec(a, b, c, d, lam2, \"eigen2\");\n",
    "    }\n",
    "</script>\n",
    "\n",
    "<table><tr>\n",
    "\n",
    "<td>\n",
    "    <table>\n",
    "        <tr>\n",
    "            <td>$\\det(M) = $</td><td id=\"det\">1.00</td>\n",
    "        </tr>\n",
    "        <!--\n",
    "        <tr>\n",
    "            <td>$\\lambda_1 = $</td><td id=\"lam1\">1.00</td>\n",
    "        </tr>\n",
    "        <tr>\n",
    "            <td>$\\lambda_2 = $</td><td id=\"lam2\">1.00</td>\n",
    "        </tr>\n",
    "        -->\n",
    "    </table>\n",
    "</td>\n",
    "\n",
    "<td>\n",
    "<table border=\"0\" style=\"border: none;\">\n",
    "<tr>\n",
    "    <td> \n",
    "        <table><tr> \n",
    "            <td style=\"min-width: 50px;\">$a = $</td> \n",
    "            <td><input type=\"number\" id=\"num_a\" value=\"1\" step=\"0.01\" \n",
    "                       style=\"max-width: 100px;\" oninput=\"updateValue();\"/></td> \n",
    "        </tr></table>\n",
    "    </td>\n",
    "    <td>\n",
    "        <table><tr>\n",
    "            <td style=\"min-width: 50px;\">$b = $</td>\n",
    "            <td><input type=\"number\" id=\"num_b\" value=\"0\" step=\"0.01\" \n",
    "                       style=\"max-width: 100px;\" oninput=\"updateValue();\"/></td> \n",
    "        </tr></table>\n",
    "    </td>\n",
    "</tr>\n",
    "<tr>\n",
    "    <td> \n",
    "        <table><tr> \n",
    "            <td style=\"min-width: 50px;\">$c = $</td> \n",
    "            <td><input type=\"number\" id=\"num_c\" value=\"0\" step=\"0.01\" \n",
    "                       style=\"max-width: 100px;\" oninput=\"updateValue();\"/></td> \n",
    "        </tr></table>\n",
    "    </td>\n",
    "    <td>\n",
    "        <table><tr>\n",
    "            <td style=\"min-width: 50px;\">$d = $</td>\n",
    "            <td><input type=\"number\" id=\"num_d\" value=\"1\" step=\"0.01\" \n",
    "                       style=\"max-width: 100px;\" oninput=\"updateValue();\"/></td> \n",
    "        </tr></table>\n",
    "    </td>\n",
    "</tr>\n",
    "</table>\n",
    "\n",
    "</td>\n",
    "</tr>\n",
    "</table>\n",
    "\n",
    "<center>\n",
    "<svg viewbox=\"-5.1, -5.1, 11, 11\" width=\"600px\" heigth=\"400px\">\n",
    "    <marker orient=\"auto\" refY=\"0\" refX=\"0\" id=\"marker_arrow\" style=\"overflow:visible\">\n",
    "        <path d=\"M 0,0 5,-5 -12.5,0 5,5 0,0 Z\"\n",
    "            style=\"stroke:gray; fill: gray;\" fill-opacity=\"0.5\" stroke-opacity=\"0.5\"\n",
    "            transform=\"matrix(-0.4,0,0,-0.4,-4,0)\" />\n",
    "    </marker>\n",
    "    <marker orient=\"auto\" refY=\"0\" refX=\"0\" id=\"marker_arrow_black\" style=\"overflow:visible\">\n",
    "        <path d=\"M 0,0 5,-5 -12.5,0 5,5 0,0 Z\"\n",
    "                style=\"stroke:black; fill: black;\"\n",
    "                transform=\"matrix(-0.4,0,0,-0.4,-4,0)\" />\n",
    "    </marker>\n",
    "    <marker orient=\"auto\" refY=\"0\" refX=\"0\" id=\"marker_arrow_red\" style=\"overflow:visible\">\n",
    "        <path d=\"M 0,0 5,-5 -12.5,0 5,5 0,0 Z\"\n",
    "                style=\"stroke:red; fill: red;\"\n",
    "                transform=\"matrix(-0.4,0,0,-0.4,-4,0)\" />\n",
    "    </marker>\n",
    "    <marker orient=\"auto\" refY=\"0\" refX=\"0\" id=\"marker_arrow_purple\" style=\"overflow:visible\">\n",
    "        <path d=\"M 0,0 5,-5 -12.5,0 5,5 0,0 Z\"\n",
    "                style=\"stroke:purple; fill: purple;\"\n",
    "                transform=\"matrix(-0.4,0,0,-0.4,-4,0)\" />\n",
    "    </marker>\n",
    "    <g transform=\"scale(1, -1)\">\n",
    "        <path d=\"m 0,-4.5, 0,9\"\n",
    "            style=\"stroke:black;stroke-width:0.1;marker-end:url(#marker_arrow_black)\" />\n",
    "        <path d=\"m -4.5,0, 9,0\"\n",
    "            style=\"stroke:black;stroke-width:0.1;marker-end:url(#marker_arrow_black)\" />\n",
    "        <g id=\"black_markers\"></g>\n",
    "        \n",
    "        <g id=\"bsp1_content\" transform=\"matrix(1, 0, 0, 1, 0, 0)\">\n",
    "            <path d=\"m 0,-4.5, 0,9\" fill-opacity=\"0.5\" stroke-opacity=\"0.5\"\n",
    "                style=\"stroke:gray;stroke-width:0.1;marker-end:url(#marker_arrow)\" />\n",
    "            <path d=\"m -4.5,0, 9,0\" fill-opacity=\"0.5\" stroke-opacity=\"0.5\"\n",
    "                style=\"stroke:gray;stroke-width:0.1;marker-end:url(#marker_arrow)\" />\n",
    "            <g id=\"gray_markers\"></g>\n",
    "            \n",
    "            <rect x=\"1\" y=\"1\" width=\"2\" height=\"2\" fill=\"blue\" stroke=\"black\" \n",
    "                stroke-width=\"0.1\" />\n",
    "            <line x1=\"1\" y1=\"1\" x2=\"0\" y2=\"1\" stroke=\"black\" stroke-width=\"0.04\" stroke-dasharray=\"0.04, 0.04\" \n",
    "                stroke-opacity=\"0.5\" />\n",
    "            <line x1=\"1\" y1=\"1\" x2=\"1\" y2=\"0\" stroke=\"black\" stroke-width=\"0.04\" stroke-dasharray=\"0.04, 0.04\" \n",
    "                stroke-opacity=\"0.5\" />\n",
    "            <line x1=\"3\" y1=\"1\" x2=\"3\" y2=\"0\" stroke=\"black\" stroke-width=\"0.04\" stroke-dasharray=\"0.04, 0.04\" \n",
    "                stroke-opacity=\"0.5\" />\n",
    "            <line x1=\"1\" y1=\"3\" x2=\"0\" y2=\"3\" stroke=\"black\" stroke-width=\"0.04\" stroke-dasharray=\"0.04, 0.04\" \n",
    "                stroke-opacity=\"0.5\" />\n",
    "            <polygon points=\"350,75  379,161 469,161 397,215 423,301 350,250 277,301 303,215 231,161 321,161\"\n",
    "                style=\"fill:green;stroke:black;stroke-width:5;fill-rule:evenodd;\"\n",
    "                transform=\"translate(-8, -6) scale(0.015)\" />\n",
    "            <polygon points=\"-1,1 -1,3 -3,1\" style=\"fill:orange;stroke:black;stroke-width:0.1;fill-rule:evenodd;\" />\n",
    "            <text x=\"0.5\" y=\"3\" style=\"font-size: 1.8\" transform=\"scale(1, -1)\" stroke=\"balck\" fill=\"brown\"\n",
    "                    font-family=\"MathJax_Script\">\n",
    "                <tspan stroke=\"black\" stroke-width=\"0.07\">KIT</tspan>\n",
    "            </text>\n",
    "            \n",
    "            <!--\n",
    "            <path id=\"eigen1\" d=\"m 0,0, 0,3\"\n",
    "                style=\"stroke:red;stroke-width:0.1;marker-end:url(#marker_arrow_red)\" />\n",
    "            <path id=\"eigen2\" d=\"m 0,0, 3,0\"\n",
    "                style=\"stroke:purple;stroke-width:0.1;marker-end:url(#marker_arrow_purple)\" />\n",
    "            -->\n",
    "        </g>\n",
    "        <!--\n",
    "        <path id=\"eigen1_out\" d=\"m 0,0, 0,3\"\n",
    "            style=\"stroke:red;stroke-width:0.1;marker-end:url(#marker_arrow_red)\" />\n",
    "        <path id=\"eigen2_out\" d=\"m 0,0, 3,0\"\n",
    "            style=\"stroke:purple;stroke-width:0.1;marker-end:url(#marker_arrow_purple);\" />\n",
    "        -->\n",
    "    </g>\n",
    "</svg>\n",
    "\n",
    "<script type=\"text/javascript\">\n",
    "    function marker_text(stroke, params) {\n",
    "        s = \"\";\n",
    "        for(y = -4.0; y < 4; y += 1.0) {\n",
    "            s += '<line x1=\"-0.2\" x2=\"0.2\" y1=\"' + y + '\" y2=\"' + y +\n",
    "                   '\" stroke=\"' + stroke + '\" stroke-width=\"0.05\" ' + params + ' />\\n';\n",
    "        }\n",
    "        for(x = -4.0; x < 4; x += 1.0) {\n",
    "            s +=  '<line y1=\"-0.2\" y2=\"0.2\" x1=\"' + x + '\" x2=\"' + x \n",
    "                  + '\" stroke=\"' + stroke + '\" stroke-width=\"0.05\" />\\n';\n",
    "        }\n",
    "        return s;\n",
    "    }\n",
    "    \n",
    "    document.getElementById(\"black_markers\").innerHTML = marker_text(\"black\");\n",
    "    document.getElementById(\"gray_markers\").innerHTML = \n",
    "        marker_text(\"gray\", 'fill-opacity=\"0.5\" stroke-opacity=\"0.5\"');\n",
    "</script>\n",
    "\n",
    "</center>"
   ]
  },
  {
   "cell_type": "markdown",
   "metadata": {
    "slideshow": {
     "slide_type": "slide"
    }
   },
   "source": [
    "# Blatt 2 Aufgabe 1b\n",
    "\n",
    "Berechnen Sie die Determinanten folgender Matrizen\n",
    "$$\n",
    "A = \n",
    "    \\begin{pmatrix} \n",
    "        1 & 1 & −1 & −1 \\\\ \n",
    "        1 & −1 & 1 & −1 \\\\ 1 & −1 & −1 & 1 \\\\\n",
    "        1 & 1 & 1 & 1\n",
    "    \\end{pmatrix} \\;, \n",
    "\\;\\;\\;\\;   \n",
    "B = \n",
    "    \\begin{pmatrix} \n",
    "        1 & 2 & 3 & 4 \\\\\n",
    "        −1& 0 & 1 & 1 \\\\\n",
    "        3 &−1 & 4 & 0 \\\\\n",
    "        4 & 3 & 2 & 1\n",
    "    \\end{pmatrix} \\;,\n",
    "\\;\\;\\;\\; \n",
    "\\\\\n",
    "C = \n",
    "    \\begin{pmatrix}\n",
    "        4 & 1 & 1 & \\alpha + 1 \\\\ \n",
    "        1 & 1 & 0 & 2          \\\\\n",
    "        1 & 0 & 1 & 2          \\\\\n",
    "        3 & 1 & 1 & \\alpha\n",
    "    \\end{pmatrix}.\n",
    "$$\n",
    "Für welche $\\alpha \\in \\mathbb{C}$ ist $C$ regulär?"
   ]
  },
  {
   "cell_type": "code",
   "execution_count": 59,
   "metadata": {
    "collapsed": true
   },
   "outputs": [],
   "source": [
    "from sympy.interactive.printing import init_printing\n",
    "init_printing(use_latex='mathjax')\n",
    "from sympy.matrices import Matrix\n",
    "from sympy import Symbol\n",
    "import sympy as sy"
   ]
  },
  {
   "cell_type": "code",
   "execution_count": 60,
   "metadata": {
    "collapsed": true
   },
   "outputs": [],
   "source": [
    "from sympy.printing.latex import latex"
   ]
  },
  {
   "cell_type": "code",
   "execution_count": 61,
   "metadata": {
    "collapsed": true
   },
   "outputs": [],
   "source": [
    "def mathtex(sy_obj, style=\"p\"):\n",
    "    return latex(sy_obj).replace(\"\\\\left[\\\\begin{matrix}\", \"\\\\begin{%smatrix}\" % style) \\\n",
    "                        .replace(\"\\\\end{matrix}\\\\right]\", \"\\\\end{%smatrix}\" % style)"
   ]
  },
  {
   "cell_type": "code",
   "execution_count": 62,
   "metadata": {
    "collapsed": true
   },
   "outputs": [],
   "source": [
    "def tex2py(tex):\n",
    "    return tex.replace(\"\\\\begin{pmatrix}\", \"[[\") \\\n",
    "              .replace(\"&\", \",\") \\\n",
    "              .replace(\"\\\\\\\\\", \"],[\") \\\n",
    "              .replace(\"\\\\end{pmatrix}\", \"]]\") \\\n",
    "              .replace(\"\\n\", \"\") \\\n",
    "              .replace(\"\\r\", \"\") \\\n",
    "              .replace(\" \", \"\") \\\n",
    "              .replace(\"−\", \"-\") \\\n",
    "              .replace(\"\\\\alpha\", \"a\")\n",
    "\n",
    "def asList(tex):\n",
    "    return eval(tex2py(tex))\n",
    "\n",
    "def asNp(tex):\n",
    "    return np.array(asList(tex))\n",
    "\n",
    "def asMatrix(tex):\n",
    "    return Matrix(asList(tex))\n",
    "\n",
    "def asFunc(tex):\n",
    "    return eval(\"lambda a: np.array(\" + tex2py(tex) + \")\")\n",
    "\n",
    "\n",
    "def asSy(tex):\n",
    "    a = Symbol('\\\\alpha', real=True, positive=True)\n",
    "    return eval(\"Matrix(\" + tex2py(tex) + \")\")\n",
    "\n",
    "A = asMatrix( \"\"\"\n",
    "        \\\\begin{pmatrix} \n",
    "            1 & 1 & −1 & −1 \\\\\\\\ \n",
    "            1 & −1 & 1 & −1 \\\\\\\\ \n",
    "            1 & −1 & −1 & 1 \\\\\\\\\n",
    "            1 & 1 & 1 & 1\n",
    "        \\\\end{pmatrix}\n",
    "        \"\"\")\n",
    "\n",
    "B = asMatrix( \"\"\"\n",
    "        \\\\begin{pmatrix} \n",
    "            1 & 2 & 3 & 4 \\\\\\\\\n",
    "            −1& 0 & 1 & 1 \\\\\\\\\n",
    "            3 &−1 & 4 & 0 \\\\\\\\\n",
    "            4 & 3 & 2 & 1\n",
    "        \\\\end{pmatrix}\n",
    "        \"\"\")\n",
    "\n",
    "C = asFunc(\"\"\"\n",
    "        \\\\begin{pmatrix}\n",
    "            4 & 1 & 1 & \\\\alpha + 1 \\\\\\\\ \n",
    "            1 & 1 & 0 & 2          \\\\\\\\\n",
    "            1 & 0 & 1 & 2          \\\\\\\\\n",
    "            3 & 1 & 1 & \\\\alpha\n",
    "        \\\\end{pmatrix}\n",
    "        \"\"\")\n",
    "\n",
    "syC = asSy(\"\"\"\n",
    "        \\\\begin{pmatrix}\n",
    "            4 & 1 & 1 & \\\\alpha + 1 \\\\\\\\ \n",
    "            1 & 1 & 0 & 2          \\\\\\\\\n",
    "            1 & 0 & 1 & 2          \\\\\\\\\n",
    "            3 & 1 & 1 & \\\\alpha\n",
    "        \\\\end{pmatrix}\n",
    "        \"\"\")"
   ]
  },
  {
   "cell_type": "code",
   "execution_count": 63,
   "metadata": {
    "slideshow": {
     "slide_type": "skip"
    }
   },
   "outputs": [
    {
     "data": {
      "text/latex": [
       "b = \\begin{bmatrix} 1 & 2 \\\\ 3 & 4 \\end{bmatrix}"
      ],
      "text/plain": [
       "<IPython.core.display.Latex object>"
      ]
     },
     "metadata": {},
     "output_type": "display_data"
    },
    {
     "data": {
      "text/latex": [
       "p = \\begin{pmatrix} 1 & 2 \\\\ 3 & 4 \\end{pmatrix}"
      ],
      "text/plain": [
       "<IPython.core.display.Latex object>"
      ]
     },
     "metadata": {},
     "output_type": "display_data"
    },
    {
     "data": {
      "text/latex": [
       "v = \\begin{vmatrix} 1 & 2 \\\\ 3 & 4 \\end{vmatrix}"
      ],
      "text/plain": [
       "<IPython.core.display.Latex object>"
      ]
     },
     "metadata": {},
     "output_type": "display_data"
    }
   ],
   "source": [
    "for c in \"bpv\":\n",
    "    disp.display(disp.Latex(\"%s = \\\\begin{%smatrix} 1 & 2 \\\\\\\\ 3 & 4 \\\\end{%smatrix}\" % (c, c, c)))"
   ]
  },
  {
   "cell_type": "code",
   "execution_count": 67,
   "metadata": {
    "collapsed": true,
    "slideshow": {
     "slide_type": "skip"
    }
   },
   "outputs": [],
   "source": [
    "def det(A):\n",
    "    s = \"\"\n",
    "    if A.cols == 2:\n",
    "        s += \"%s\" % A.det()\n",
    "    else:\n",
    "        for c in range(A.cols):\n",
    "            if A.cols == 4 and c == 2:\n",
    "                s += \"\\\\\\\\\"\n",
    "            if A[0, c] > 0:\n",
    "                s += \"+\" if c%2 == 0 else \"-\"\n",
    "                s += \"%s\" % A[0, c]\n",
    "            elif A[0, c] < 0:\n",
    "                s += \"-\" if c%2 == 0 else \"+\"\n",
    "                s += \"%s\" % (-A[0, c])\n",
    "            else:\n",
    "                continue # Multiplying by 0 means 0 is the result no matter what\n",
    "            B = A.copy()\n",
    "            B.row_del(0)\n",
    "            B.col_del(c)\n",
    "            s += \"\\\\underbrace{\"\n",
    "            s += mathtex(B, 'v')\n",
    "            s += \"}_{\"\n",
    "            s += det(B)\n",
    "            s += \"}\"\n",
    "    return s\n",
    "\n",
    "def display_det(name, A):\n",
    "    s = \"\"\n",
    "    if name is not None:\n",
    "        s = str(A.det()) + \" = \" + \"\\\\det \\\\big(\" + name + \"\\\\big) = \"\n",
    "    return disp.HTML(\"$$\" + s + mathtex(A, 'v') + \" = \\\\\\\\\" + det(A) + \"$$\")"
   ]
  },
  {
   "cell_type": "code",
   "execution_count": 68,
   "metadata": {
    "slideshow": {
     "slide_type": "subslide"
    }
   },
   "outputs": [
    {
     "data": {
      "text/html": [
       "$$\\begin{vmatrix}d_{0,0} & d_{0,1} & d_{0,2} & d_{0,3}\\\\d_{1,0} & d_{1,1} & d_{1,2} & d_{1,3}\\\\d_{2,0} & d_{2,1} & d_{2,2} & d_{2,3}\\\\d_{3,0} & d_{3,1} & d_{3,2} & d_{3,3}\\end{vmatrix} = \\\\+d_{0,0}\\underbrace{\\begin{vmatrix}d_{1,1} & d_{1,2} & d_{1,3}\\\\d_{2,1} & d_{2,2} & d_{2,3}\\\\d_{3,1} & d_{3,2} & d_{3,3}\\end{vmatrix}}_{+d_{1,1}\\underbrace{\\begin{vmatrix}d_{2,2} & d_{2,3}\\\\d_{3,2} & d_{3,3}\\end{vmatrix}}_{d_{2,2}*d_{3,3} - d_{2,3}*d_{3,2}}-d_{1,2}\\underbrace{\\begin{vmatrix}d_{2,1} & d_{2,3}\\\\d_{3,1} & d_{3,3}\\end{vmatrix}}_{d_{2,1}*d_{3,3} - d_{2,3}*d_{3,1}}+d_{1,3}\\underbrace{\\begin{vmatrix}d_{2,1} & d_{2,2}\\\\d_{3,1} & d_{3,2}\\end{vmatrix}}_{d_{2,1}*d_{3,2} - d_{2,2}*d_{3,1}}}-d_{0,1}\\underbrace{\\begin{vmatrix}d_{1,0} & d_{1,2} & d_{1,3}\\\\d_{2,0} & d_{2,2} & d_{2,3}\\\\d_{3,0} & d_{3,2} & d_{3,3}\\end{vmatrix}}_{+d_{1,0}\\underbrace{\\begin{vmatrix}d_{2,2} & d_{2,3}\\\\d_{3,2} & d_{3,3}\\end{vmatrix}}_{d_{2,2}*d_{3,3} - d_{2,3}*d_{3,2}}-d_{1,2}\\underbrace{\\begin{vmatrix}d_{2,0} & d_{2,3}\\\\d_{3,0} & d_{3,3}\\end{vmatrix}}_{d_{2,0}*d_{3,3} - d_{2,3}*d_{3,0}}+d_{1,3}\\underbrace{\\begin{vmatrix}d_{2,0} & d_{2,2}\\\\d_{3,0} & d_{3,2}\\end{vmatrix}}_{d_{2,0}*d_{3,2} - d_{2,2}*d_{3,0}}}\\\\+d_{0,2}\\underbrace{\\begin{vmatrix}d_{1,0} & d_{1,1} & d_{1,3}\\\\d_{2,0} & d_{2,1} & d_{2,3}\\\\d_{3,0} & d_{3,1} & d_{3,3}\\end{vmatrix}}_{+d_{1,0}\\underbrace{\\begin{vmatrix}d_{2,1} & d_{2,3}\\\\d_{3,1} & d_{3,3}\\end{vmatrix}}_{d_{2,1}*d_{3,3} - d_{2,3}*d_{3,1}}-d_{1,1}\\underbrace{\\begin{vmatrix}d_{2,0} & d_{2,3}\\\\d_{3,0} & d_{3,3}\\end{vmatrix}}_{d_{2,0}*d_{3,3} - d_{2,3}*d_{3,0}}+d_{1,3}\\underbrace{\\begin{vmatrix}d_{2,0} & d_{2,1}\\\\d_{3,0} & d_{3,1}\\end{vmatrix}}_{d_{2,0}*d_{3,1} - d_{2,1}*d_{3,0}}}-d_{0,3}\\underbrace{\\begin{vmatrix}d_{1,0} & d_{1,1} & d_{1,2}\\\\d_{2,0} & d_{2,1} & d_{2,2}\\\\d_{3,0} & d_{3,1} & d_{3,2}\\end{vmatrix}}_{+d_{1,0}\\underbrace{\\begin{vmatrix}d_{2,1} & d_{2,2}\\\\d_{3,1} & d_{3,2}\\end{vmatrix}}_{d_{2,1}*d_{3,2} - d_{2,2}*d_{3,1}}-d_{1,1}\\underbrace{\\begin{vmatrix}d_{2,0} & d_{2,2}\\\\d_{3,0} & d_{3,2}\\end{vmatrix}}_{d_{2,0}*d_{3,2} - d_{2,2}*d_{3,0}}+d_{1,2}\\underbrace{\\begin{vmatrix}d_{2,0} & d_{2,1}\\\\d_{3,0} & d_{3,1}\\end{vmatrix}}_{d_{2,0}*d_{3,1} - d_{2,1}*d_{3,0}}}$$"
      ],
      "text/plain": [
       "<IPython.core.display.HTML object>"
      ]
     },
     "execution_count": 68,
     "metadata": {},
     "output_type": "execute_result"
    }
   ],
   "source": [
    "N = 4\n",
    "D = Matrix([[Symbol(\"d_{%s,%s}\" % (j, i), real=True, positive=True) for i in range(N)] for j in range(N)])\n",
    "display_det(None, D)"
   ]
  },
  {
   "cell_type": "code",
   "execution_count": 69,
   "metadata": {
    "slideshow": {
     "slide_type": "subslide"
    }
   },
   "outputs": [
    {
     "data": {
      "text/html": [
       "$$16 = \\det \\big(A\\big) = \\begin{vmatrix}1 & 1 & -1 & -1\\\\1 & -1 & 1 & -1\\\\1 & -1 & -1 & 1\\\\1 & 1 & 1 & 1\\end{vmatrix} = \\\\+1\\underbrace{\\begin{vmatrix}-1 & 1 & -1\\\\-1 & -1 & 1\\\\1 & 1 & 1\\end{vmatrix}}_{-1\\underbrace{\\begin{vmatrix}-1 & 1\\\\1 & 1\\end{vmatrix}}_{-2}-1\\underbrace{\\begin{vmatrix}-1 & 1\\\\1 & 1\\end{vmatrix}}_{-2}-1\\underbrace{\\begin{vmatrix}-1 & -1\\\\1 & 1\\end{vmatrix}}_{0}}-1\\underbrace{\\begin{vmatrix}1 & 1 & -1\\\\1 & -1 & 1\\\\1 & 1 & 1\\end{vmatrix}}_{+1\\underbrace{\\begin{vmatrix}-1 & 1\\\\1 & 1\\end{vmatrix}}_{-2}-1\\underbrace{\\begin{vmatrix}1 & 1\\\\1 & 1\\end{vmatrix}}_{0}-1\\underbrace{\\begin{vmatrix}1 & -1\\\\1 & 1\\end{vmatrix}}_{2}}\\\\-1\\underbrace{\\begin{vmatrix}1 & -1 & -1\\\\1 & -1 & 1\\\\1 & 1 & 1\\end{vmatrix}}_{+1\\underbrace{\\begin{vmatrix}-1 & 1\\\\1 & 1\\end{vmatrix}}_{-2}+1\\underbrace{\\begin{vmatrix}1 & 1\\\\1 & 1\\end{vmatrix}}_{0}-1\\underbrace{\\begin{vmatrix}1 & -1\\\\1 & 1\\end{vmatrix}}_{2}}+1\\underbrace{\\begin{vmatrix}1 & -1 & 1\\\\1 & -1 & -1\\\\1 & 1 & 1\\end{vmatrix}}_{+1\\underbrace{\\begin{vmatrix}-1 & -1\\\\1 & 1\\end{vmatrix}}_{0}+1\\underbrace{\\begin{vmatrix}1 & -1\\\\1 & 1\\end{vmatrix}}_{2}+1\\underbrace{\\begin{vmatrix}1 & -1\\\\1 & 1\\end{vmatrix}}_{2}}$$"
      ],
      "text/plain": [
       "<IPython.core.display.HTML object>"
      ]
     },
     "execution_count": 69,
     "metadata": {},
     "output_type": "execute_result"
    }
   ],
   "source": [
    "display_det(\"A\", A)"
   ]
  },
  {
   "cell_type": "code",
   "execution_count": 70,
   "metadata": {
    "slideshow": {
     "slide_type": "subslide"
    }
   },
   "outputs": [
    {
     "data": {
      "text/html": [
       "$$-45 = \\det \\big(B\\big) = \\begin{vmatrix}1 & 2 & 3 & 4\\\\-1 & 0 & 1 & 1\\\\3 & -1 & 4 & 0\\\\4 & 3 & 2 & 1\\end{vmatrix} = \\\\+1\\underbrace{\\begin{vmatrix}0 & 1 & 1\\\\-1 & 4 & 0\\\\3 & 2 & 1\\end{vmatrix}}_{-1\\underbrace{\\begin{vmatrix}-1 & 0\\\\3 & 1\\end{vmatrix}}_{-1}+1\\underbrace{\\begin{vmatrix}-1 & 4\\\\3 & 2\\end{vmatrix}}_{-14}}-2\\underbrace{\\begin{vmatrix}-1 & 1 & 1\\\\3 & 4 & 0\\\\4 & 2 & 1\\end{vmatrix}}_{-1\\underbrace{\\begin{vmatrix}4 & 0\\\\2 & 1\\end{vmatrix}}_{4}-1\\underbrace{\\begin{vmatrix}3 & 0\\\\4 & 1\\end{vmatrix}}_{3}+1\\underbrace{\\begin{vmatrix}3 & 4\\\\4 & 2\\end{vmatrix}}_{-10}}\\\\+3\\underbrace{\\begin{vmatrix}-1 & 0 & 1\\\\3 & -1 & 0\\\\4 & 3 & 1\\end{vmatrix}}_{-1\\underbrace{\\begin{vmatrix}-1 & 0\\\\3 & 1\\end{vmatrix}}_{-1}+1\\underbrace{\\begin{vmatrix}3 & -1\\\\4 & 3\\end{vmatrix}}_{13}}-4\\underbrace{\\begin{vmatrix}-1 & 0 & 1\\\\3 & -1 & 4\\\\4 & 3 & 2\\end{vmatrix}}_{-1\\underbrace{\\begin{vmatrix}-1 & 4\\\\3 & 2\\end{vmatrix}}_{-14}+1\\underbrace{\\begin{vmatrix}3 & -1\\\\4 & 3\\end{vmatrix}}_{13}}$$"
      ],
      "text/plain": [
       "<IPython.core.display.HTML object>"
      ]
     },
     "execution_count": 70,
     "metadata": {},
     "output_type": "execute_result"
    }
   ],
   "source": [
    "display_det(\"B\", B)"
   ]
  },
  {
   "cell_type": "code",
   "execution_count": 71,
   "metadata": {
    "slideshow": {
     "slide_type": "subslide"
    }
   },
   "outputs": [
    {
     "data": {
      "text/html": [
       "$$\\alpha - 5 = \\det \\big(C\\big) = \\begin{vmatrix}4 & 1 & 1 & \\alpha + 1\\\\1 & 1 & 0 & 2\\\\1 & 0 & 1 & 2\\\\3 & 1 & 1 & \\alpha\\end{vmatrix} = \\\\+4\\underbrace{\\begin{vmatrix}1 & 0 & 2\\\\0 & 1 & 2\\\\1 & 1 & \\alpha\\end{vmatrix}}_{+1\\underbrace{\\begin{vmatrix}1 & 2\\\\1 & \\alpha\\end{vmatrix}}_{\\alpha - 2}+2\\underbrace{\\begin{vmatrix}0 & 1\\\\1 & 1\\end{vmatrix}}_{-1}}-1\\underbrace{\\begin{vmatrix}1 & 0 & 2\\\\1 & 1 & 2\\\\3 & 1 & \\alpha\\end{vmatrix}}_{+1\\underbrace{\\begin{vmatrix}1 & 2\\\\1 & \\alpha\\end{vmatrix}}_{\\alpha - 2}+2\\underbrace{\\begin{vmatrix}1 & 1\\\\3 & 1\\end{vmatrix}}_{-2}}\\\\+1\\underbrace{\\begin{vmatrix}1 & 1 & 2\\\\1 & 0 & 2\\\\3 & 1 & \\alpha\\end{vmatrix}}_{+1\\underbrace{\\begin{vmatrix}0 & 2\\\\1 & \\alpha\\end{vmatrix}}_{-2}-1\\underbrace{\\begin{vmatrix}1 & 2\\\\3 & \\alpha\\end{vmatrix}}_{\\alpha - 6}+2\\underbrace{\\begin{vmatrix}1 & 0\\\\3 & 1\\end{vmatrix}}_{1}}-\\alpha + 1\\underbrace{\\begin{vmatrix}1 & 1 & 0\\\\1 & 0 & 1\\\\3 & 1 & 1\\end{vmatrix}}_{+1\\underbrace{\\begin{vmatrix}0 & 1\\\\1 & 1\\end{vmatrix}}_{-1}-1\\underbrace{\\begin{vmatrix}1 & 1\\\\3 & 1\\end{vmatrix}}_{-2}}$$"
      ],
      "text/plain": [
       "<IPython.core.display.HTML object>"
      ]
     },
     "execution_count": 71,
     "metadata": {},
     "output_type": "execute_result"
    }
   ],
   "source": [
    "display_det(\"C\", syC)"
   ]
  },
  {
   "cell_type": "markdown",
   "metadata": {
    "slideshow": {
     "slide_type": "slide"
    }
   },
   "source": [
    "# Blatt 2 Aufgabe 3\n",
    "\n",
    "Seien $A,B \\in \\mathbb{C}^{n \\times n}$. Welche der folgenden Aussagen gelten?\n",
    " * **a)** Die Determinante ist eine lineare Abbildung von $\\mathbb{C}^{n \\times n}$ nach $\\mathbb{C}$.\n",
    " * **b)** $\\det \\big( A+B \\big) = \\det\\big(A\\big) + \\det\\big(B\\big)$.\n",
    " * **c)** $\\det\\bigg( \\big(\\det(A) \\big)B \\bigg) = \\big(\\det(A) \\big)^n \\det(B)$."
   ]
  },
  {
   "cell_type": "markdown",
   "metadata": {
    "slideshow": {
     "slide_type": "slide"
    }
   },
   "source": [
    "<center>\n",
    "<span style=\"font-size: 40pt; line-height: 100px;\">\n",
    "Vielen Dank\n",
    "</span>\n",
    "</center>"
   ]
  },
  {
   "cell_type": "code",
   "execution_count": 82,
   "metadata": {
    "slideshow": {
     "slide_type": "skip"
    }
   },
   "outputs": [
    {
     "name": "stdout",
     "output_type": "stream",
     "text": [
      "[NbConvertApp] Converting notebook Tut02.ipynb to slides\n",
      "[NbConvertApp] Writing 297689 bytes to Tut02.slides.html\n",
      "custom.css  Tut02.ipynb  Tut02.slides.html\n"
     ]
    }
   ],
   "source": [
    "# Don't forget to save first\n",
    "!jupyter nbconvert Tut02.ipynb --to slides --reveal-prefix ./../../../../reveal --SlidesExporter.reveal_theme=white\n",
    "!ls"
   ]
  },
  {
   "cell_type": "code",
   "execution_count": null,
   "metadata": {
    "collapsed": true
   },
   "outputs": [],
   "source": []
  }
 ],
 "metadata": {
  "celltoolbar": "Slideshow",
  "kernelspec": {
   "display_name": "Python 3",
   "language": "python",
   "name": "python3"
  },
  "language_info": {
   "codemirror_mode": {
    "name": "ipython",
    "version": 3
   },
   "file_extension": ".py",
   "mimetype": "text/x-python",
   "name": "python",
   "nbconvert_exporter": "python",
   "pygments_lexer": "ipython3",
   "version": "3.5.2"
  }
 },
 "nbformat": 4,
 "nbformat_minor": 2
}
