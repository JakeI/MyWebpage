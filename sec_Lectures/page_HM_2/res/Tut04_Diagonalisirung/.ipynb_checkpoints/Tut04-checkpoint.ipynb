{
 "cells": [
  {
   "cell_type": "code",
   "execution_count": 1,
   "metadata": {
    "collapsed": true,
    "slideshow": {
     "slide_type": "skip"
    }
   },
   "outputs": [],
   "source": [
    "%matplotlib qt5\n",
    "import matplotlib.pyplot as plt\n",
    "import numpy as np\n",
    "\n",
    "import IPython.display as disp"
   ]
  },
  {
   "cell_type": "code",
   "execution_count": 2,
   "metadata": {
    "collapsed": true,
    "slideshow": {
     "slide_type": "skip"
    }
   },
   "outputs": [],
   "source": [
    "%matplotlib inline"
   ]
  },
  {
   "cell_type": "code",
   "execution_count": 13,
   "metadata": {
    "slideshow": {
     "slide_type": "notes"
    }
   },
   "outputs": [
    {
     "data": {
      "text/html": [
       "\n",
       "    <div class=\"bk-root\">\n",
       "        <a href=\"https://bokeh.pydata.org\" target=\"_blank\" class=\"bk-logo bk-logo-small bk-logo-notebook\"></a>\n",
       "        <span id=\"a1e019ea-a2f7-454a-83c6-c926083f7fd7\">Loading BokehJS ...</span>\n",
       "    </div>"
      ]
     },
     "metadata": {},
     "output_type": "display_data"
    },
    {
     "data": {
      "application/javascript": [
       "\n",
       "(function(root) {\n",
       "  function now() {\n",
       "    return new Date();\n",
       "  }\n",
       "\n",
       "  var force = true;\n",
       "\n",
       "  if (typeof (root._bokeh_onload_callbacks) === \"undefined\" || force === true) {\n",
       "    root._bokeh_onload_callbacks = [];\n",
       "    root._bokeh_is_loading = undefined;\n",
       "  }\n",
       "\n",
       "  var JS_MIME_TYPE = 'application/javascript';\n",
       "  var HTML_MIME_TYPE = 'text/html';\n",
       "  var EXEC_MIME_TYPE = 'application/vnd.bokehjs_exec.v0+json';\n",
       "  var CLASS_NAME = 'output_bokeh rendered_html';\n",
       "\n",
       "  /**\n",
       "   * Render data to the DOM node\n",
       "   */\n",
       "  function render(props, node) {\n",
       "    var script = document.createElement(\"script\");\n",
       "    node.appendChild(script);\n",
       "  }\n",
       "\n",
       "  /**\n",
       "   * Handle when an output is cleared or removed\n",
       "   */\n",
       "  function handleClearOutput(event, handle) {\n",
       "    var cell = handle.cell;\n",
       "\n",
       "    var id = cell.output_area._bokeh_element_id;\n",
       "    var server_id = cell.output_area._bokeh_server_id;\n",
       "    // Clean up Bokeh references\n",
       "    if (id !== undefined) {\n",
       "      Bokeh.index[id].model.document.clear();\n",
       "      delete Bokeh.index[id];\n",
       "    }\n",
       "\n",
       "    if (server_id !== undefined) {\n",
       "      // Clean up Bokeh references\n",
       "      var cmd = \"from bokeh.io.state import curstate; print(curstate().uuid_to_server['\" + server_id + \"'].get_sessions()[0].document.roots[0]._id)\";\n",
       "      cell.notebook.kernel.execute(cmd, {\n",
       "        iopub: {\n",
       "          output: function(msg) {\n",
       "            var element_id = msg.content.text.trim();\n",
       "            Bokeh.index[element_id].model.document.clear();\n",
       "            delete Bokeh.index[element_id];\n",
       "          }\n",
       "        }\n",
       "      });\n",
       "      // Destroy server and session\n",
       "      var cmd = \"import bokeh.io.notebook as ion; ion.destroy_server('\" + server_id + \"')\";\n",
       "      cell.notebook.kernel.execute(cmd);\n",
       "    }\n",
       "  }\n",
       "\n",
       "  /**\n",
       "   * Handle when a new output is added\n",
       "   */\n",
       "  function handleAddOutput(event, handle) {\n",
       "    var output_area = handle.output_area;\n",
       "    var output = handle.output;\n",
       "\n",
       "    // limit handleAddOutput to display_data with EXEC_MIME_TYPE content only\n",
       "    if ((output.output_type != \"display_data\") || (!output.data.hasOwnProperty(EXEC_MIME_TYPE))) {\n",
       "      return\n",
       "    }\n",
       "\n",
       "    var toinsert = output_area.element.find(\".\" + CLASS_NAME.split(' ')[0]);\n",
       "\n",
       "    if (output.metadata[EXEC_MIME_TYPE][\"id\"] !== undefined) {\n",
       "      toinsert[toinsert.length - 1].firstChild.textContent = output.data[JS_MIME_TYPE];\n",
       "      // store reference to embed id on output_area\n",
       "      output_area._bokeh_element_id = output.metadata[EXEC_MIME_TYPE][\"id\"];\n",
       "    }\n",
       "    if (output.metadata[EXEC_MIME_TYPE][\"server_id\"] !== undefined) {\n",
       "      var bk_div = document.createElement(\"div\");\n",
       "      bk_div.innerHTML = output.data[HTML_MIME_TYPE];\n",
       "      var script_attrs = bk_div.children[0].attributes;\n",
       "      for (var i = 0; i < script_attrs.length; i++) {\n",
       "        toinsert[toinsert.length - 1].firstChild.setAttribute(script_attrs[i].name, script_attrs[i].value);\n",
       "      }\n",
       "      // store reference to server id on output_area\n",
       "      output_area._bokeh_server_id = output.metadata[EXEC_MIME_TYPE][\"server_id\"];\n",
       "    }\n",
       "  }\n",
       "\n",
       "  function register_renderer(events, OutputArea) {\n",
       "\n",
       "    function append_mime(data, metadata, element) {\n",
       "      // create a DOM node to render to\n",
       "      var toinsert = this.create_output_subarea(\n",
       "        metadata,\n",
       "        CLASS_NAME,\n",
       "        EXEC_MIME_TYPE\n",
       "      );\n",
       "      this.keyboard_manager.register_events(toinsert);\n",
       "      // Render to node\n",
       "      var props = {data: data, metadata: metadata[EXEC_MIME_TYPE]};\n",
       "      render(props, toinsert[toinsert.length - 1]);\n",
       "      element.append(toinsert);\n",
       "      return toinsert\n",
       "    }\n",
       "\n",
       "    /* Handle when an output is cleared or removed */\n",
       "    events.on('clear_output.CodeCell', handleClearOutput);\n",
       "    events.on('delete.Cell', handleClearOutput);\n",
       "\n",
       "    /* Handle when a new output is added */\n",
       "    events.on('output_added.OutputArea', handleAddOutput);\n",
       "\n",
       "    /**\n",
       "     * Register the mime type and append_mime function with output_area\n",
       "     */\n",
       "    OutputArea.prototype.register_mime_type(EXEC_MIME_TYPE, append_mime, {\n",
       "      /* Is output safe? */\n",
       "      safe: true,\n",
       "      /* Index of renderer in `output_area.display_order` */\n",
       "      index: 0\n",
       "    });\n",
       "  }\n",
       "\n",
       "  // register the mime type if in Jupyter Notebook environment and previously unregistered\n",
       "  if (root.Jupyter !== undefined) {\n",
       "    var events = require('base/js/events');\n",
       "    var OutputArea = require('notebook/js/outputarea').OutputArea;\n",
       "\n",
       "    if (OutputArea.prototype.mime_types().indexOf(EXEC_MIME_TYPE) == -1) {\n",
       "      register_renderer(events, OutputArea);\n",
       "    }\n",
       "  }\n",
       "\n",
       "  \n",
       "  if (typeof (root._bokeh_timeout) === \"undefined\" || force === true) {\n",
       "    root._bokeh_timeout = Date.now() + 5000;\n",
       "    root._bokeh_failed_load = false;\n",
       "  }\n",
       "\n",
       "  var NB_LOAD_WARNING = {'data': {'text/html':\n",
       "     \"<div style='background-color: #fdd'>\\n\"+\n",
       "     \"<p>\\n\"+\n",
       "     \"BokehJS does not appear to have successfully loaded. If loading BokehJS from CDN, this \\n\"+\n",
       "     \"may be due to a slow or bad network connection. Possible fixes:\\n\"+\n",
       "     \"</p>\\n\"+\n",
       "     \"<ul>\\n\"+\n",
       "     \"<li>re-rerun `output_notebook()` to attempt to load from CDN again, or</li>\\n\"+\n",
       "     \"<li>use INLINE resources instead, as so:</li>\\n\"+\n",
       "     \"</ul>\\n\"+\n",
       "     \"<code>\\n\"+\n",
       "     \"from bokeh.resources import INLINE\\n\"+\n",
       "     \"output_notebook(resources=INLINE)\\n\"+\n",
       "     \"</code>\\n\"+\n",
       "     \"</div>\"}};\n",
       "\n",
       "  function display_loaded() {\n",
       "    var el = document.getElementById(\"a1e019ea-a2f7-454a-83c6-c926083f7fd7\");\n",
       "    if (el != null) {\n",
       "      el.textContent = \"BokehJS is loading...\";\n",
       "    }\n",
       "    if (root.Bokeh !== undefined) {\n",
       "      if (el != null) {\n",
       "        el.textContent = \"BokehJS \" + root.Bokeh.version + \" successfully loaded.\";\n",
       "      }\n",
       "    } else if (Date.now() < root._bokeh_timeout) {\n",
       "      setTimeout(display_loaded, 100)\n",
       "    }\n",
       "  }\n",
       "\n",
       "\n",
       "  function run_callbacks() {\n",
       "    try {\n",
       "      root._bokeh_onload_callbacks.forEach(function(callback) { callback() });\n",
       "    }\n",
       "    finally {\n",
       "      delete root._bokeh_onload_callbacks\n",
       "    }\n",
       "    console.info(\"Bokeh: all callbacks have finished\");\n",
       "  }\n",
       "\n",
       "  function load_libs(js_urls, callback) {\n",
       "    root._bokeh_onload_callbacks.push(callback);\n",
       "    if (root._bokeh_is_loading > 0) {\n",
       "      console.log(\"Bokeh: BokehJS is being loaded, scheduling callback at\", now());\n",
       "      return null;\n",
       "    }\n",
       "    if (js_urls == null || js_urls.length === 0) {\n",
       "      run_callbacks();\n",
       "      return null;\n",
       "    }\n",
       "    console.log(\"Bokeh: BokehJS not loaded, scheduling load and callback at\", now());\n",
       "    root._bokeh_is_loading = js_urls.length;\n",
       "    for (var i = 0; i < js_urls.length; i++) {\n",
       "      var url = js_urls[i];\n",
       "      var s = document.createElement('script');\n",
       "      s.src = url;\n",
       "      s.async = false;\n",
       "      s.onreadystatechange = s.onload = function() {\n",
       "        root._bokeh_is_loading--;\n",
       "        if (root._bokeh_is_loading === 0) {\n",
       "          console.log(\"Bokeh: all BokehJS libraries loaded\");\n",
       "          run_callbacks()\n",
       "        }\n",
       "      };\n",
       "      s.onerror = function() {\n",
       "        console.warn(\"failed to load library \" + url);\n",
       "      };\n",
       "      console.log(\"Bokeh: injecting script tag for BokehJS library: \", url);\n",
       "      document.getElementsByTagName(\"head\")[0].appendChild(s);\n",
       "    }\n",
       "  };var element = document.getElementById(\"a1e019ea-a2f7-454a-83c6-c926083f7fd7\");\n",
       "  if (element == null) {\n",
       "    console.log(\"Bokeh: ERROR: autoload.js configured with elementid 'a1e019ea-a2f7-454a-83c6-c926083f7fd7' but no matching script tag was found. \")\n",
       "    return false;\n",
       "  }\n",
       "\n",
       "  var js_urls = [\"https://cdn.pydata.org/bokeh/release/bokeh-0.12.16.min.js\", \"https://cdn.pydata.org/bokeh/release/bokeh-widgets-0.12.16.min.js\", \"https://cdn.pydata.org/bokeh/release/bokeh-tables-0.12.16.min.js\", \"https://cdn.pydata.org/bokeh/release/bokeh-gl-0.12.16.min.js\"];\n",
       "\n",
       "  var inline_js = [\n",
       "    function(Bokeh) {\n",
       "      Bokeh.set_log_level(\"info\");\n",
       "    },\n",
       "    \n",
       "    function(Bokeh) {\n",
       "      \n",
       "    },\n",
       "    function(Bokeh) {\n",
       "      console.log(\"Bokeh: injecting CSS: https://cdn.pydata.org/bokeh/release/bokeh-0.12.16.min.css\");\n",
       "      Bokeh.embed.inject_css(\"https://cdn.pydata.org/bokeh/release/bokeh-0.12.16.min.css\");\n",
       "      console.log(\"Bokeh: injecting CSS: https://cdn.pydata.org/bokeh/release/bokeh-widgets-0.12.16.min.css\");\n",
       "      Bokeh.embed.inject_css(\"https://cdn.pydata.org/bokeh/release/bokeh-widgets-0.12.16.min.css\");\n",
       "      console.log(\"Bokeh: injecting CSS: https://cdn.pydata.org/bokeh/release/bokeh-tables-0.12.16.min.css\");\n",
       "      Bokeh.embed.inject_css(\"https://cdn.pydata.org/bokeh/release/bokeh-tables-0.12.16.min.css\");\n",
       "    }\n",
       "  ];\n",
       "\n",
       "  function run_inline_js() {\n",
       "    \n",
       "    if ((root.Bokeh !== undefined) || (force === true)) {\n",
       "      for (var i = 0; i < inline_js.length; i++) {\n",
       "        inline_js[i].call(root, root.Bokeh);\n",
       "      }if (force === true) {\n",
       "        display_loaded();\n",
       "      }} else if (Date.now() < root._bokeh_timeout) {\n",
       "      setTimeout(run_inline_js, 100);\n",
       "    } else if (!root._bokeh_failed_load) {\n",
       "      console.log(\"Bokeh: BokehJS failed to load within specified timeout.\");\n",
       "      root._bokeh_failed_load = true;\n",
       "    } else if (force !== true) {\n",
       "      var cell = $(document.getElementById(\"a1e019ea-a2f7-454a-83c6-c926083f7fd7\")).parents('.cell').data().cell;\n",
       "      cell.output_area.append_execute_result(NB_LOAD_WARNING)\n",
       "    }\n",
       "\n",
       "  }\n",
       "\n",
       "  if (root._bokeh_is_loading === 0) {\n",
       "    console.log(\"Bokeh: BokehJS loaded, going straight to plotting\");\n",
       "    run_inline_js();\n",
       "  } else {\n",
       "    load_libs(js_urls, function() {\n",
       "      console.log(\"Bokeh: BokehJS plotting callback run at\", now());\n",
       "      run_inline_js();\n",
       "    });\n",
       "  }\n",
       "}(window));"
      ],
      "application/vnd.bokehjs_load.v0+json": "\n(function(root) {\n  function now() {\n    return new Date();\n  }\n\n  var force = true;\n\n  if (typeof (root._bokeh_onload_callbacks) === \"undefined\" || force === true) {\n    root._bokeh_onload_callbacks = [];\n    root._bokeh_is_loading = undefined;\n  }\n\n  \n\n  \n  if (typeof (root._bokeh_timeout) === \"undefined\" || force === true) {\n    root._bokeh_timeout = Date.now() + 5000;\n    root._bokeh_failed_load = false;\n  }\n\n  var NB_LOAD_WARNING = {'data': {'text/html':\n     \"<div style='background-color: #fdd'>\\n\"+\n     \"<p>\\n\"+\n     \"BokehJS does not appear to have successfully loaded. If loading BokehJS from CDN, this \\n\"+\n     \"may be due to a slow or bad network connection. Possible fixes:\\n\"+\n     \"</p>\\n\"+\n     \"<ul>\\n\"+\n     \"<li>re-rerun `output_notebook()` to attempt to load from CDN again, or</li>\\n\"+\n     \"<li>use INLINE resources instead, as so:</li>\\n\"+\n     \"</ul>\\n\"+\n     \"<code>\\n\"+\n     \"from bokeh.resources import INLINE\\n\"+\n     \"output_notebook(resources=INLINE)\\n\"+\n     \"</code>\\n\"+\n     \"</div>\"}};\n\n  function display_loaded() {\n    var el = document.getElementById(\"a1e019ea-a2f7-454a-83c6-c926083f7fd7\");\n    if (el != null) {\n      el.textContent = \"BokehJS is loading...\";\n    }\n    if (root.Bokeh !== undefined) {\n      if (el != null) {\n        el.textContent = \"BokehJS \" + root.Bokeh.version + \" successfully loaded.\";\n      }\n    } else if (Date.now() < root._bokeh_timeout) {\n      setTimeout(display_loaded, 100)\n    }\n  }\n\n\n  function run_callbacks() {\n    try {\n      root._bokeh_onload_callbacks.forEach(function(callback) { callback() });\n    }\n    finally {\n      delete root._bokeh_onload_callbacks\n    }\n    console.info(\"Bokeh: all callbacks have finished\");\n  }\n\n  function load_libs(js_urls, callback) {\n    root._bokeh_onload_callbacks.push(callback);\n    if (root._bokeh_is_loading > 0) {\n      console.log(\"Bokeh: BokehJS is being loaded, scheduling callback at\", now());\n      return null;\n    }\n    if (js_urls == null || js_urls.length === 0) {\n      run_callbacks();\n      return null;\n    }\n    console.log(\"Bokeh: BokehJS not loaded, scheduling load and callback at\", now());\n    root._bokeh_is_loading = js_urls.length;\n    for (var i = 0; i < js_urls.length; i++) {\n      var url = js_urls[i];\n      var s = document.createElement('script');\n      s.src = url;\n      s.async = false;\n      s.onreadystatechange = s.onload = function() {\n        root._bokeh_is_loading--;\n        if (root._bokeh_is_loading === 0) {\n          console.log(\"Bokeh: all BokehJS libraries loaded\");\n          run_callbacks()\n        }\n      };\n      s.onerror = function() {\n        console.warn(\"failed to load library \" + url);\n      };\n      console.log(\"Bokeh: injecting script tag for BokehJS library: \", url);\n      document.getElementsByTagName(\"head\")[0].appendChild(s);\n    }\n  };var element = document.getElementById(\"a1e019ea-a2f7-454a-83c6-c926083f7fd7\");\n  if (element == null) {\n    console.log(\"Bokeh: ERROR: autoload.js configured with elementid 'a1e019ea-a2f7-454a-83c6-c926083f7fd7' but no matching script tag was found. \")\n    return false;\n  }\n\n  var js_urls = [\"https://cdn.pydata.org/bokeh/release/bokeh-0.12.16.min.js\", \"https://cdn.pydata.org/bokeh/release/bokeh-widgets-0.12.16.min.js\", \"https://cdn.pydata.org/bokeh/release/bokeh-tables-0.12.16.min.js\", \"https://cdn.pydata.org/bokeh/release/bokeh-gl-0.12.16.min.js\"];\n\n  var inline_js = [\n    function(Bokeh) {\n      Bokeh.set_log_level(\"info\");\n    },\n    \n    function(Bokeh) {\n      \n    },\n    function(Bokeh) {\n      console.log(\"Bokeh: injecting CSS: https://cdn.pydata.org/bokeh/release/bokeh-0.12.16.min.css\");\n      Bokeh.embed.inject_css(\"https://cdn.pydata.org/bokeh/release/bokeh-0.12.16.min.css\");\n      console.log(\"Bokeh: injecting CSS: https://cdn.pydata.org/bokeh/release/bokeh-widgets-0.12.16.min.css\");\n      Bokeh.embed.inject_css(\"https://cdn.pydata.org/bokeh/release/bokeh-widgets-0.12.16.min.css\");\n      console.log(\"Bokeh: injecting CSS: https://cdn.pydata.org/bokeh/release/bokeh-tables-0.12.16.min.css\");\n      Bokeh.embed.inject_css(\"https://cdn.pydata.org/bokeh/release/bokeh-tables-0.12.16.min.css\");\n    }\n  ];\n\n  function run_inline_js() {\n    \n    if ((root.Bokeh !== undefined) || (force === true)) {\n      for (var i = 0; i < inline_js.length; i++) {\n        inline_js[i].call(root, root.Bokeh);\n      }if (force === true) {\n        display_loaded();\n      }} else if (Date.now() < root._bokeh_timeout) {\n      setTimeout(run_inline_js, 100);\n    } else if (!root._bokeh_failed_load) {\n      console.log(\"Bokeh: BokehJS failed to load within specified timeout.\");\n      root._bokeh_failed_load = true;\n    } else if (force !== true) {\n      var cell = $(document.getElementById(\"a1e019ea-a2f7-454a-83c6-c926083f7fd7\")).parents('.cell').data().cell;\n      cell.output_area.append_execute_result(NB_LOAD_WARNING)\n    }\n\n  }\n\n  if (root._bokeh_is_loading === 0) {\n    console.log(\"Bokeh: BokehJS loaded, going straight to plotting\");\n    run_inline_js();\n  } else {\n    load_libs(js_urls, function() {\n      console.log(\"Bokeh: BokehJS plotting callback run at\", now());\n      run_inline_js();\n    });\n  }\n}(window));"
     },
     "metadata": {},
     "output_type": "display_data"
    }
   ],
   "source": [
    "from bokeh.layouts import column, row\n",
    "from bokeh.models import CustomJS, ColumnDataSource, Slider\n",
    "from bokeh.plotting import Figure, output_notebook, show, figure\n",
    "\n",
    "output_notebook()"
   ]
  },
  {
   "cell_type": "markdown",
   "metadata": {
    "slideshow": {
     "slide_type": "slide"
    }
   },
   "source": [
    "# Tut 04 - Diagonalisirung\n",
    "\n",
    "\n",
    "*Jochen Illerhaus - jochen.illerhaus@student.kit.edu*"
   ]
  },
  {
   "cell_type": "markdown",
   "metadata": {
    "slideshow": {
     "slide_type": "slide"
    }
   },
   "source": [
    "# Orga\n",
    "\n",
    "<ul style=\"font-size: 30pt; line-height: 1.5;\">\n",
    "<li><a href=\"http://bit.ly/2HayX3w\">http://bit.ly/2HayX3w</a></li>\n",
    "<li>jochen.illerhaus@student.kit.edu</li>\n",
    "</ul>"
   ]
  },
  {
   "cell_type": "markdown",
   "metadata": {
    "slideshow": {
     "slide_type": "slide"
    }
   },
   "source": [
    "<center>\n",
    "<span style=\"font-size: 40pt; line-height: 100px;\">\n",
    "Fragen\n",
    "</span>\n",
    "</center>"
   ]
  },
  {
   "cell_type": "markdown",
   "metadata": {
    "slideshow": {
     "slide_type": "slide"
    }
   },
   "source": [
    "# HMIII Blatt 1 Aufgabe 1\n",
    "\n",
    "Finden Sie die Lösungen der folgenden Anfangswertprobleme auf einem möglichst großen Intervall.\n",
    " * **a)** $$y′ = -\\frac{1}{2x} \\frac{y^2 − 6y + 5}{y−3}$$ mit $y(1) = 2$.\n",
    " * **b)** $$y′ = e^{x−y−e^y}$$ mit $y(1) = 0$."
   ]
  },
  {
   "cell_type": "code",
   "execution_count": 29,
   "metadata": {
    "collapsed": true,
    "slideshow": {
     "slide_type": "slide"
    }
   },
   "outputs": [],
   "source": [
    "def show_ex1(a=-5, b=5, Dy=lambda y: -(1/(2))*(y*y - 6*y + 5)/(y-3), \\\n",
    "             Jy=\"-(1/(2*x))*(y[i]*y[i] - 6*y[i] + 5)/(y[i]-3)\", \\\n",
    "             c=-5, d=5, Y=lambda x: 3-np.sqrt(4-3/x)):\n",
    "    with np.warnings.catch_warnings():\n",
    "        np.warnings.filterwarnings('ignore')\n",
    "    \n",
    "        y = np.linspace(a, b, 200)\n",
    "        dy = Dy(y)\n",
    "\n",
    "    source = ColumnDataSource(data=dict(y=y, dy=dy))\n",
    "\n",
    "    plot = figure(plot_width=400, plot_height=300)\n",
    "    plot.line('y', 'dy', source=source, line_width=3, line_alpha=0.6)\n",
    "\n",
    "    plot.xaxis[0].axis_label = 'y'\n",
    "    plot.yaxis[0].axis_label = \"y'\"\n",
    "\n",
    "    callback = CustomJS(args=dict(source=source), code=\"\"\"\n",
    "        var data = source.data;\n",
    "        var x = cb_obj.value;\n",
    "        var y = data['y'];\n",
    "        var dy = data['dy'];\n",
    "        for (var i = 0; i < y.length; i++) {\n",
    "            dy[i] = %s;\n",
    "        }\n",
    "        source.change.emit();\n",
    "    \"\"\" % Jy)\n",
    "\n",
    "    slider = Slider(start=c, end=d, value=1, step=.05, title=\"x\")\n",
    "    slider.js_on_change('value', callback)\n",
    "    \n",
    "    with np.warnings.catch_warnings():\n",
    "        np.warnings.filterwarnings('ignore')\n",
    "        \n",
    "        x = np.linspace(c, d, 200)\n",
    "        yy = Y(x)\n",
    "\n",
    "    sol = figure(plot_width=400, plot_height=300)\n",
    "    sol.line('x', 'y', source=ColumnDataSource(data=dict(x=x, y=yy)), line_width=3)\n",
    "\n",
    "    sol.xaxis[0].axis_label = \"x\"\n",
    "    sol.yaxis[0].axis_label = \"y\"\n",
    "\n",
    "    layout = column(row(plot, sol), slider)\n",
    "\n",
    "    show(layout)"
   ]
  },
  {
   "cell_type": "code",
   "execution_count": 30,
   "metadata": {
    "slideshow": {
     "slide_type": "subslide"
    }
   },
   "outputs": [
    {
     "data": {
      "text/html": [
       "\n",
       "<div class=\"bk-root\">\n",
       "    <div class=\"bk-plotdiv\" id=\"986df2d1-83a9-4069-b954-fa01d3a66438\"></div>\n",
       "</div>"
      ]
     },
     "metadata": {},
     "output_type": "display_data"
    },
    {
     "data": {
      "application/javascript": [
       "(function(root) {\n",
       "  function embed_document(root) {\n",
       "    \n",
       "  var docs_json = {\"e8750a7a-d40a-40dd-bb4e-b962de3c7bf2\":{\"roots\":{\"references\":[{\"attributes\":{\"axis_label\":\"x\",\"formatter\":{\"id\":\"0248e388-fa8d-470d-a700-853b6c28fbbf\",\"type\":\"BasicTickFormatter\"},\"plot\":{\"id\":\"a9fdeedf-3cfe-4b5d-ae3c-256335006dea\",\"subtype\":\"Figure\",\"type\":\"Plot\"},\"ticker\":{\"id\":\"daff05f5-c25a-4d70-a968-00970446515e\",\"type\":\"BasicTicker\"}},\"id\":\"54ce5757-9ff5-4a46-9b92-a837f32d4589\",\"type\":\"LinearAxis\"},{\"attributes\":{},\"id\":\"aac28de0-26f9-423c-b8e7-89e47047ad7a\",\"type\":\"UnionRenderers\"},{\"attributes\":{\"axis_label\":\"y\",\"formatter\":{\"id\":\"b8ee99eb-51f3-4650-a358-06c26db0ffcb\",\"type\":\"BasicTickFormatter\"},\"plot\":{\"id\":\"a9fdeedf-3cfe-4b5d-ae3c-256335006dea\",\"subtype\":\"Figure\",\"type\":\"Plot\"},\"ticker\":{\"id\":\"360c2055-197c-4269-b9aa-7db5b50c8ba1\",\"type\":\"BasicTicker\"}},\"id\":\"ddf01b2f-9a06-4aeb-856a-4730e75c5673\",\"type\":\"LinearAxis\"},{\"attributes\":{},\"id\":\"348f6535-7868-4005-923f-a916a7c6a140\",\"type\":\"BasicTickFormatter\"},{\"attributes\":{\"children\":[{\"id\":\"a7354c62-b307-4db0-bb44-1798f30f84fe\",\"type\":\"Row\"},{\"id\":\"69591584-af5e-4e14-a4ea-fdc6e573ba41\",\"type\":\"WidgetBox\"}]},\"id\":\"59fa6b6e-b641-4adb-831e-e049161f830d\",\"type\":\"Column\"},{\"attributes\":{\"plot\":{\"id\":\"19ca91e7-0088-442e-8c4b-1b5fe6191e9d\",\"subtype\":\"Figure\",\"type\":\"Plot\"},\"ticker\":{\"id\":\"5f28350c-0350-4e0b-a464-000f027856ed\",\"type\":\"BasicTicker\"}},\"id\":\"7902d9b2-ccfc-4552-b958-91df61a27c2a\",\"type\":\"Grid\"},{\"attributes\":{},\"id\":\"276d5102-5c2d-4176-a564-cf5081c874bb\",\"type\":\"LinearScale\"},{\"attributes\":{},\"id\":\"daff05f5-c25a-4d70-a968-00970446515e\",\"type\":\"BasicTicker\"},{\"attributes\":{},\"id\":\"4b1fbb02-e601-4ce1-8509-b6d8a4dad4b9\",\"type\":\"HelpTool\"},{\"attributes\":{\"overlay\":{\"id\":\"f6684dd1-0cb4-48e0-8d45-aecfb551794a\",\"type\":\"BoxAnnotation\"}},\"id\":\"f0ccd35e-9e99-49d7-a462-a9b7e3053fbc\",\"type\":\"BoxZoomTool\"},{\"attributes\":{\"plot\":null,\"text\":\"\"},\"id\":\"6b1cc22b-c738-49f2-bcac-ca906d647623\",\"type\":\"Title\"},{\"attributes\":{\"plot\":{\"id\":\"a9fdeedf-3cfe-4b5d-ae3c-256335006dea\",\"subtype\":\"Figure\",\"type\":\"Plot\"},\"ticker\":{\"id\":\"daff05f5-c25a-4d70-a968-00970446515e\",\"type\":\"BasicTicker\"}},\"id\":\"b8c1a79a-4ecc-44aa-863a-a5fd7714025b\",\"type\":\"Grid\"},{\"attributes\":{},\"id\":\"f2619287-1d20-4c7f-a13d-0cd9379c8928\",\"type\":\"HelpTool\"},{\"attributes\":{},\"id\":\"726ab88e-a55f-4b93-bd6f-bfdf41f4cf0b\",\"type\":\"UnionRenderers\"},{\"attributes\":{\"axis_label\":\"y'\",\"formatter\":{\"id\":\"303b6a9d-d074-46a4-a95e-4a48bd525b08\",\"type\":\"BasicTickFormatter\"},\"plot\":{\"id\":\"19ca91e7-0088-442e-8c4b-1b5fe6191e9d\",\"subtype\":\"Figure\",\"type\":\"Plot\"},\"ticker\":{\"id\":\"4326b26e-7afe-4558-822b-5db2ec81195a\",\"type\":\"BasicTicker\"}},\"id\":\"5eb126fd-400c-4276-99f0-bcc5a5c5c26b\",\"type\":\"LinearAxis\"},{\"attributes\":{},\"id\":\"303b6a9d-d074-46a4-a95e-4a48bd525b08\",\"type\":\"BasicTickFormatter\"},{\"attributes\":{\"data_source\":{\"id\":\"d38b8bb6-51c5-4eb8-ab7b-4bb28a72b819\",\"type\":\"ColumnDataSource\"},\"glyph\":{\"id\":\"60ed88e1-4cd5-40cb-82d5-ab461fd0e6b1\",\"type\":\"Line\"},\"hover_glyph\":null,\"muted_glyph\":null,\"nonselection_glyph\":{\"id\":\"6c6adb56-62c6-491a-86e9-c52316b2a2cc\",\"type\":\"Line\"},\"selection_glyph\":null,\"view\":{\"id\":\"8585c9b9-776a-4f63-979e-02a806653573\",\"type\":\"CDSView\"}},\"id\":\"f06453c4-7367-4c31-8226-4edf270f4a70\",\"type\":\"GlyphRenderer\"},{\"attributes\":{\"active_drag\":\"auto\",\"active_inspect\":\"auto\",\"active_scroll\":\"auto\",\"active_tap\":\"auto\",\"tools\":[{\"id\":\"7b51eb00-db2a-4d05-aa8e-8663d7e59386\",\"type\":\"PanTool\"},{\"id\":\"ff152ab4-8231-4b70-9c5d-fcc35a1046b5\",\"type\":\"WheelZoomTool\"},{\"id\":\"b584fbac-70b4-4e3f-8cc8-ea1c4dbbae23\",\"type\":\"BoxZoomTool\"},{\"id\":\"e9948783-f7d4-443f-a091-358f5d9baea8\",\"type\":\"SaveTool\"},{\"id\":\"963122da-03c4-42be-95aa-9015b4b4fda0\",\"type\":\"ResetTool\"},{\"id\":\"4b1fbb02-e601-4ce1-8509-b6d8a4dad4b9\",\"type\":\"HelpTool\"}]},\"id\":\"daab20f5-6781-4ee1-9f4d-9e6cd8ca270d\",\"type\":\"Toolbar\"},{\"attributes\":{\"dimension\":1,\"plot\":{\"id\":\"19ca91e7-0088-442e-8c4b-1b5fe6191e9d\",\"subtype\":\"Figure\",\"type\":\"Plot\"},\"ticker\":{\"id\":\"4326b26e-7afe-4558-822b-5db2ec81195a\",\"type\":\"BasicTicker\"}},\"id\":\"2c88ca0c-05af-4593-aa74-730a1366eb40\",\"type\":\"Grid\"},{\"attributes\":{\"source\":{\"id\":\"d38b8bb6-51c5-4eb8-ab7b-4bb28a72b819\",\"type\":\"ColumnDataSource\"}},\"id\":\"8585c9b9-776a-4f63-979e-02a806653573\",\"type\":\"CDSView\"},{\"attributes\":{\"callback\":null,\"data\":{\"x\":{\"__ndarray__\":\"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\",\"dtype\":\"float64\",\"shape\":[200]},\"y\":{\"__ndarray__\":\"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\",\"dtype\":\"float64\",\"shape\":[200]}},\"selected\":{\"id\":\"6e56e99d-1368-446c-8af5-5ab1e1c762d1\",\"type\":\"Selection\"},\"selection_policy\":{\"id\":\"aac28de0-26f9-423c-b8e7-89e47047ad7a\",\"type\":\"UnionRenderers\"}},\"id\":\"d38b8bb6-51c5-4eb8-ab7b-4bb28a72b819\",\"type\":\"ColumnDataSource\"},{\"attributes\":{},\"id\":\"5f28350c-0350-4e0b-a464-000f027856ed\",\"type\":\"BasicTicker\"},{\"attributes\":{\"active_drag\":\"auto\",\"active_inspect\":\"auto\",\"active_scroll\":\"auto\",\"active_tap\":\"auto\",\"tools\":[{\"id\":\"c6de8cb3-7323-4d64-be72-2271c967a58e\",\"type\":\"PanTool\"},{\"id\":\"a9385c5f-4321-49b9-9c80-fdcaa15a19f3\",\"type\":\"WheelZoomTool\"},{\"id\":\"f0ccd35e-9e99-49d7-a462-a9b7e3053fbc\",\"type\":\"BoxZoomTool\"},{\"id\":\"7df3b5ec-44fd-4fcf-8ca8-f7ed9760c184\",\"type\":\"SaveTool\"},{\"id\":\"5df80272-eb15-45d8-b3e7-40d19be3351f\",\"type\":\"ResetTool\"},{\"id\":\"f2619287-1d20-4c7f-a13d-0cd9379c8928\",\"type\":\"HelpTool\"}]},\"id\":\"fe212d14-b7ac-430b-b848-007ff66e9ae2\",\"type\":\"Toolbar\"},{\"attributes\":{},\"id\":\"b8ee99eb-51f3-4650-a358-06c26db0ffcb\",\"type\":\"BasicTickFormatter\"},{\"attributes\":{},\"id\":\"22f8646a-88b8-4ddd-bcec-433dd394034a\",\"type\":\"LinearScale\"},{\"attributes\":{},\"id\":\"7b51eb00-db2a-4d05-aa8e-8663d7e59386\",\"type\":\"PanTool\"},{\"attributes\":{\"line_alpha\":0.1,\"line_color\":\"#1f77b4\",\"line_width\":3,\"x\":{\"field\":\"y\"},\"y\":{\"field\":\"dy\"}},\"id\":\"c64f3ba5-dd8e-4a4f-ad42-6e297e5ff838\",\"type\":\"Line\"},{\"attributes\":{\"callback\":null,\"end\":5,\"js_property_callbacks\":{\"change:value\":[{\"id\":\"b5e20761-8479-4950-ae96-eee3117c8d36\",\"type\":\"CustomJS\"}]},\"start\":-5,\"step\":0.05,\"title\":\"x\",\"value\":1},\"id\":\"e0ca06f4-8166-4259-a5b4-677d95073cbd\",\"type\":\"Slider\"},{\"attributes\":{\"callback\":null},\"id\":\"41fee8b4-c200-42df-a2a3-d2a2be6a53dd\",\"type\":\"DataRange1d\"},{\"attributes\":{\"below\":[{\"id\":\"2b09f81d-479a-47e3-a33d-6402a9e46f1d\",\"type\":\"LinearAxis\"}],\"left\":[{\"id\":\"5eb126fd-400c-4276-99f0-bcc5a5c5c26b\",\"type\":\"LinearAxis\"}],\"plot_height\":300,\"plot_width\":400,\"renderers\":[{\"id\":\"2b09f81d-479a-47e3-a33d-6402a9e46f1d\",\"type\":\"LinearAxis\"},{\"id\":\"7902d9b2-ccfc-4552-b958-91df61a27c2a\",\"type\":\"Grid\"},{\"id\":\"5eb126fd-400c-4276-99f0-bcc5a5c5c26b\",\"type\":\"LinearAxis\"},{\"id\":\"2c88ca0c-05af-4593-aa74-730a1366eb40\",\"type\":\"Grid\"},{\"id\":\"f6684dd1-0cb4-48e0-8d45-aecfb551794a\",\"type\":\"BoxAnnotation\"},{\"id\":\"fdc25845-4b64-4876-b13d-0f90e0cf5114\",\"type\":\"GlyphRenderer\"}],\"title\":{\"id\":\"6b1cc22b-c738-49f2-bcac-ca906d647623\",\"type\":\"Title\"},\"toolbar\":{\"id\":\"fe212d14-b7ac-430b-b848-007ff66e9ae2\",\"type\":\"Toolbar\"},\"x_range\":{\"id\":\"b72cc12b-0928-4958-a4ab-3cd2fa456a3d\",\"type\":\"DataRange1d\"},\"x_scale\":{\"id\":\"22f8646a-88b8-4ddd-bcec-433dd394034a\",\"type\":\"LinearScale\"},\"y_range\":{\"id\":\"583d0209-9206-4611-8c01-a35e7caef9a3\",\"type\":\"DataRange1d\"},\"y_scale\":{\"id\":\"276d5102-5c2d-4176-a564-cf5081c874bb\",\"type\":\"LinearScale\"}},\"id\":\"19ca91e7-0088-442e-8c4b-1b5fe6191e9d\",\"subtype\":\"Figure\",\"type\":\"Plot\"},{\"attributes\":{\"line_color\":\"#1f77b4\",\"line_width\":3,\"x\":{\"field\":\"x\"},\"y\":{\"field\":\"y\"}},\"id\":\"60ed88e1-4cd5-40cb-82d5-ab461fd0e6b1\",\"type\":\"Line\"},{\"attributes\":{\"bottom_units\":\"screen\",\"fill_alpha\":{\"value\":0.5},\"fill_color\":{\"value\":\"lightgrey\"},\"left_units\":\"screen\",\"level\":\"overlay\",\"line_alpha\":{\"value\":1.0},\"line_color\":{\"value\":\"black\"},\"line_dash\":[4,4],\"line_width\":{\"value\":2},\"plot\":null,\"render_mode\":\"css\",\"right_units\":\"screen\",\"top_units\":\"screen\"},\"id\":\"e1f12014-d8f8-4df1-8c94-b7efcac9b8c6\",\"type\":\"BoxAnnotation\"},{\"attributes\":{\"axis_label\":\"y\",\"formatter\":{\"id\":\"348f6535-7868-4005-923f-a916a7c6a140\",\"type\":\"BasicTickFormatter\"},\"plot\":{\"id\":\"19ca91e7-0088-442e-8c4b-1b5fe6191e9d\",\"subtype\":\"Figure\",\"type\":\"Plot\"},\"ticker\":{\"id\":\"5f28350c-0350-4e0b-a464-000f027856ed\",\"type\":\"BasicTicker\"}},\"id\":\"2b09f81d-479a-47e3-a33d-6402a9e46f1d\",\"type\":\"LinearAxis\"},{\"attributes\":{},\"id\":\"b53b858e-da35-419b-8e48-cc528a911abb\",\"type\":\"Selection\"},{\"attributes\":{\"overlay\":{\"id\":\"e1f12014-d8f8-4df1-8c94-b7efcac9b8c6\",\"type\":\"BoxAnnotation\"}},\"id\":\"b584fbac-70b4-4e3f-8cc8-ea1c4dbbae23\",\"type\":\"BoxZoomTool\"},{\"attributes\":{\"plot\":null,\"text\":\"\"},\"id\":\"b808ca02-b018-47a5-9edd-e6a59fa09162\",\"type\":\"Title\"},{\"attributes\":{\"bottom_units\":\"screen\",\"fill_alpha\":{\"value\":0.5},\"fill_color\":{\"value\":\"lightgrey\"},\"left_units\":\"screen\",\"level\":\"overlay\",\"line_alpha\":{\"value\":1.0},\"line_color\":{\"value\":\"black\"},\"line_dash\":[4,4],\"line_width\":{\"value\":2},\"plot\":null,\"render_mode\":\"css\",\"right_units\":\"screen\",\"top_units\":\"screen\"},\"id\":\"f6684dd1-0cb4-48e0-8d45-aecfb551794a\",\"type\":\"BoxAnnotation\"},{\"attributes\":{\"source\":{\"id\":\"7ac49977-68a5-4d0b-82f5-e127a1015734\",\"type\":\"ColumnDataSource\"}},\"id\":\"94cd3283-1c3c-4bb4-8e29-53a04fc5ed01\",\"type\":\"CDSView\"},{\"attributes\":{\"data_source\":{\"id\":\"7ac49977-68a5-4d0b-82f5-e127a1015734\",\"type\":\"ColumnDataSource\"},\"glyph\":{\"id\":\"4a511813-6054-4fe3-93a9-9cf4f0fc0f44\",\"type\":\"Line\"},\"hover_glyph\":null,\"muted_glyph\":null,\"nonselection_glyph\":{\"id\":\"c64f3ba5-dd8e-4a4f-ad42-6e297e5ff838\",\"type\":\"Line\"},\"selection_glyph\":null,\"view\":{\"id\":\"94cd3283-1c3c-4bb4-8e29-53a04fc5ed01\",\"type\":\"CDSView\"}},\"id\":\"fdc25845-4b64-4876-b13d-0f90e0cf5114\",\"type\":\"GlyphRenderer\"},{\"attributes\":{},\"id\":\"6e56e99d-1368-446c-8af5-5ab1e1c762d1\",\"type\":\"Selection\"},{\"attributes\":{},\"id\":\"360c2055-197c-4269-b9aa-7db5b50c8ba1\",\"type\":\"BasicTicker\"},{\"attributes\":{},\"id\":\"a9385c5f-4321-49b9-9c80-fdcaa15a19f3\",\"type\":\"WheelZoomTool\"},{\"attributes\":{},\"id\":\"4326b26e-7afe-4558-822b-5db2ec81195a\",\"type\":\"BasicTicker\"},{\"attributes\":{\"dimension\":1,\"plot\":{\"id\":\"a9fdeedf-3cfe-4b5d-ae3c-256335006dea\",\"subtype\":\"Figure\",\"type\":\"Plot\"},\"ticker\":{\"id\":\"360c2055-197c-4269-b9aa-7db5b50c8ba1\",\"type\":\"BasicTicker\"}},\"id\":\"774658eb-f0fc-4a01-9968-0dc939b26c1d\",\"type\":\"Grid\"},{\"attributes\":{},\"id\":\"d3d8ec33-f991-445b-a4bb-91377d11b296\",\"type\":\"LinearScale\"},{\"attributes\":{\"line_alpha\":0.6,\"line_color\":\"#1f77b4\",\"line_width\":3,\"x\":{\"field\":\"y\"},\"y\":{\"field\":\"dy\"}},\"id\":\"4a511813-6054-4fe3-93a9-9cf4f0fc0f44\",\"type\":\"Line\"},{\"attributes\":{},\"id\":\"0248e388-fa8d-470d-a700-853b6c28fbbf\",\"type\":\"BasicTickFormatter\"},{\"attributes\":{},\"id\":\"963122da-03c4-42be-95aa-9015b4b4fda0\",\"type\":\"ResetTool\"},{\"attributes\":{},\"id\":\"e59410d8-60c8-4f28-92d0-e0a7c9814f7f\",\"type\":\"LinearScale\"},{\"attributes\":{\"children\":[{\"id\":\"e0ca06f4-8166-4259-a5b4-677d95073cbd\",\"type\":\"Slider\"}]},\"id\":\"69591584-af5e-4e14-a4ea-fdc6e573ba41\",\"type\":\"WidgetBox\"},{\"attributes\":{},\"id\":\"c6de8cb3-7323-4d64-be72-2271c967a58e\",\"type\":\"PanTool\"},{\"attributes\":{},\"id\":\"5df80272-eb15-45d8-b3e7-40d19be3351f\",\"type\":\"ResetTool\"},{\"attributes\":{\"callback\":null},\"id\":\"c485a2a5-a53a-4fb2-87a6-8ff6b2312361\",\"type\":\"DataRange1d\"},{\"attributes\":{},\"id\":\"7df3b5ec-44fd-4fcf-8ca8-f7ed9760c184\",\"type\":\"SaveTool\"},{\"attributes\":{\"callback\":null,\"data\":{\"dy\":{\"__ndarray__\":\"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\",\"dtype\":\"float64\",\"shape\":[200]},\"y\":{\"__ndarray__\":\"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\",\"dtype\":\"float64\",\"shape\":[200]}},\"selected\":{\"id\":\"b53b858e-da35-419b-8e48-cc528a911abb\",\"type\":\"Selection\"},\"selection_policy\":{\"id\":\"726ab88e-a55f-4b93-bd6f-bfdf41f4cf0b\",\"type\":\"UnionRenderers\"}},\"id\":\"7ac49977-68a5-4d0b-82f5-e127a1015734\",\"type\":\"ColumnDataSource\"},{\"attributes\":{},\"id\":\"ff152ab4-8231-4b70-9c5d-fcc35a1046b5\",\"type\":\"WheelZoomTool\"},{\"attributes\":{},\"id\":\"e9948783-f7d4-443f-a091-358f5d9baea8\",\"type\":\"SaveTool\"},{\"attributes\":{\"callback\":null},\"id\":\"b72cc12b-0928-4958-a4ab-3cd2fa456a3d\",\"type\":\"DataRange1d\"},{\"attributes\":{\"below\":[{\"id\":\"54ce5757-9ff5-4a46-9b92-a837f32d4589\",\"type\":\"LinearAxis\"}],\"left\":[{\"id\":\"ddf01b2f-9a06-4aeb-856a-4730e75c5673\",\"type\":\"LinearAxis\"}],\"plot_height\":300,\"plot_width\":400,\"renderers\":[{\"id\":\"54ce5757-9ff5-4a46-9b92-a837f32d4589\",\"type\":\"LinearAxis\"},{\"id\":\"b8c1a79a-4ecc-44aa-863a-a5fd7714025b\",\"type\":\"Grid\"},{\"id\":\"ddf01b2f-9a06-4aeb-856a-4730e75c5673\",\"type\":\"LinearAxis\"},{\"id\":\"774658eb-f0fc-4a01-9968-0dc939b26c1d\",\"type\":\"Grid\"},{\"id\":\"e1f12014-d8f8-4df1-8c94-b7efcac9b8c6\",\"type\":\"BoxAnnotation\"},{\"id\":\"f06453c4-7367-4c31-8226-4edf270f4a70\",\"type\":\"GlyphRenderer\"}],\"title\":{\"id\":\"b808ca02-b018-47a5-9edd-e6a59fa09162\",\"type\":\"Title\"},\"toolbar\":{\"id\":\"daab20f5-6781-4ee1-9f4d-9e6cd8ca270d\",\"type\":\"Toolbar\"},\"x_range\":{\"id\":\"41fee8b4-c200-42df-a2a3-d2a2be6a53dd\",\"type\":\"DataRange1d\"},\"x_scale\":{\"id\":\"e59410d8-60c8-4f28-92d0-e0a7c9814f7f\",\"type\":\"LinearScale\"},\"y_range\":{\"id\":\"c485a2a5-a53a-4fb2-87a6-8ff6b2312361\",\"type\":\"DataRange1d\"},\"y_scale\":{\"id\":\"d3d8ec33-f991-445b-a4bb-91377d11b296\",\"type\":\"LinearScale\"}},\"id\":\"a9fdeedf-3cfe-4b5d-ae3c-256335006dea\",\"subtype\":\"Figure\",\"type\":\"Plot\"},{\"attributes\":{\"callback\":null},\"id\":\"583d0209-9206-4611-8c01-a35e7caef9a3\",\"type\":\"DataRange1d\"},{\"attributes\":{\"args\":{\"source\":{\"id\":\"7ac49977-68a5-4d0b-82f5-e127a1015734\",\"type\":\"ColumnDataSource\"}},\"code\":\"\\n        var data = source.data;\\n        var x = cb_obj.value;\\n        var y = data['y'];\\n        var dy = data['dy'];\\n        for (var i = 0; i < y.length; i++) {\\n            dy[i] = -(1/(2*x))*(y[i]*y[i] - 6*y[i] + 5)/(y[i]-3);\\n        }\\n        source.change.emit();\\n    \"},\"id\":\"b5e20761-8479-4950-ae96-eee3117c8d36\",\"type\":\"CustomJS\"},{\"attributes\":{\"children\":[{\"id\":\"19ca91e7-0088-442e-8c4b-1b5fe6191e9d\",\"subtype\":\"Figure\",\"type\":\"Plot\"},{\"id\":\"a9fdeedf-3cfe-4b5d-ae3c-256335006dea\",\"subtype\":\"Figure\",\"type\":\"Plot\"}]},\"id\":\"a7354c62-b307-4db0-bb44-1798f30f84fe\",\"type\":\"Row\"},{\"attributes\":{\"line_alpha\":0.1,\"line_color\":\"#1f77b4\",\"line_width\":3,\"x\":{\"field\":\"x\"},\"y\":{\"field\":\"y\"}},\"id\":\"6c6adb56-62c6-491a-86e9-c52316b2a2cc\",\"type\":\"Line\"}],\"root_ids\":[\"59fa6b6e-b641-4adb-831e-e049161f830d\"]},\"title\":\"Bokeh Application\",\"version\":\"0.12.16\"}};\n",
       "  var render_items = [{\"docid\":\"e8750a7a-d40a-40dd-bb4e-b962de3c7bf2\",\"elementid\":\"986df2d1-83a9-4069-b954-fa01d3a66438\",\"modelid\":\"59fa6b6e-b641-4adb-831e-e049161f830d\"}];\n",
       "  root.Bokeh.embed.embed_items_notebook(docs_json, render_items);\n",
       "\n",
       "  }\n",
       "  if (root.Bokeh !== undefined) {\n",
       "    embed_document(root);\n",
       "  } else {\n",
       "    var attempts = 0;\n",
       "    var timer = setInterval(function(root) {\n",
       "      if (root.Bokeh !== undefined) {\n",
       "        embed_document(root);\n",
       "        clearInterval(timer);\n",
       "      }\n",
       "      attempts++;\n",
       "      if (attempts > 100) {\n",
       "        console.log(\"Bokeh: ERROR: Unable to run BokehJS code because BokehJS library is missing\")\n",
       "        clearInterval(timer);\n",
       "      }\n",
       "    }, 10, root)\n",
       "  }\n",
       "})(window);"
      ],
      "application/vnd.bokehjs_exec.v0+json": ""
     },
     "metadata": {
      "application/vnd.bokehjs_exec.v0+json": {
       "id": "59fa6b6e-b641-4adb-831e-e049161f830d"
      }
     },
     "output_type": "display_data"
    }
   ],
   "source": [
    "show_ex1()"
   ]
  },
  {
   "cell_type": "code",
   "execution_count": 31,
   "metadata": {
    "slideshow": {
     "slide_type": "subslide"
    }
   },
   "outputs": [
    {
     "data": {
      "text/html": [
       "\n",
       "<div class=\"bk-root\">\n",
       "    <div class=\"bk-plotdiv\" id=\"f5a1731a-7db5-4e06-8da5-7eb8315c4b1d\"></div>\n",
       "</div>"
      ]
     },
     "metadata": {},
     "output_type": "display_data"
    },
    {
     "data": {
      "application/javascript": [
       "(function(root) {\n",
       "  function embed_document(root) {\n",
       "    \n",
       "  var docs_json = {\"0671c313-e01a-4c61-941b-a6c3c3b334d3\":{\"roots\":{\"references\":[{\"attributes\":{\"source\":{\"id\":\"919a5d32-ae19-4110-96d6-0a28d3c2be27\",\"type\":\"ColumnDataSource\"}},\"id\":\"b31e4477-e40e-4fef-99c5-2576c2409aa9\",\"type\":\"CDSView\"},{\"attributes\":{\"callback\":null,\"data\":{\"dy\":{\"__ndarray__\":\"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\",\"dtype\":\"float64\",\"shape\":[200]},\"y\":{\"__ndarray__\":\"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\",\"dtype\":\"float64\",\"shape\":[200]}},\"selected\":{\"id\":\"2b1a0f76-e72a-45bd-b4ce-68231bd339c4\",\"type\":\"Selection\"},\"selection_policy\":{\"id\":\"84d293fd-6929-41ab-a5be-b1c484d1c210\",\"type\":\"UnionRenderers\"}},\"id\":\"919a5d32-ae19-4110-96d6-0a28d3c2be27\",\"type\":\"ColumnDataSource\"},{\"attributes\":{\"data_source\":{\"id\":\"919a5d32-ae19-4110-96d6-0a28d3c2be27\",\"type\":\"ColumnDataSource\"},\"glyph\":{\"id\":\"3ad19110-9923-4289-8ec1-276c26398667\",\"type\":\"Line\"},\"hover_glyph\":null,\"muted_glyph\":null,\"nonselection_glyph\":{\"id\":\"b268a37b-bfc3-4549-a9de-d0d61d87ff5f\",\"type\":\"Line\"},\"selection_glyph\":null,\"view\":{\"id\":\"b31e4477-e40e-4fef-99c5-2576c2409aa9\",\"type\":\"CDSView\"}},\"id\":\"3dd0073b-30c7-4bc4-aef4-a7e05e1e5657\",\"type\":\"GlyphRenderer\"},{\"attributes\":{},\"id\":\"57b6d175-ed84-4bca-b24e-89cf3971126d\",\"type\":\"Selection\"},{\"attributes\":{\"below\":[{\"id\":\"e73bc8dd-6c1a-45ac-ba73-e2a3ef4e5153\",\"type\":\"LinearAxis\"}],\"left\":[{\"id\":\"9bcbf770-84ed-403a-80f7-085336ff9073\",\"type\":\"LinearAxis\"}],\"plot_height\":300,\"plot_width\":400,\"renderers\":[{\"id\":\"e73bc8dd-6c1a-45ac-ba73-e2a3ef4e5153\",\"type\":\"LinearAxis\"},{\"id\":\"5abf7317-9287-43bd-87a7-9a350c8e96e3\",\"type\":\"Grid\"},{\"id\":\"9bcbf770-84ed-403a-80f7-085336ff9073\",\"type\":\"LinearAxis\"},{\"id\":\"e7593c69-29e8-49a2-af69-d1c22756b8ba\",\"type\":\"Grid\"},{\"id\":\"e578b333-384b-4873-9de3-a58bf27cbdd6\",\"type\":\"BoxAnnotation\"},{\"id\":\"3dd0073b-30c7-4bc4-aef4-a7e05e1e5657\",\"type\":\"GlyphRenderer\"}],\"title\":{\"id\":\"b0521fef-ee24-410b-97a6-0641cecb4bd6\",\"type\":\"Title\"},\"toolbar\":{\"id\":\"80f07eb4-05f7-46f1-abbb-365dd5df116f\",\"type\":\"Toolbar\"},\"x_range\":{\"id\":\"d52fdd14-5684-4aee-9a8e-bdf223b80bc6\",\"type\":\"DataRange1d\"},\"x_scale\":{\"id\":\"d18d248d-abeb-4452-9487-cf508d9bb9eb\",\"type\":\"LinearScale\"},\"y_range\":{\"id\":\"b04e466a-dad8-4508-aa62-966789753c61\",\"type\":\"DataRange1d\"},\"y_scale\":{\"id\":\"7e0235b3-f86d-4e6f-b351-d553ec634187\",\"type\":\"LinearScale\"}},\"id\":\"29f12941-3ff8-4041-a03e-607be0d74510\",\"subtype\":\"Figure\",\"type\":\"Plot\"},{\"attributes\":{},\"id\":\"b4a01345-c57b-4cc3-8244-9fee9a8c70db\",\"type\":\"LinearScale\"},{\"attributes\":{\"data_source\":{\"id\":\"49a60e32-d81a-4ae2-aeda-d0e2d472cb0f\",\"type\":\"ColumnDataSource\"},\"glyph\":{\"id\":\"d06f317f-1c03-4c5f-9976-88be0357f2d0\",\"type\":\"Line\"},\"hover_glyph\":null,\"muted_glyph\":null,\"nonselection_glyph\":{\"id\":\"879d8302-0410-4fef-a916-f7eebf726e86\",\"type\":\"Line\"},\"selection_glyph\":null,\"view\":{\"id\":\"9abd8f6b-3239-408b-b18d-c3745ccb7d89\",\"type\":\"CDSView\"}},\"id\":\"902a146b-9fab-45cf-81f3-93873559f6b5\",\"type\":\"GlyphRenderer\"},{\"attributes\":{},\"id\":\"5c5e4027-1581-4d7d-a33c-52940b29881b\",\"type\":\"ResetTool\"},{\"attributes\":{},\"id\":\"595f1bbe-e980-4251-a2ff-4ee444edd8a7\",\"type\":\"BasicTickFormatter\"},{\"attributes\":{},\"id\":\"8c3947a7-6ffa-49c2-b464-2af28136529b\",\"type\":\"BasicTicker\"},{\"attributes\":{\"axis_label\":\"x\",\"formatter\":{\"id\":\"7aca74e6-570c-4d29-899e-c2b8e12dc8b5\",\"type\":\"BasicTickFormatter\"},\"plot\":{\"id\":\"a9811842-16a4-48c8-8481-8bd5322c4947\",\"subtype\":\"Figure\",\"type\":\"Plot\"},\"ticker\":{\"id\":\"5d2e0b0b-4956-42ff-a10b-eb934ea47057\",\"type\":\"BasicTicker\"}},\"id\":\"0e2f7347-22f0-4048-9d29-3a80864d5f9f\",\"type\":\"LinearAxis\"},{\"attributes\":{},\"id\":\"82abeb9a-55e6-402b-ab83-5f17e0bb8a17\",\"type\":\"PanTool\"},{\"attributes\":{},\"id\":\"2616b063-a409-4c4a-a359-5122070a8c9c\",\"type\":\"SaveTool\"},{\"attributes\":{\"dimension\":1,\"plot\":{\"id\":\"a9811842-16a4-48c8-8481-8bd5322c4947\",\"subtype\":\"Figure\",\"type\":\"Plot\"},\"ticker\":{\"id\":\"ce953749-2808-4f50-a218-0c6e18016b4a\",\"type\":\"BasicTicker\"}},\"id\":\"e6395329-47af-4604-9529-4e132fd63321\",\"type\":\"Grid\"},{\"attributes\":{\"axis_label\":\"y\",\"formatter\":{\"id\":\"df6e2c4b-574f-4e6b-9bd4-059252ce7302\",\"type\":\"BasicTickFormatter\"},\"plot\":{\"id\":\"29f12941-3ff8-4041-a03e-607be0d74510\",\"subtype\":\"Figure\",\"type\":\"Plot\"},\"ticker\":{\"id\":\"d81846d9-8206-4c84-8ee0-fba7773ac39d\",\"type\":\"BasicTicker\"}},\"id\":\"e73bc8dd-6c1a-45ac-ba73-e2a3ef4e5153\",\"type\":\"LinearAxis\"},{\"attributes\":{\"line_alpha\":0.6,\"line_color\":\"#1f77b4\",\"line_width\":3,\"x\":{\"field\":\"y\"},\"y\":{\"field\":\"dy\"}},\"id\":\"3ad19110-9923-4289-8ec1-276c26398667\",\"type\":\"Line\"},{\"attributes\":{\"callback\":null},\"id\":\"549678b6-dd29-4890-8b4c-3ff901013f9f\",\"type\":\"DataRange1d\"},{\"attributes\":{\"plot\":null,\"text\":\"\"},\"id\":\"b0521fef-ee24-410b-97a6-0641cecb4bd6\",\"type\":\"Title\"},{\"attributes\":{},\"id\":\"c95b75cf-63bf-4f8d-bca6-e7eb0c529b9b\",\"type\":\"WheelZoomTool\"},{\"attributes\":{},\"id\":\"7e0235b3-f86d-4e6f-b351-d553ec634187\",\"type\":\"LinearScale\"},{\"attributes\":{},\"id\":\"2b1a0f76-e72a-45bd-b4ce-68231bd339c4\",\"type\":\"Selection\"},{\"attributes\":{\"children\":[{\"id\":\"070c6764-de05-4f0d-8c85-448896cf76dc\",\"type\":\"Slider\"}]},\"id\":\"6592c31f-eed9-481d-ae19-6b2728378bb0\",\"type\":\"WidgetBox\"},{\"attributes\":{\"args\":{\"source\":{\"id\":\"919a5d32-ae19-4110-96d6-0a28d3c2be27\",\"type\":\"ColumnDataSource\"}},\"code\":\"\\n        var data = source.data;\\n        var x = cb_obj.value;\\n        var y = data['y'];\\n        var dy = data['dy'];\\n        for (var i = 0; i < y.length; i++) {\\n            dy[i] = Math.exp(x-y[i]-Math.exp(y[i]));\\n        }\\n        source.change.emit();\\n    \"},\"id\":\"01dbcbe3-b93a-420e-839a-9645c1150892\",\"type\":\"CustomJS\"},{\"attributes\":{\"axis_label\":\"y\",\"formatter\":{\"id\":\"dd5e859d-b65a-49c8-a17f-f2fd51a85f98\",\"type\":\"BasicTickFormatter\"},\"plot\":{\"id\":\"a9811842-16a4-48c8-8481-8bd5322c4947\",\"subtype\":\"Figure\",\"type\":\"Plot\"},\"ticker\":{\"id\":\"ce953749-2808-4f50-a218-0c6e18016b4a\",\"type\":\"BasicTicker\"}},\"id\":\"cf65e1ea-0321-41ad-bb54-0e0c5fe06a44\",\"type\":\"LinearAxis\"},{\"attributes\":{},\"id\":\"651d2f43-f355-4c87-817d-eee345d135df\",\"type\":\"WheelZoomTool\"},{\"attributes\":{\"children\":[{\"id\":\"29f12941-3ff8-4041-a03e-607be0d74510\",\"subtype\":\"Figure\",\"type\":\"Plot\"},{\"id\":\"a9811842-16a4-48c8-8481-8bd5322c4947\",\"subtype\":\"Figure\",\"type\":\"Plot\"}]},\"id\":\"d71f8a3d-546b-44d1-8cd1-716840f1b697\",\"type\":\"Row\"},{\"attributes\":{},\"id\":\"1a3428b3-b9b7-4db4-918f-f7e8b35a32f2\",\"type\":\"ResetTool\"},{\"attributes\":{},\"id\":\"d81846d9-8206-4c84-8ee0-fba7773ac39d\",\"type\":\"BasicTicker\"},{\"attributes\":{\"callback\":null},\"id\":\"f2ed0596-d682-416b-b859-45305357e9c9\",\"type\":\"DataRange1d\"},{\"attributes\":{},\"id\":\"84d293fd-6929-41ab-a5be-b1c484d1c210\",\"type\":\"UnionRenderers\"},{\"attributes\":{},\"id\":\"7aca74e6-570c-4d29-899e-c2b8e12dc8b5\",\"type\":\"BasicTickFormatter\"},{\"attributes\":{\"overlay\":{\"id\":\"ae6f7808-4e25-4aad-ac38-a507abca808a\",\"type\":\"BoxAnnotation\"}},\"id\":\"bfb10ab7-27cb-41c5-b882-1d2a43647e87\",\"type\":\"BoxZoomTool\"},{\"attributes\":{},\"id\":\"5d2e0b0b-4956-42ff-a10b-eb934ea47057\",\"type\":\"BasicTicker\"},{\"attributes\":{\"source\":{\"id\":\"49a60e32-d81a-4ae2-aeda-d0e2d472cb0f\",\"type\":\"ColumnDataSource\"}},\"id\":\"9abd8f6b-3239-408b-b18d-c3745ccb7d89\",\"type\":\"CDSView\"},{\"attributes\":{\"plot\":{\"id\":\"a9811842-16a4-48c8-8481-8bd5322c4947\",\"subtype\":\"Figure\",\"type\":\"Plot\"},\"ticker\":{\"id\":\"5d2e0b0b-4956-42ff-a10b-eb934ea47057\",\"type\":\"BasicTicker\"}},\"id\":\"dfcc5215-2f79-4dc1-b709-7efef7cda9f8\",\"type\":\"Grid\"},{\"attributes\":{\"callback\":null},\"id\":\"d52fdd14-5684-4aee-9a8e-bdf223b80bc6\",\"type\":\"DataRange1d\"},{\"attributes\":{\"plot\":{\"id\":\"29f12941-3ff8-4041-a03e-607be0d74510\",\"subtype\":\"Figure\",\"type\":\"Plot\"},\"ticker\":{\"id\":\"d81846d9-8206-4c84-8ee0-fba7773ac39d\",\"type\":\"BasicTicker\"}},\"id\":\"5abf7317-9287-43bd-87a7-9a350c8e96e3\",\"type\":\"Grid\"},{\"attributes\":{\"bottom_units\":\"screen\",\"fill_alpha\":{\"value\":0.5},\"fill_color\":{\"value\":\"lightgrey\"},\"left_units\":\"screen\",\"level\":\"overlay\",\"line_alpha\":{\"value\":1.0},\"line_color\":{\"value\":\"black\"},\"line_dash\":[4,4],\"line_width\":{\"value\":2},\"plot\":null,\"render_mode\":\"css\",\"right_units\":\"screen\",\"top_units\":\"screen\"},\"id\":\"ae6f7808-4e25-4aad-ac38-a507abca808a\",\"type\":\"BoxAnnotation\"},{\"attributes\":{\"below\":[{\"id\":\"0e2f7347-22f0-4048-9d29-3a80864d5f9f\",\"type\":\"LinearAxis\"}],\"left\":[{\"id\":\"cf65e1ea-0321-41ad-bb54-0e0c5fe06a44\",\"type\":\"LinearAxis\"}],\"plot_height\":300,\"plot_width\":400,\"renderers\":[{\"id\":\"0e2f7347-22f0-4048-9d29-3a80864d5f9f\",\"type\":\"LinearAxis\"},{\"id\":\"dfcc5215-2f79-4dc1-b709-7efef7cda9f8\",\"type\":\"Grid\"},{\"id\":\"cf65e1ea-0321-41ad-bb54-0e0c5fe06a44\",\"type\":\"LinearAxis\"},{\"id\":\"e6395329-47af-4604-9529-4e132fd63321\",\"type\":\"Grid\"},{\"id\":\"ae6f7808-4e25-4aad-ac38-a507abca808a\",\"type\":\"BoxAnnotation\"},{\"id\":\"902a146b-9fab-45cf-81f3-93873559f6b5\",\"type\":\"GlyphRenderer\"}],\"title\":{\"id\":\"e034a43e-1311-4503-b02c-a56fda416c6c\",\"type\":\"Title\"},\"toolbar\":{\"id\":\"2ebc1443-ab6d-41b5-81af-d3a33ac7046f\",\"type\":\"Toolbar\"},\"x_range\":{\"id\":\"549678b6-dd29-4890-8b4c-3ff901013f9f\",\"type\":\"DataRange1d\"},\"x_scale\":{\"id\":\"81eebd19-c6c8-4065-b06a-68141cd78042\",\"type\":\"LinearScale\"},\"y_range\":{\"id\":\"f2ed0596-d682-416b-b859-45305357e9c9\",\"type\":\"DataRange1d\"},\"y_scale\":{\"id\":\"b4a01345-c57b-4cc3-8244-9fee9a8c70db\",\"type\":\"LinearScale\"}},\"id\":\"a9811842-16a4-48c8-8481-8bd5322c4947\",\"subtype\":\"Figure\",\"type\":\"Plot\"},{\"attributes\":{\"plot\":null,\"text\":\"\"},\"id\":\"e034a43e-1311-4503-b02c-a56fda416c6c\",\"type\":\"Title\"},{\"attributes\":{\"line_alpha\":0.1,\"line_color\":\"#1f77b4\",\"line_width\":3,\"x\":{\"field\":\"x\"},\"y\":{\"field\":\"y\"}},\"id\":\"879d8302-0410-4fef-a916-f7eebf726e86\",\"type\":\"Line\"},{\"attributes\":{},\"id\":\"37b38424-8071-478d-8c8d-dd57ce867086\",\"type\":\"UnionRenderers\"},{\"attributes\":{},\"id\":\"51ff5ffd-5aad-4da4-b5c3-6544b45be7b8\",\"type\":\"SaveTool\"},{\"attributes\":{\"children\":[{\"id\":\"d71f8a3d-546b-44d1-8cd1-716840f1b697\",\"type\":\"Row\"},{\"id\":\"6592c31f-eed9-481d-ae19-6b2728378bb0\",\"type\":\"WidgetBox\"}]},\"id\":\"819b98fc-f7d9-45cc-bdb9-eba2239c52a6\",\"type\":\"Column\"},{\"attributes\":{\"callback\":null},\"id\":\"b04e466a-dad8-4508-aa62-966789753c61\",\"type\":\"DataRange1d\"},{\"attributes\":{},\"id\":\"dd5e859d-b65a-49c8-a17f-f2fd51a85f98\",\"type\":\"BasicTickFormatter\"},{\"attributes\":{},\"id\":\"9f350d41-6082-4f29-a39f-bf80dd0921c3\",\"type\":\"PanTool\"},{\"attributes\":{\"line_alpha\":0.1,\"line_color\":\"#1f77b4\",\"line_width\":3,\"x\":{\"field\":\"y\"},\"y\":{\"field\":\"dy\"}},\"id\":\"b268a37b-bfc3-4549-a9de-d0d61d87ff5f\",\"type\":\"Line\"},{\"attributes\":{\"overlay\":{\"id\":\"e578b333-384b-4873-9de3-a58bf27cbdd6\",\"type\":\"BoxAnnotation\"}},\"id\":\"43609fd1-55da-48e1-8ea2-4c5bd8582ebd\",\"type\":\"BoxZoomTool\"},{\"attributes\":{\"dimension\":1,\"plot\":{\"id\":\"29f12941-3ff8-4041-a03e-607be0d74510\",\"subtype\":\"Figure\",\"type\":\"Plot\"},\"ticker\":{\"id\":\"8c3947a7-6ffa-49c2-b464-2af28136529b\",\"type\":\"BasicTicker\"}},\"id\":\"e7593c69-29e8-49a2-af69-d1c22756b8ba\",\"type\":\"Grid\"},{\"attributes\":{},\"id\":\"7d1236d7-b8dc-445f-b822-ec52cb55fe2c\",\"type\":\"HelpTool\"},{\"attributes\":{},\"id\":\"9624dfa6-c7b9-4565-9ea2-e3ea8ef0d2bc\",\"type\":\"HelpTool\"},{\"attributes\":{\"active_drag\":\"auto\",\"active_inspect\":\"auto\",\"active_scroll\":\"auto\",\"active_tap\":\"auto\",\"tools\":[{\"id\":\"82abeb9a-55e6-402b-ab83-5f17e0bb8a17\",\"type\":\"PanTool\"},{\"id\":\"c95b75cf-63bf-4f8d-bca6-e7eb0c529b9b\",\"type\":\"WheelZoomTool\"},{\"id\":\"43609fd1-55da-48e1-8ea2-4c5bd8582ebd\",\"type\":\"BoxZoomTool\"},{\"id\":\"51ff5ffd-5aad-4da4-b5c3-6544b45be7b8\",\"type\":\"SaveTool\"},{\"id\":\"1a3428b3-b9b7-4db4-918f-f7e8b35a32f2\",\"type\":\"ResetTool\"},{\"id\":\"7d1236d7-b8dc-445f-b822-ec52cb55fe2c\",\"type\":\"HelpTool\"}]},\"id\":\"80f07eb4-05f7-46f1-abbb-365dd5df116f\",\"type\":\"Toolbar\"},{\"attributes\":{\"line_color\":\"#1f77b4\",\"line_width\":3,\"x\":{\"field\":\"x\"},\"y\":{\"field\":\"y\"}},\"id\":\"d06f317f-1c03-4c5f-9976-88be0357f2d0\",\"type\":\"Line\"},{\"attributes\":{\"axis_label\":\"y'\",\"formatter\":{\"id\":\"595f1bbe-e980-4251-a2ff-4ee444edd8a7\",\"type\":\"BasicTickFormatter\"},\"plot\":{\"id\":\"29f12941-3ff8-4041-a03e-607be0d74510\",\"subtype\":\"Figure\",\"type\":\"Plot\"},\"ticker\":{\"id\":\"8c3947a7-6ffa-49c2-b464-2af28136529b\",\"type\":\"BasicTicker\"}},\"id\":\"9bcbf770-84ed-403a-80f7-085336ff9073\",\"type\":\"LinearAxis\"},{\"attributes\":{},\"id\":\"81eebd19-c6c8-4065-b06a-68141cd78042\",\"type\":\"LinearScale\"},{\"attributes\":{\"callback\":null,\"end\":5,\"js_property_callbacks\":{\"change:value\":[{\"id\":\"01dbcbe3-b93a-420e-839a-9645c1150892\",\"type\":\"CustomJS\"}]},\"start\":-5,\"step\":0.05,\"title\":\"x\",\"value\":1},\"id\":\"070c6764-de05-4f0d-8c85-448896cf76dc\",\"type\":\"Slider\"},{\"attributes\":{\"callback\":null,\"data\":{\"x\":{\"__ndarray__\":\"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\",\"dtype\":\"float64\",\"shape\":[200]},\"y\":{\"__ndarray__\":\"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\",\"dtype\":\"float64\",\"shape\":[200]}},\"selected\":{\"id\":\"57b6d175-ed84-4bca-b24e-89cf3971126d\",\"type\":\"Selection\"},\"selection_policy\":{\"id\":\"37b38424-8071-478d-8c8d-dd57ce867086\",\"type\":\"UnionRenderers\"}},\"id\":\"49a60e32-d81a-4ae2-aeda-d0e2d472cb0f\",\"type\":\"ColumnDataSource\"},{\"attributes\":{\"bottom_units\":\"screen\",\"fill_alpha\":{\"value\":0.5},\"fill_color\":{\"value\":\"lightgrey\"},\"left_units\":\"screen\",\"level\":\"overlay\",\"line_alpha\":{\"value\":1.0},\"line_color\":{\"value\":\"black\"},\"line_dash\":[4,4],\"line_width\":{\"value\":2},\"plot\":null,\"render_mode\":\"css\",\"right_units\":\"screen\",\"top_units\":\"screen\"},\"id\":\"e578b333-384b-4873-9de3-a58bf27cbdd6\",\"type\":\"BoxAnnotation\"},{\"attributes\":{},\"id\":\"df6e2c4b-574f-4e6b-9bd4-059252ce7302\",\"type\":\"BasicTickFormatter\"},{\"attributes\":{\"active_drag\":\"auto\",\"active_inspect\":\"auto\",\"active_scroll\":\"auto\",\"active_tap\":\"auto\",\"tools\":[{\"id\":\"9f350d41-6082-4f29-a39f-bf80dd0921c3\",\"type\":\"PanTool\"},{\"id\":\"651d2f43-f355-4c87-817d-eee345d135df\",\"type\":\"WheelZoomTool\"},{\"id\":\"bfb10ab7-27cb-41c5-b882-1d2a43647e87\",\"type\":\"BoxZoomTool\"},{\"id\":\"2616b063-a409-4c4a-a359-5122070a8c9c\",\"type\":\"SaveTool\"},{\"id\":\"5c5e4027-1581-4d7d-a33c-52940b29881b\",\"type\":\"ResetTool\"},{\"id\":\"9624dfa6-c7b9-4565-9ea2-e3ea8ef0d2bc\",\"type\":\"HelpTool\"}]},\"id\":\"2ebc1443-ab6d-41b5-81af-d3a33ac7046f\",\"type\":\"Toolbar\"},{\"attributes\":{},\"id\":\"d18d248d-abeb-4452-9487-cf508d9bb9eb\",\"type\":\"LinearScale\"},{\"attributes\":{},\"id\":\"ce953749-2808-4f50-a218-0c6e18016b4a\",\"type\":\"BasicTicker\"}],\"root_ids\":[\"819b98fc-f7d9-45cc-bdb9-eba2239c52a6\"]},\"title\":\"Bokeh Application\",\"version\":\"0.12.16\"}};\n",
       "  var render_items = [{\"docid\":\"0671c313-e01a-4c61-941b-a6c3c3b334d3\",\"elementid\":\"f5a1731a-7db5-4e06-8da5-7eb8315c4b1d\",\"modelid\":\"819b98fc-f7d9-45cc-bdb9-eba2239c52a6\"}];\n",
       "  root.Bokeh.embed.embed_items_notebook(docs_json, render_items);\n",
       "\n",
       "  }\n",
       "  if (root.Bokeh !== undefined) {\n",
       "    embed_document(root);\n",
       "  } else {\n",
       "    var attempts = 0;\n",
       "    var timer = setInterval(function(root) {\n",
       "      if (root.Bokeh !== undefined) {\n",
       "        embed_document(root);\n",
       "        clearInterval(timer);\n",
       "      }\n",
       "      attempts++;\n",
       "      if (attempts > 100) {\n",
       "        console.log(\"Bokeh: ERROR: Unable to run BokehJS code because BokehJS library is missing\")\n",
       "        clearInterval(timer);\n",
       "      }\n",
       "    }, 10, root)\n",
       "  }\n",
       "})(window);"
      ],
      "application/vnd.bokehjs_exec.v0+json": ""
     },
     "metadata": {
      "application/vnd.bokehjs_exec.v0+json": {
       "id": "819b98fc-f7d9-45cc-bdb9-eba2239c52a6"
      }
     },
     "output_type": "display_data"
    }
   ],
   "source": [
    "show_ex1(a=-5, b=5, Dy=lambda y: np.exp(1-y-np.exp(y)), \\\n",
    "         Jy=\"Math.exp(x-y[i]-Math.exp(y[i]))\", \\\n",
    "         c=-5, d=5, Y=lambda x: np.log(x))"
   ]
  },
  {
   "cell_type": "markdown",
   "metadata": {
    "slideshow": {
     "slide_type": "slide"
    }
   },
   "source": [
    "# HMIII Blatt 1 Aufgabe 3\n",
    "\n",
    "Bei der Bewegung eines Körpers in Luft tritt bekannterweise ein Luftwiderstand auf. Aus der Strömungsmechanik ist bekannt, dass die Luftwiderstandskraft proportional zum Quadrat derGeschwindigkeit ist und durch die Formel\n",
    "$$\n",
    "F_W = −\\frac{1}{2} c_W  \\rho A v^2\n",
    "$$\n",
    "gegeben ist. Hierbei bezeichnet $c_W$ den Strömungswiderstandskoeffizienten, $\\rho$ die Dichte der Luft und $A$ die projektive Querschnittsfläche des bewegten Körpers senkrecht zur Bewegungsrichtung. Der Strömungswiderstandskoeffizient $c_W$ ist eine dimensionslose Größe, die abhängigvon der Gestalt des Körpers ist und experimentell bestimmt werden muss. Stellen Sie die Differentialgleichung für die Geschwindigkeitvauf, welche die Bewegung in horizontaler Richtung unter Berücksichtigung des Luftwiderstandes beschreibt und berechnenSie die Lösung für die Anfangsbedingung $v(0) =v_0$."
   ]
  },
  {
   "cell_type": "code",
   "execution_count": 25,
   "metadata": {
    "slideshow": {
     "slide_type": "subslide"
    }
   },
   "outputs": [
    {
     "data": {
      "text/html": [
       "\n",
       "<div class=\"bk-root\">\n",
       "    <div class=\"bk-plotdiv\" id=\"905f1c5d-37c2-447c-9c5a-ee95fa25ade7\"></div>\n",
       "</div>"
      ]
     },
     "metadata": {},
     "output_type": "display_data"
    },
    {
     "data": {
      "application/javascript": [
       "(function(root) {\n",
       "  function embed_document(root) {\n",
       "    \n",
       "  var docs_json = {\"f3ee6d94-461b-4f73-8c22-af50faf5e4fa\":{\"roots\":{\"references\":[{\"attributes\":{\"children\":[{\"id\":\"c4aa5bff-35d7-420a-8435-38e56031fbeb\",\"type\":\"Slider\"}]},\"id\":\"b3cdcead-bf48-4c20-8799-b130047ef1d9\",\"type\":\"WidgetBox\"},{\"attributes\":{\"callback\":null},\"id\":\"7a7139ef-ebea-4e87-9588-cb1c04c88d81\",\"type\":\"DataRange1d\"},{\"attributes\":{\"bottom_units\":\"screen\",\"fill_alpha\":{\"value\":0.5},\"fill_color\":{\"value\":\"lightgrey\"},\"left_units\":\"screen\",\"level\":\"overlay\",\"line_alpha\":{\"value\":1.0},\"line_color\":{\"value\":\"black\"},\"line_dash\":[4,4],\"line_width\":{\"value\":2},\"plot\":null,\"render_mode\":\"css\",\"right_units\":\"screen\",\"top_units\":\"screen\"},\"id\":\"d6baac28-6f39-4a56-a0f6-14c2e67da54d\",\"type\":\"BoxAnnotation\"},{\"attributes\":{},\"id\":\"f299dd6b-26ee-43e6-8542-aac8bb03a88e\",\"type\":\"UnionRenderers\"},{\"attributes\":{\"children\":[{\"id\":\"b3cdcead-bf48-4c20-8799-b130047ef1d9\",\"type\":\"WidgetBox\"},{\"id\":\"3515fccf-8df8-469a-afbb-8c27c603a70b\",\"type\":\"WidgetBox\"}]},\"id\":\"295348f2-daef-428c-b728-ac882ef4c11c\",\"type\":\"Row\"},{\"attributes\":{},\"id\":\"0059dfc8-59f9-4a99-9385-7e5525acdbcf\",\"type\":\"HelpTool\"},{\"attributes\":{\"callback\":null,\"end\":5,\"js_property_callbacks\":{\"change:value\":[{\"id\":\"953469fb-0e7b-49bf-9bae-eba447a8bec4\",\"type\":\"CustomJS\"}]},\"start\":0,\"step\":0.05,\"title\":\"b = (1/2)*c_W*roh*A/m\",\"value\":1},\"id\":\"c7b236b4-abdc-4243-a1ee-11b3580478f7\",\"type\":\"Slider\"},{\"attributes\":{\"plot\":{\"id\":\"4682f693-f4b5-4d2e-a052-bdfaa1f7e196\",\"subtype\":\"Figure\",\"type\":\"Plot\"},\"ticker\":{\"id\":\"006386aa-cafc-4a89-847f-1a50c7018b07\",\"type\":\"BasicTicker\"}},\"id\":\"39bfeada-adf4-47c8-b979-3477661782ee\",\"type\":\"Grid\"},{\"attributes\":{\"args\":{\"slider_b\":{\"id\":\"c7b236b4-abdc-4243-a1ee-11b3580478f7\",\"type\":\"Slider\"},\"slider_v0\":{\"id\":\"c4aa5bff-35d7-420a-8435-38e56031fbeb\",\"type\":\"Slider\"},\"source\":{\"id\":\"711b982f-acc6-4f6e-9db2-782ad62677c1\",\"type\":\"ColumnDataSource\"}},\"code\":\"\\n    var data = source.data;\\n    var v0 = slider_v0.value;\\n    var b = slider_b.value;\\n    var t = data['t'];\\n    var v = data['v'];\\n    for (var i = 0; i < t.length; i++) {\\n        v[i] = 1/((1/v0) + b*t[i]);\\n    }\\n    source.change.emit();\\n\"},\"id\":\"953469fb-0e7b-49bf-9bae-eba447a8bec4\",\"type\":\"CustomJS\"},{\"attributes\":{\"dimension\":1,\"plot\":{\"id\":\"4682f693-f4b5-4d2e-a052-bdfaa1f7e196\",\"subtype\":\"Figure\",\"type\":\"Plot\"},\"ticker\":{\"id\":\"cda9ce79-ead4-4bce-a5ed-41056d2a035c\",\"type\":\"BasicTicker\"}},\"id\":\"1c72c643-6296-4e09-8860-dc3fff7cf90c\",\"type\":\"Grid\"},{\"attributes\":{\"axis_label\":\"v\",\"formatter\":{\"id\":\"133ef812-35a1-49e7-a1cc-c658625071c0\",\"type\":\"BasicTickFormatter\"},\"plot\":{\"id\":\"4682f693-f4b5-4d2e-a052-bdfaa1f7e196\",\"subtype\":\"Figure\",\"type\":\"Plot\"},\"ticker\":{\"id\":\"cda9ce79-ead4-4bce-a5ed-41056d2a035c\",\"type\":\"BasicTicker\"}},\"id\":\"39f9f995-56c8-40f3-ac65-ffedd5320a27\",\"type\":\"LinearAxis\"},{\"attributes\":{},\"id\":\"9743a0a2-054e-4dee-99d4-e345a788eb0b\",\"type\":\"PanTool\"},{\"attributes\":{},\"id\":\"e90ed259-e15c-478f-910a-25f803a3f8bc\",\"type\":\"LinearScale\"},{\"attributes\":{\"source\":{\"id\":\"711b982f-acc6-4f6e-9db2-782ad62677c1\",\"type\":\"ColumnDataSource\"}},\"id\":\"ad160996-dcdf-47a3-962e-1ca2cb7d83d7\",\"type\":\"CDSView\"},{\"attributes\":{\"active_drag\":\"auto\",\"active_inspect\":\"auto\",\"active_scroll\":\"auto\",\"active_tap\":\"auto\",\"tools\":[{\"id\":\"9743a0a2-054e-4dee-99d4-e345a788eb0b\",\"type\":\"PanTool\"},{\"id\":\"ee7a86f0-fe04-4e3a-870e-f700aef66c31\",\"type\":\"WheelZoomTool\"},{\"id\":\"8acc3298-2f67-4649-b061-8f6fa3c85c0a\",\"type\":\"BoxZoomTool\"},{\"id\":\"7544b41b-3537-42e1-a143-a2b70501d937\",\"type\":\"SaveTool\"},{\"id\":\"a9e80f07-5ab3-4b33-9d7f-f96f1b91dd89\",\"type\":\"ResetTool\"},{\"id\":\"0059dfc8-59f9-4a99-9385-7e5525acdbcf\",\"type\":\"HelpTool\"}]},\"id\":\"3f7ff6d2-3d1d-4910-82f7-fced7e7d5b3e\",\"type\":\"Toolbar\"},{\"attributes\":{\"axis_label\":\"t\",\"formatter\":{\"id\":\"269dea1d-3bf9-4c3a-b040-9881cf8b014e\",\"type\":\"BasicTickFormatter\"},\"plot\":{\"id\":\"4682f693-f4b5-4d2e-a052-bdfaa1f7e196\",\"subtype\":\"Figure\",\"type\":\"Plot\"},\"ticker\":{\"id\":\"006386aa-cafc-4a89-847f-1a50c7018b07\",\"type\":\"BasicTicker\"}},\"id\":\"27890b37-0dc7-40e1-904f-c92bec4f6562\",\"type\":\"LinearAxis\"},{\"attributes\":{\"overlay\":{\"id\":\"d6baac28-6f39-4a56-a0f6-14c2e67da54d\",\"type\":\"BoxAnnotation\"}},\"id\":\"8acc3298-2f67-4649-b061-8f6fa3c85c0a\",\"type\":\"BoxZoomTool\"},{\"attributes\":{\"line_alpha\":0.6,\"line_color\":\"#1f77b4\",\"line_width\":3,\"x\":{\"field\":\"t\"},\"y\":{\"field\":\"v\"}},\"id\":\"dc9254b8-f5dc-4b2a-b220-719eea3e68ac\",\"type\":\"Line\"},{\"attributes\":{},\"id\":\"006386aa-cafc-4a89-847f-1a50c7018b07\",\"type\":\"BasicTicker\"},{\"attributes\":{},\"id\":\"1d0aafa9-d6fc-487d-acbe-094ee986b743\",\"type\":\"Selection\"},{\"attributes\":{},\"id\":\"cda9ce79-ead4-4bce-a5ed-41056d2a035c\",\"type\":\"BasicTicker\"},{\"attributes\":{},\"id\":\"2e31ca48-34ed-4cf0-a9ac-ebe67c2742f6\",\"type\":\"LinearScale\"},{\"attributes\":{},\"id\":\"7544b41b-3537-42e1-a143-a2b70501d937\",\"type\":\"SaveTool\"},{\"attributes\":{\"callback\":null},\"id\":\"205f6055-2887-48de-be0f-fb87ec60a37a\",\"type\":\"DataRange1d\"},{\"attributes\":{},\"id\":\"133ef812-35a1-49e7-a1cc-c658625071c0\",\"type\":\"BasicTickFormatter\"},{\"attributes\":{\"callback\":null,\"end\":10,\"js_property_callbacks\":{\"change:value\":[{\"id\":\"953469fb-0e7b-49bf-9bae-eba447a8bec4\",\"type\":\"CustomJS\"}]},\"start\":0,\"step\":0.05,\"title\":\"v0\",\"value\":1},\"id\":\"c4aa5bff-35d7-420a-8435-38e56031fbeb\",\"type\":\"Slider\"},{\"attributes\":{\"line_alpha\":0.1,\"line_color\":\"#1f77b4\",\"line_width\":3,\"x\":{\"field\":\"t\"},\"y\":{\"field\":\"v\"}},\"id\":\"21682bf9-395a-482f-9525-817b185157d1\",\"type\":\"Line\"},{\"attributes\":{\"callback\":null,\"data\":{\"t\":{\"__ndarray__\":\"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\",\"dtype\":\"float64\",\"shape\":[200]},\"v\":{\"__ndarray__\":\"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\",\"dtype\":\"float64\",\"shape\":[200]}},\"selected\":{\"id\":\"1d0aafa9-d6fc-487d-acbe-094ee986b743\",\"type\":\"Selection\"},\"selection_policy\":{\"id\":\"f299dd6b-26ee-43e6-8542-aac8bb03a88e\",\"type\":\"UnionRenderers\"}},\"id\":\"711b982f-acc6-4f6e-9db2-782ad62677c1\",\"type\":\"ColumnDataSource\"},{\"attributes\":{},\"id\":\"ee7a86f0-fe04-4e3a-870e-f700aef66c31\",\"type\":\"WheelZoomTool\"},{\"attributes\":{\"plot\":null,\"text\":\"\"},\"id\":\"aea6e52b-efa7-494d-8f2f-c55db2cc3502\",\"type\":\"Title\"},{\"attributes\":{\"children\":[{\"id\":\"4682f693-f4b5-4d2e-a052-bdfaa1f7e196\",\"subtype\":\"Figure\",\"type\":\"Plot\"},{\"id\":\"295348f2-daef-428c-b728-ac882ef4c11c\",\"type\":\"Row\"}]},\"id\":\"725b2336-7eda-4f25-bd60-f9f7cd809c89\",\"type\":\"Column\"},{\"attributes\":{\"below\":[{\"id\":\"27890b37-0dc7-40e1-904f-c92bec4f6562\",\"type\":\"LinearAxis\"}],\"left\":[{\"id\":\"39f9f995-56c8-40f3-ac65-ffedd5320a27\",\"type\":\"LinearAxis\"}],\"plot_height\":400,\"plot_width\":800,\"renderers\":[{\"id\":\"27890b37-0dc7-40e1-904f-c92bec4f6562\",\"type\":\"LinearAxis\"},{\"id\":\"39bfeada-adf4-47c8-b979-3477661782ee\",\"type\":\"Grid\"},{\"id\":\"39f9f995-56c8-40f3-ac65-ffedd5320a27\",\"type\":\"LinearAxis\"},{\"id\":\"1c72c643-6296-4e09-8860-dc3fff7cf90c\",\"type\":\"Grid\"},{\"id\":\"d6baac28-6f39-4a56-a0f6-14c2e67da54d\",\"type\":\"BoxAnnotation\"},{\"id\":\"a55cafff-661f-4189-859c-6774165b63cb\",\"type\":\"GlyphRenderer\"}],\"title\":{\"id\":\"aea6e52b-efa7-494d-8f2f-c55db2cc3502\",\"type\":\"Title\"},\"toolbar\":{\"id\":\"3f7ff6d2-3d1d-4910-82f7-fced7e7d5b3e\",\"type\":\"Toolbar\"},\"x_range\":{\"id\":\"205f6055-2887-48de-be0f-fb87ec60a37a\",\"type\":\"DataRange1d\"},\"x_scale\":{\"id\":\"e90ed259-e15c-478f-910a-25f803a3f8bc\",\"type\":\"LinearScale\"},\"y_range\":{\"id\":\"7a7139ef-ebea-4e87-9588-cb1c04c88d81\",\"type\":\"DataRange1d\"},\"y_scale\":{\"id\":\"2e31ca48-34ed-4cf0-a9ac-ebe67c2742f6\",\"type\":\"LinearScale\"}},\"id\":\"4682f693-f4b5-4d2e-a052-bdfaa1f7e196\",\"subtype\":\"Figure\",\"type\":\"Plot\"},{\"attributes\":{\"data_source\":{\"id\":\"711b982f-acc6-4f6e-9db2-782ad62677c1\",\"type\":\"ColumnDataSource\"},\"glyph\":{\"id\":\"dc9254b8-f5dc-4b2a-b220-719eea3e68ac\",\"type\":\"Line\"},\"hover_glyph\":null,\"muted_glyph\":null,\"nonselection_glyph\":{\"id\":\"21682bf9-395a-482f-9525-817b185157d1\",\"type\":\"Line\"},\"selection_glyph\":null,\"view\":{\"id\":\"ad160996-dcdf-47a3-962e-1ca2cb7d83d7\",\"type\":\"CDSView\"}},\"id\":\"a55cafff-661f-4189-859c-6774165b63cb\",\"type\":\"GlyphRenderer\"},{\"attributes\":{},\"id\":\"269dea1d-3bf9-4c3a-b040-9881cf8b014e\",\"type\":\"BasicTickFormatter\"},{\"attributes\":{},\"id\":\"a9e80f07-5ab3-4b33-9d7f-f96f1b91dd89\",\"type\":\"ResetTool\"},{\"attributes\":{\"children\":[{\"id\":\"c7b236b4-abdc-4243-a1ee-11b3580478f7\",\"type\":\"Slider\"}]},\"id\":\"3515fccf-8df8-469a-afbb-8c27c603a70b\",\"type\":\"WidgetBox\"}],\"root_ids\":[\"725b2336-7eda-4f25-bd60-f9f7cd809c89\"]},\"title\":\"Bokeh Application\",\"version\":\"0.12.16\"}};\n",
       "  var render_items = [{\"docid\":\"f3ee6d94-461b-4f73-8c22-af50faf5e4fa\",\"elementid\":\"905f1c5d-37c2-447c-9c5a-ee95fa25ade7\",\"modelid\":\"725b2336-7eda-4f25-bd60-f9f7cd809c89\"}];\n",
       "  root.Bokeh.embed.embed_items_notebook(docs_json, render_items);\n",
       "\n",
       "  }\n",
       "  if (root.Bokeh !== undefined) {\n",
       "    embed_document(root);\n",
       "  } else {\n",
       "    var attempts = 0;\n",
       "    var timer = setInterval(function(root) {\n",
       "      if (root.Bokeh !== undefined) {\n",
       "        embed_document(root);\n",
       "        clearInterval(timer);\n",
       "      }\n",
       "      attempts++;\n",
       "      if (attempts > 100) {\n",
       "        console.log(\"Bokeh: ERROR: Unable to run BokehJS code because BokehJS library is missing\")\n",
       "        clearInterval(timer);\n",
       "      }\n",
       "    }, 10, root)\n",
       "  }\n",
       "})(window);"
      ],
      "application/vnd.bokehjs_exec.v0+json": ""
     },
     "metadata": {
      "application/vnd.bokehjs_exec.v0+json": {
       "id": "725b2336-7eda-4f25-bd60-f9f7cd809c89"
      }
     },
     "output_type": "display_data"
    }
   ],
   "source": [
    "t = np.linspace(0, 10, 200)\n",
    "v0, b = 1, 1\n",
    "v = 1/((1/v0) + b*t)\n",
    "\n",
    "source = ColumnDataSource(data=dict(t=t, v=v))\n",
    "\n",
    "plot = Figure(plot_width=800, plot_height=400)\n",
    "plot.line('t', 'v', source=source, line_width=3, line_alpha=0.6)\n",
    "\n",
    "plot.xaxis[0].axis_label = 't'\n",
    "plot.yaxis[0].axis_label = \"v\"\n",
    "\n",
    "slider_v0 = Slider(start=0, end=10, value=1, step=.05, title=\"v0\")\n",
    "slider_b = Slider(start=0, end=5, value=1, step=.05, title=\"b = (1/2)*c_W*roh*A/m\")\n",
    "\n",
    "callback = CustomJS(args=dict(source=source, slider_v0=slider_v0, slider_b=slider_b), code=\"\"\"\n",
    "    var data = source.data;\n",
    "    var v0 = slider_v0.value;\n",
    "    var b = slider_b.value;\n",
    "    var t = data['t'];\n",
    "    var v = data['v'];\n",
    "    for (var i = 0; i < t.length; i++) {\n",
    "        v[i] = 1/((1/v0) + b*t[i]);\n",
    "    }\n",
    "    source.change.emit();\n",
    "\"\"\")\n",
    "\n",
    "for slider in [slider_v0, slider_b]:\n",
    "    slider.js_on_change('value', callback)\n",
    "\n",
    "\n",
    "layout = column(plot, row(slider_v0, slider_b))\n",
    "\n",
    "show(layout)"
   ]
  },
  {
   "cell_type": "markdown",
   "metadata": {
    "slideshow": {
     "slide_type": "slide"
    }
   },
   "source": [
    "# HMIII Blatt 1 Aufgabe 4\n",
    "\n",
    "Gegeben sei die Differentialgleichung\n",
    "$$\n",
    "y′ = \\frac{y}{2x} + \\frac{y^α}{2}\n",
    "$$ für $\\alpha \\in \\mathbb{R}$.\n",
    " * **a)** Lösen Sie für $\\alpha = −1$ die Anfangswertprobleme mit $y(2) = \\pm \\sqrt{32}$.\n",
    " * **b)** Lösen Sie für $\\alpha = −2$ die Anfangswertprobleme mit $y(1) = \\pm 1$."
   ]
  },
  {
   "cell_type": "code",
   "execution_count": 26,
   "metadata": {
    "slideshow": {
     "slide_type": "subslide"
    }
   },
   "outputs": [
    {
     "data": {
      "text/html": [
       "\n",
       "<div class=\"bk-root\">\n",
       "    <div class=\"bk-plotdiv\" id=\"30700a5c-e202-47e2-8375-b493b6798653\"></div>\n",
       "</div>"
      ]
     },
     "metadata": {},
     "output_type": "display_data"
    },
    {
     "data": {
      "application/javascript": [
       "(function(root) {\n",
       "  function embed_document(root) {\n",
       "    \n",
       "  var docs_json = {\"1eed4352-fb7f-43dd-872d-8fa057f9108c\":{\"roots\":{\"references\":[{\"attributes\":{\"plot\":null,\"text\":\"\"},\"id\":\"8ea508de-30ea-4d1f-bafc-015c4005e57e\",\"type\":\"Title\"},{\"attributes\":{\"bottom_units\":\"screen\",\"fill_alpha\":{\"value\":0.5},\"fill_color\":{\"value\":\"lightgrey\"},\"left_units\":\"screen\",\"level\":\"overlay\",\"line_alpha\":{\"value\":1.0},\"line_color\":{\"value\":\"black\"},\"line_dash\":[4,4],\"line_width\":{\"value\":2},\"plot\":null,\"render_mode\":\"css\",\"right_units\":\"screen\",\"top_units\":\"screen\"},\"id\":\"6e0c5427-dff9-4e59-bb3a-a4462a1dd6e9\",\"type\":\"BoxAnnotation\"},{\"attributes\":{\"line_color\":\"red\",\"line_width\":3,\"x\":{\"field\":\"x\"},\"y\":{\"field\":\"y1\"}},\"id\":\"e3899ebe-be3f-4e1a-b4ba-e54473b51493\",\"type\":\"Line\"},{\"attributes\":{\"axis_label\":\"x\",\"formatter\":{\"id\":\"b5ff6067-89fc-4dfe-aed8-e64257aa5682\",\"type\":\"BasicTickFormatter\"},\"plot\":{\"id\":\"29e2140e-939a-45c0-82d4-005ce0f4454d\",\"subtype\":\"Figure\",\"type\":\"Plot\"},\"ticker\":{\"id\":\"38275173-81f8-4433-9693-a78ca1c29e60\",\"type\":\"BasicTicker\"}},\"id\":\"c67c7d95-55a4-4638-8476-a525f7c4de53\",\"type\":\"LinearAxis\"},{\"attributes\":{\"callback\":null},\"id\":\"edbd79e6-60c8-40ea-b5c5-cfceae38e5ab\",\"type\":\"DataRange1d\"},{\"attributes\":{\"line_alpha\":0.1,\"line_color\":\"#1f77b4\",\"line_width\":3,\"x\":{\"field\":\"x\"},\"y\":{\"field\":\"y2\"}},\"id\":\"169f9eaa-347f-42f7-9209-84967dc40a1b\",\"type\":\"Line\"},{\"attributes\":{},\"id\":\"38275173-81f8-4433-9693-a78ca1c29e60\",\"type\":\"BasicTicker\"},{\"attributes\":{\"data_source\":{\"id\":\"f33171c6-202e-4cd0-aaee-f3e37dc33783\",\"type\":\"ColumnDataSource\"},\"glyph\":{\"id\":\"6d8a8bf0-9a00-4c6e-a46b-792831b27e9c\",\"type\":\"Line\"},\"hover_glyph\":null,\"muted_glyph\":null,\"nonselection_glyph\":{\"id\":\"169f9eaa-347f-42f7-9209-84967dc40a1b\",\"type\":\"Line\"},\"selection_glyph\":null,\"view\":{\"id\":\"7e7682e1-ad13-49e0-8573-19560265e425\",\"type\":\"CDSView\"}},\"id\":\"5cd59526-3d79-4df9-8e31-878cfeaac94a\",\"type\":\"GlyphRenderer\"},{\"attributes\":{},\"id\":\"fb8db296-6a23-43f8-b0a2-5d1f2de3556a\",\"type\":\"BasicTicker\"},{\"attributes\":{\"callback\":null},\"id\":\"7071d084-5afc-41ff-8d1b-d8db077e0fe2\",\"type\":\"DataRange1d\"},{\"attributes\":{},\"id\":\"6056626c-a02c-499f-95de-293ef0121bb7\",\"type\":\"Selection\"},{\"attributes\":{},\"id\":\"e125ba3b-38b9-4746-ac67-a89158103138\",\"type\":\"ResetTool\"},{\"attributes\":{},\"id\":\"4593ea57-d338-4bd1-a79b-a8c4e0faff0c\",\"type\":\"SaveTool\"},{\"attributes\":{\"dimension\":1,\"plot\":{\"id\":\"29e2140e-939a-45c0-82d4-005ce0f4454d\",\"subtype\":\"Figure\",\"type\":\"Plot\"},\"ticker\":{\"id\":\"fb8db296-6a23-43f8-b0a2-5d1f2de3556a\",\"type\":\"BasicTicker\"}},\"id\":\"c8e402ba-3911-4617-9bed-c0adc7a20fd8\",\"type\":\"Grid\"},{\"attributes\":{\"callback\":null,\"data\":{\"x\":{\"__ndarray__\":\"AAAAAAAAAACBhJ9ciLqZP4GEn1yIuqk/YaN3ReZLsz+BhJ9ciLq5P9Gy4zmVFMA/YaN3ReZLwz/xkwtRN4PGP4GEn1yIusk/EXUzaNnxzD/RsuM5lRTQPxmrrb89sNE/YaN3ReZL0z+pm0HLjufUP/GTC1E3g9Y/OYzV1t8e2D+BhJ9ciLrZP8l8aeIwVts/EXUzaNnx3D9Zbf3tgY3eP9Gy4zmVFOA/9a7IfGni4D8Zq62/PbDhPz2nkgISfuI/YaN3ReZL4z+Fn1yIuhnkP6mbQcuO5+Q/zZcmDmO15T/xkwtRN4PmPxWQ8JMLUec/OYzV1t8e6D9diLoZtOzoP4GEn1yIuuk/pYCEn1yI6j/JfGniMFbrP+14TiUFJOw/EXUzaNnx7D81cRirrb/tP1lt/e2Bje4/fWniMFZb7z/RsuM5lRTwP+MwVlt/e/A/9a7IfGni8D8HLTueU0nxPxmrrb89sPE/Kykg4ScX8j89p5ICEn7yP08lBST85PI/YaN3ReZL8z9zIepm0LLzP4WfXIi6GfQ/lx3PqaSA9D+pm0HLjuf0P7sZtOx4TvU/zZcmDmO19T/fFZkvTRz2P/GTC1E3g/Y/AxJ+ciHq9j8VkPCTC1H3PycOY7X1t/c/OYzV1t8e+D9LCkj4yYX4P12Iuhm07Pg/bwYtO55T+T+BhJ9ciLr5P5MCEn5yIfo/pYCEn1yI+j+3/vbARu/6P8l8aeIwVvs/2/rbAxu9+z/teE4lBST8P//2wEbvivw/EXUzaNnx/D8j86WJw1j9PzVxGKutv/0/R++KzJcm/j9Zbf3tgY3+P2vrbw9s9P4/fWniMFZb/z+P51RSQML/P9Gy4zmVFABA2vGcSgpIAEDjMFZbf3sAQOxvD2z0rgBA9a7IfGniAED+7YGN3hUBQActO55TSQFAEGz0rsh8AUAZq62/PbABQCLqZtCy4wFAKykg4ScXAkA0aNnxnEoCQD2nkgISfgJARuZLE4exAkBPJQUk/OQCQFhkvjRxGANAYaN3ReZLA0Bq4jBWW38DQHMh6mbQsgNAfGCjd0XmA0CFn1yIuhkEQI7eFZkvTQRAlx3PqaSABECgXIi6GbQEQKmbQcuO5wRAstr62wMbBUC7GbTseE4FQMRYbf3tgQVAzZcmDmO1BUDW1t8e2OgFQN8VmS9NHAZA6FRSQMJPBkDxkwtRN4MGQPrSxGGstgZAAxJ+ciHqBkAMUTeDlh0HQBWQ8JMLUQdAHs+ppICEB0AnDmO19bcHQDBNHMZq6wdAOYzV1t8eCEBCy47nVFIIQEsKSPjJhQhAVEkBCT+5CEBdiLoZtOwIQGbHcyopIAlAbwYtO55TCUB4ReZLE4cJQIGEn1yIuglAisNYbf3tCUCTAhJ+ciEKQJxBy47nVApApYCEn1yICkCuvz2w0bsKQLf+9sBG7wpAwD2w0bsiC0DJfGniMFYLQNK7IvOliQtA2/rbAxu9C0DkOZUUkPALQO14TiUFJAxA9rcHNnpXDED/9sBG74oMQAg2eldkvgxAEXUzaNnxDEAatOx4TiUNQCPzpYnDWA1ALDJfmjiMDUA1cRirrb8NQD6w0bsi8w1AR++KzJcmDkBQLkTdDFoOQFlt/e2BjQ5AYqy2/vbADkBr628PbPQOQHQqKSDhJw9AfWniMFZbD0CGqJtBy44PQI/nVFJAwg9AmCYOY7X1D0DRsuM5lRQQQFVSQMJPLhBA2vGcSgpIEEBekfnSxGEQQOMwVlt/exBAZ9Cy4zmVEEDsbw9s9K4QQHAPbPSuyBBA9a7IfGniEEB5TiUFJPwQQP7tgY3eFRFAgo3eFZkvEUAHLTueU0kRQIvMlyYOYxFAEGz0rsh8EUCUC1E3g5YRQBmrrb89sBFAnUoKSPjJEUAi6mbQsuMRQKaJw1ht/RFAKykg4ScXEkCvyHxp4jASQDRo2fGcShJAuAc2eldkEkA9p5ICEn4SQMFG74rMlxJARuZLE4exEkDKhaibQcsSQE8lBST85BJA08RhrLb+EkBYZL40cRgTQNwDG70rMhNAYaN3ReZLE0DlQtTNoGUTQGriMFZbfxNA7oGN3hWZE0BzIepm0LITQPfARu+KzBNAfGCjd0XmE0AAAAAAAAAUQA==\",\"dtype\":\"float64\",\"shape\":[200]},\"y1\":{\"__ndarray__\":\"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\",\"dtype\":\"float64\",\"shape\":[200]},\"y2\":{\"__ndarray__\":\"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\",\"dtype\":\"float64\",\"shape\":[200]}},\"selected\":{\"id\":\"6056626c-a02c-499f-95de-293ef0121bb7\",\"type\":\"Selection\"},\"selection_policy\":{\"id\":\"1a51757c-1016-401e-8830-c0b50ba20a70\",\"type\":\"UnionRenderers\"}},\"id\":\"f33171c6-202e-4cd0-aaee-f3e37dc33783\",\"type\":\"ColumnDataSource\"},{\"attributes\":{},\"id\":\"84d08a68-0812-4054-9e71-69a47f3c8396\",\"type\":\"LinearScale\"},{\"attributes\":{\"active_drag\":\"auto\",\"active_inspect\":\"auto\",\"active_scroll\":\"auto\",\"active_tap\":\"auto\",\"tools\":[{\"id\":\"547b1a16-7f5f-48a3-a61f-f173ea1cdde6\",\"type\":\"PanTool\"},{\"id\":\"09d0b2e3-aadd-42b5-a5f3-94e2e1376cbc\",\"type\":\"WheelZoomTool\"},{\"id\":\"3046adc6-ca9f-4bce-b627-144abcad5f7a\",\"type\":\"BoxZoomTool\"},{\"id\":\"4593ea57-d338-4bd1-a79b-a8c4e0faff0c\",\"type\":\"SaveTool\"},{\"id\":\"e125ba3b-38b9-4746-ac67-a89158103138\",\"type\":\"ResetTool\"},{\"id\":\"8508be22-7ff9-4207-8a16-03af5c971cdd\",\"type\":\"HelpTool\"}]},\"id\":\"b56e1628-ef3c-4b7b-8e49-1292a48abfba\",\"type\":\"Toolbar\"},{\"attributes\":{},\"id\":\"d6dae531-5774-41a3-babf-b43e7f4a7cee\",\"type\":\"BasicTickFormatter\"},{\"attributes\":{\"below\":[{\"id\":\"c67c7d95-55a4-4638-8476-a525f7c4de53\",\"type\":\"LinearAxis\"}],\"left\":[{\"id\":\"6b58dcb5-c1ba-408d-a7e9-66e539a88a1c\",\"type\":\"LinearAxis\"}],\"plot_height\":400,\"plot_width\":800,\"renderers\":[{\"id\":\"c67c7d95-55a4-4638-8476-a525f7c4de53\",\"type\":\"LinearAxis\"},{\"id\":\"77d6417a-fdd1-4685-af16-0b67622a60dd\",\"type\":\"Grid\"},{\"id\":\"6b58dcb5-c1ba-408d-a7e9-66e539a88a1c\",\"type\":\"LinearAxis\"},{\"id\":\"c8e402ba-3911-4617-9bed-c0adc7a20fd8\",\"type\":\"Grid\"},{\"id\":\"6e0c5427-dff9-4e59-bb3a-a4462a1dd6e9\",\"type\":\"BoxAnnotation\"},{\"id\":\"f328ed3c-8d40-4e46-a769-a84a484fa349\",\"type\":\"GlyphRenderer\"},{\"id\":\"5cd59526-3d79-4df9-8e31-878cfeaac94a\",\"type\":\"GlyphRenderer\"}],\"title\":{\"id\":\"8ea508de-30ea-4d1f-bafc-015c4005e57e\",\"type\":\"Title\"},\"toolbar\":{\"id\":\"b56e1628-ef3c-4b7b-8e49-1292a48abfba\",\"type\":\"Toolbar\"},\"x_range\":{\"id\":\"edbd79e6-60c8-40ea-b5c5-cfceae38e5ab\",\"type\":\"DataRange1d\"},\"x_scale\":{\"id\":\"84d08a68-0812-4054-9e71-69a47f3c8396\",\"type\":\"LinearScale\"},\"y_range\":{\"id\":\"7071d084-5afc-41ff-8d1b-d8db077e0fe2\",\"type\":\"DataRange1d\"},\"y_scale\":{\"id\":\"8a5dc3de-c6a1-4642-94a3-09d834745c97\",\"type\":\"LinearScale\"}},\"id\":\"29e2140e-939a-45c0-82d4-005ce0f4454d\",\"subtype\":\"Figure\",\"type\":\"Plot\"},{\"attributes\":{},\"id\":\"547b1a16-7f5f-48a3-a61f-f173ea1cdde6\",\"type\":\"PanTool\"},{\"attributes\":{\"overlay\":{\"id\":\"6e0c5427-dff9-4e59-bb3a-a4462a1dd6e9\",\"type\":\"BoxAnnotation\"}},\"id\":\"3046adc6-ca9f-4bce-b627-144abcad5f7a\",\"type\":\"BoxZoomTool\"},{\"attributes\":{},\"id\":\"8a5dc3de-c6a1-4642-94a3-09d834745c97\",\"type\":\"LinearScale\"},{\"attributes\":{\"line_alpha\":0.1,\"line_color\":\"#1f77b4\",\"line_width\":3,\"x\":{\"field\":\"x\"},\"y\":{\"field\":\"y1\"}},\"id\":\"17e4f674-d8a4-4606-9869-896b96dc21f6\",\"type\":\"Line\"},{\"attributes\":{},\"id\":\"09d0b2e3-aadd-42b5-a5f3-94e2e1376cbc\",\"type\":\"WheelZoomTool\"},{\"attributes\":{},\"id\":\"8508be22-7ff9-4207-8a16-03af5c971cdd\",\"type\":\"HelpTool\"},{\"attributes\":{\"line_color\":\"blue\",\"line_width\":3,\"x\":{\"field\":\"x\"},\"y\":{\"field\":\"y2\"}},\"id\":\"6d8a8bf0-9a00-4c6e-a46b-792831b27e9c\",\"type\":\"Line\"},{\"attributes\":{\"source\":{\"id\":\"f33171c6-202e-4cd0-aaee-f3e37dc33783\",\"type\":\"ColumnDataSource\"}},\"id\":\"7e7682e1-ad13-49e0-8573-19560265e425\",\"type\":\"CDSView\"},{\"attributes\":{},\"id\":\"b5ff6067-89fc-4dfe-aed8-e64257aa5682\",\"type\":\"BasicTickFormatter\"},{\"attributes\":{\"source\":{\"id\":\"f33171c6-202e-4cd0-aaee-f3e37dc33783\",\"type\":\"ColumnDataSource\"}},\"id\":\"8954fff0-86d1-4521-aa1d-f4901fa25632\",\"type\":\"CDSView\"},{\"attributes\":{\"data_source\":{\"id\":\"f33171c6-202e-4cd0-aaee-f3e37dc33783\",\"type\":\"ColumnDataSource\"},\"glyph\":{\"id\":\"e3899ebe-be3f-4e1a-b4ba-e54473b51493\",\"type\":\"Line\"},\"hover_glyph\":null,\"muted_glyph\":null,\"nonselection_glyph\":{\"id\":\"17e4f674-d8a4-4606-9869-896b96dc21f6\",\"type\":\"Line\"},\"selection_glyph\":null,\"view\":{\"id\":\"8954fff0-86d1-4521-aa1d-f4901fa25632\",\"type\":\"CDSView\"}},\"id\":\"f328ed3c-8d40-4e46-a769-a84a484fa349\",\"type\":\"GlyphRenderer\"},{\"attributes\":{\"axis_label\":\"y\",\"formatter\":{\"id\":\"d6dae531-5774-41a3-babf-b43e7f4a7cee\",\"type\":\"BasicTickFormatter\"},\"plot\":{\"id\":\"29e2140e-939a-45c0-82d4-005ce0f4454d\",\"subtype\":\"Figure\",\"type\":\"Plot\"},\"ticker\":{\"id\":\"fb8db296-6a23-43f8-b0a2-5d1f2de3556a\",\"type\":\"BasicTicker\"}},\"id\":\"6b58dcb5-c1ba-408d-a7e9-66e539a88a1c\",\"type\":\"LinearAxis\"},{\"attributes\":{\"plot\":{\"id\":\"29e2140e-939a-45c0-82d4-005ce0f4454d\",\"subtype\":\"Figure\",\"type\":\"Plot\"},\"ticker\":{\"id\":\"38275173-81f8-4433-9693-a78ca1c29e60\",\"type\":\"BasicTicker\"}},\"id\":\"77d6417a-fdd1-4685-af16-0b67622a60dd\",\"type\":\"Grid\"},{\"attributes\":{},\"id\":\"1a51757c-1016-401e-8830-c0b50ba20a70\",\"type\":\"UnionRenderers\"}],\"root_ids\":[\"29e2140e-939a-45c0-82d4-005ce0f4454d\"]},\"title\":\"Bokeh Application\",\"version\":\"0.12.16\"}};\n",
       "  var render_items = [{\"docid\":\"1eed4352-fb7f-43dd-872d-8fa057f9108c\",\"elementid\":\"30700a5c-e202-47e2-8375-b493b6798653\",\"modelid\":\"29e2140e-939a-45c0-82d4-005ce0f4454d\"}];\n",
       "  root.Bokeh.embed.embed_items_notebook(docs_json, render_items);\n",
       "\n",
       "  }\n",
       "  if (root.Bokeh !== undefined) {\n",
       "    embed_document(root);\n",
       "  } else {\n",
       "    var attempts = 0;\n",
       "    var timer = setInterval(function(root) {\n",
       "      if (root.Bokeh !== undefined) {\n",
       "        embed_document(root);\n",
       "        clearInterval(timer);\n",
       "      }\n",
       "      attempts++;\n",
       "      if (attempts > 100) {\n",
       "        console.log(\"Bokeh: ERROR: Unable to run BokehJS code because BokehJS library is missing\")\n",
       "        clearInterval(timer);\n",
       "      }\n",
       "    }, 10, root)\n",
       "  }\n",
       "})(window);"
      ],
      "application/vnd.bokehjs_exec.v0+json": ""
     },
     "metadata": {
      "application/vnd.bokehjs_exec.v0+json": {
       "id": "29e2140e-939a-45c0-82d4-005ce0f4454d"
      }
     },
     "output_type": "display_data"
    }
   ],
   "source": [
    "with np.warnings.catch_warnings():\n",
    "    np.warnings.filterwarnings('ignore')\n",
    "    \n",
    "    x = np.linspace(0, 5, 200)\n",
    "    y1 = np.sqrt(x*np.log(x/2)+(3/4)*x)\n",
    "    y2 = -y1\n",
    "\n",
    "source = ColumnDataSource(data=dict(x=x, y1=y1, y2=y2))\n",
    "\n",
    "plot = Figure(plot_width=800, plot_height=400)\n",
    "plot.line(x='x', y='y1', source=source, line_width=3, line_color=\"red\")\n",
    "plot.line(x='x', y='y2', source=source, line_width=3, line_color=\"blue\")\n",
    "\n",
    "plot.xaxis[0].axis_label = \"x\"\n",
    "plot.yaxis[0].axis_label = \"y\"\n",
    "\n",
    "show(plot)"
   ]
  },
  {
   "cell_type": "code",
   "execution_count": 27,
   "metadata": {
    "slideshow": {
     "slide_type": "subslide"
    }
   },
   "outputs": [
    {
     "data": {
      "text/html": [
       "\n",
       "<div class=\"bk-root\">\n",
       "    <div class=\"bk-plotdiv\" id=\"fa3aa356-6d9e-4cd0-bc1a-0cb2e11259f4\"></div>\n",
       "</div>"
      ]
     },
     "metadata": {},
     "output_type": "display_data"
    },
    {
     "data": {
      "application/javascript": [
       "(function(root) {\n",
       "  function embed_document(root) {\n",
       "    \n",
       "  var docs_json = {\"e1d15d90-b93e-4586-8814-510a9ace825f\":{\"roots\":{\"references\":[{\"attributes\":{},\"id\":\"d07aa0ba-485e-4abf-b61b-23fee68e7934\",\"type\":\"PanTool\"},{\"attributes\":{\"plot\":null,\"text\":\"\"},\"id\":\"d56c60a9-8ff8-44f2-b83d-a88bd89d0ca9\",\"type\":\"Title\"},{\"attributes\":{\"active_drag\":\"auto\",\"active_inspect\":\"auto\",\"active_scroll\":\"auto\",\"active_tap\":\"auto\",\"tools\":[{\"id\":\"d07aa0ba-485e-4abf-b61b-23fee68e7934\",\"type\":\"PanTool\"},{\"id\":\"54528b6d-8a0b-43fd-af9a-15e830568334\",\"type\":\"WheelZoomTool\"},{\"id\":\"77a32214-7a2b-46dc-8947-b7ff176edfae\",\"type\":\"BoxZoomTool\"},{\"id\":\"61a2630c-5e58-4cac-97d7-67bee77c84c8\",\"type\":\"SaveTool\"},{\"id\":\"1d5891bd-6cfc-4870-9766-989e61f2161a\",\"type\":\"ResetTool\"},{\"id\":\"2d30b05f-27ab-4b42-96da-6e3cd2a00380\",\"type\":\"HelpTool\"}]},\"id\":\"fe7c1c88-20f3-4678-a13e-525711b2049e\",\"type\":\"Toolbar\"},{\"attributes\":{\"overlay\":{\"id\":\"9113b516-092c-47ae-9103-2d5fa78ac025\",\"type\":\"BoxAnnotation\"}},\"id\":\"77a32214-7a2b-46dc-8947-b7ff176edfae\",\"type\":\"BoxZoomTool\"},{\"attributes\":{\"source\":{\"id\":\"bbb3c995-0405-482e-86dc-aa4fe2ecc93c\",\"type\":\"ColumnDataSource\"}},\"id\":\"6cd70249-443f-4b32-be51-213b43af5b4d\",\"type\":\"CDSView\"},{\"attributes\":{\"line_color\":\"red\",\"line_width\":3,\"x\":{\"field\":\"x\"},\"y\":{\"field\":\"y1\"}},\"id\":\"7750734e-b85d-4836-b858-a592171e5863\",\"type\":\"Line\"},{\"attributes\":{\"source\":{\"id\":\"bbb3c995-0405-482e-86dc-aa4fe2ecc93c\",\"type\":\"ColumnDataSource\"}},\"id\":\"8699645e-b654-45b9-8812-d4661ddcdb2e\",\"type\":\"CDSView\"},{\"attributes\":{\"label\":{\"value\":\"for y(1) = -1\"},\"renderers\":[{\"id\":\"3c241d2f-5490-4648-9474-bc6b35e49837\",\"type\":\"GlyphRenderer\"}]},\"id\":\"1b9ee77f-4bb3-4ff8-ad28-f962b314790a\",\"type\":\"LegendItem\"},{\"attributes\":{},\"id\":\"96b15844-e830-4545-a956-b5500e25fef0\",\"type\":\"LinearScale\"},{\"attributes\":{},\"id\":\"2d30b05f-27ab-4b42-96da-6e3cd2a00380\",\"type\":\"HelpTool\"},{\"attributes\":{\"plot\":{\"id\":\"5adbb96f-e910-4b37-bc61-0867ef2df851\",\"subtype\":\"Figure\",\"type\":\"Plot\"},\"ticker\":{\"id\":\"167cd16b-3410-4267-874a-9c6a7710c662\",\"type\":\"BasicTicker\"}},\"id\":\"e84c3dae-d9ac-4cf9-8729-d79a93fd5ced\",\"type\":\"Grid\"},{\"attributes\":{\"below\":[{\"id\":\"f3f3dbe9-01b4-4d09-9855-b381ae256a16\",\"type\":\"LinearAxis\"}],\"left\":[{\"id\":\"89ed7599-797b-40b1-90b6-e258adb1d095\",\"type\":\"LinearAxis\"}],\"plot_height\":400,\"plot_width\":800,\"renderers\":[{\"id\":\"f3f3dbe9-01b4-4d09-9855-b381ae256a16\",\"type\":\"LinearAxis\"},{\"id\":\"e84c3dae-d9ac-4cf9-8729-d79a93fd5ced\",\"type\":\"Grid\"},{\"id\":\"89ed7599-797b-40b1-90b6-e258adb1d095\",\"type\":\"LinearAxis\"},{\"id\":\"c0a176fb-10ba-43a7-a8ef-2204ec7448a8\",\"type\":\"Grid\"},{\"id\":\"9113b516-092c-47ae-9103-2d5fa78ac025\",\"type\":\"BoxAnnotation\"},{\"id\":\"09ffb452-ab5e-4492-b38b-f6a1ca3b342c\",\"type\":\"Legend\"},{\"id\":\"a1e6c799-e1f5-4a9b-9e42-8edad4a8708e\",\"type\":\"GlyphRenderer\"},{\"id\":\"3c241d2f-5490-4648-9474-bc6b35e49837\",\"type\":\"GlyphRenderer\"}],\"title\":{\"id\":\"d56c60a9-8ff8-44f2-b83d-a88bd89d0ca9\",\"type\":\"Title\"},\"toolbar\":{\"id\":\"fe7c1c88-20f3-4678-a13e-525711b2049e\",\"type\":\"Toolbar\"},\"x_range\":{\"id\":\"d3922f26-95ea-408a-a837-b23e09df16bf\",\"type\":\"DataRange1d\"},\"x_scale\":{\"id\":\"96b15844-e830-4545-a956-b5500e25fef0\",\"type\":\"LinearScale\"},\"y_range\":{\"id\":\"722e6440-c31c-49e4-b073-f80ebd3a0a0a\",\"type\":\"DataRange1d\"},\"y_scale\":{\"id\":\"a143f574-a835-41c1-ac59-30e943c3c72e\",\"type\":\"LinearScale\"}},\"id\":\"5adbb96f-e910-4b37-bc61-0867ef2df851\",\"subtype\":\"Figure\",\"type\":\"Plot\"},{\"attributes\":{\"line_alpha\":0.1,\"line_color\":\"#1f77b4\",\"line_width\":3,\"x\":{\"field\":\"x\"},\"y\":{\"field\":\"y1\"}},\"id\":\"40495aed-eb93-48ed-97ee-5b2492f117dd\",\"type\":\"Line\"},{\"attributes\":{\"axis_label\":\"x\",\"formatter\":{\"id\":\"5e341898-171e-48fb-b1be-161bf9367f88\",\"type\":\"BasicTickFormatter\"},\"plot\":{\"id\":\"5adbb96f-e910-4b37-bc61-0867ef2df851\",\"subtype\":\"Figure\",\"type\":\"Plot\"},\"ticker\":{\"id\":\"167cd16b-3410-4267-874a-9c6a7710c662\",\"type\":\"BasicTicker\"}},\"id\":\"f3f3dbe9-01b4-4d09-9855-b381ae256a16\",\"type\":\"LinearAxis\"},{\"attributes\":{},\"id\":\"aabc5352-0241-4339-aed1-ce9de0f8323f\",\"type\":\"Selection\"},{\"attributes\":{\"data_source\":{\"id\":\"bbb3c995-0405-482e-86dc-aa4fe2ecc93c\",\"type\":\"ColumnDataSource\"},\"glyph\":{\"id\":\"7750734e-b85d-4836-b858-a592171e5863\",\"type\":\"Line\"},\"hover_glyph\":null,\"muted_glyph\":null,\"nonselection_glyph\":{\"id\":\"40495aed-eb93-48ed-97ee-5b2492f117dd\",\"type\":\"Line\"},\"selection_glyph\":null,\"view\":{\"id\":\"8699645e-b654-45b9-8812-d4661ddcdb2e\",\"type\":\"CDSView\"}},\"id\":\"a1e6c799-e1f5-4a9b-9e42-8edad4a8708e\",\"type\":\"GlyphRenderer\"},{\"attributes\":{},\"id\":\"2a99a9d2-3087-47c9-8ec9-bfaa89c12caf\",\"type\":\"BasicTickFormatter\"},{\"attributes\":{\"callback\":null},\"id\":\"722e6440-c31c-49e4-b073-f80ebd3a0a0a\",\"type\":\"DataRange1d\"},{\"attributes\":{\"callback\":null},\"id\":\"d3922f26-95ea-408a-a837-b23e09df16bf\",\"type\":\"DataRange1d\"},{\"attributes\":{\"callback\":null,\"data\":{\"x\":{\"__ndarray__\":\"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\",\"dtype\":\"float64\",\"shape\":[200]},\"y1\":{\"__ndarray__\":\"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\",\"dtype\":\"float64\",\"shape\":[200]},\"y2\":{\"__ndarray__\":\"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\",\"dtype\":\"float64\",\"shape\":[200]}},\"selected\":{\"id\":\"aabc5352-0241-4339-aed1-ce9de0f8323f\",\"type\":\"Selection\"},\"selection_policy\":{\"id\":\"a0db0591-7e0d-4c87-8ded-d2ef9a68e825\",\"type\":\"UnionRenderers\"}},\"id\":\"bbb3c995-0405-482e-86dc-aa4fe2ecc93c\",\"type\":\"ColumnDataSource\"},{\"attributes\":{},\"id\":\"a143f574-a835-41c1-ac59-30e943c3c72e\",\"type\":\"LinearScale\"},{\"attributes\":{\"line_alpha\":0.1,\"line_color\":\"#1f77b4\",\"line_width\":3,\"x\":{\"field\":\"x\"},\"y\":{\"field\":\"y2\"}},\"id\":\"ca8ca7c5-5999-42b4-885a-19db1649060d\",\"type\":\"Line\"},{\"attributes\":{\"dimension\":1,\"plot\":{\"id\":\"5adbb96f-e910-4b37-bc61-0867ef2df851\",\"subtype\":\"Figure\",\"type\":\"Plot\"},\"ticker\":{\"id\":\"aa8d667a-b403-44af-8f0c-1fef5e8c67c4\",\"type\":\"BasicTicker\"}},\"id\":\"c0a176fb-10ba-43a7-a8ef-2204ec7448a8\",\"type\":\"Grid\"},{\"attributes\":{\"label\":{\"value\":\"for y(1) = +1\"},\"renderers\":[{\"id\":\"a1e6c799-e1f5-4a9b-9e42-8edad4a8708e\",\"type\":\"GlyphRenderer\"}]},\"id\":\"d8922693-e3fa-42cc-b78b-5043b660baeb\",\"type\":\"LegendItem\"},{\"attributes\":{},\"id\":\"5e341898-171e-48fb-b1be-161bf9367f88\",\"type\":\"BasicTickFormatter\"},{\"attributes\":{},\"id\":\"aa8d667a-b403-44af-8f0c-1fef5e8c67c4\",\"type\":\"BasicTicker\"},{\"attributes\":{},\"id\":\"54528b6d-8a0b-43fd-af9a-15e830568334\",\"type\":\"WheelZoomTool\"},{\"attributes\":{\"items\":[{\"id\":\"d8922693-e3fa-42cc-b78b-5043b660baeb\",\"type\":\"LegendItem\"},{\"id\":\"1b9ee77f-4bb3-4ff8-ad28-f962b314790a\",\"type\":\"LegendItem\"}],\"plot\":{\"id\":\"5adbb96f-e910-4b37-bc61-0867ef2df851\",\"subtype\":\"Figure\",\"type\":\"Plot\"}},\"id\":\"09ffb452-ab5e-4492-b38b-f6a1ca3b342c\",\"type\":\"Legend\"},{\"attributes\":{},\"id\":\"61a2630c-5e58-4cac-97d7-67bee77c84c8\",\"type\":\"SaveTool\"},{\"attributes\":{\"data_source\":{\"id\":\"bbb3c995-0405-482e-86dc-aa4fe2ecc93c\",\"type\":\"ColumnDataSource\"},\"glyph\":{\"id\":\"7479a041-d9dc-480e-a6ba-6c9a82830473\",\"type\":\"Line\"},\"hover_glyph\":null,\"muted_glyph\":null,\"nonselection_glyph\":{\"id\":\"ca8ca7c5-5999-42b4-885a-19db1649060d\",\"type\":\"Line\"},\"selection_glyph\":null,\"view\":{\"id\":\"6cd70249-443f-4b32-be51-213b43af5b4d\",\"type\":\"CDSView\"}},\"id\":\"3c241d2f-5490-4648-9474-bc6b35e49837\",\"type\":\"GlyphRenderer\"},{\"attributes\":{\"bottom_units\":\"screen\",\"fill_alpha\":{\"value\":0.5},\"fill_color\":{\"value\":\"lightgrey\"},\"left_units\":\"screen\",\"level\":\"overlay\",\"line_alpha\":{\"value\":1.0},\"line_color\":{\"value\":\"black\"},\"line_dash\":[4,4],\"line_width\":{\"value\":2},\"plot\":null,\"render_mode\":\"css\",\"right_units\":\"screen\",\"top_units\":\"screen\"},\"id\":\"9113b516-092c-47ae-9103-2d5fa78ac025\",\"type\":\"BoxAnnotation\"},{\"attributes\":{},\"id\":\"a0db0591-7e0d-4c87-8ded-d2ef9a68e825\",\"type\":\"UnionRenderers\"},{\"attributes\":{\"line_color\":\"blue\",\"line_width\":3,\"x\":{\"field\":\"x\"},\"y\":{\"field\":\"y2\"}},\"id\":\"7479a041-d9dc-480e-a6ba-6c9a82830473\",\"type\":\"Line\"},{\"attributes\":{},\"id\":\"1d5891bd-6cfc-4870-9766-989e61f2161a\",\"type\":\"ResetTool\"},{\"attributes\":{\"axis_label\":\"y\",\"formatter\":{\"id\":\"2a99a9d2-3087-47c9-8ec9-bfaa89c12caf\",\"type\":\"BasicTickFormatter\"},\"plot\":{\"id\":\"5adbb96f-e910-4b37-bc61-0867ef2df851\",\"subtype\":\"Figure\",\"type\":\"Plot\"},\"ticker\":{\"id\":\"aa8d667a-b403-44af-8f0c-1fef5e8c67c4\",\"type\":\"BasicTicker\"}},\"id\":\"89ed7599-797b-40b1-90b6-e258adb1d095\",\"type\":\"LinearAxis\"},{\"attributes\":{},\"id\":\"167cd16b-3410-4267-874a-9c6a7710c662\",\"type\":\"BasicTicker\"}],\"root_ids\":[\"5adbb96f-e910-4b37-bc61-0867ef2df851\"]},\"title\":\"Bokeh Application\",\"version\":\"0.12.16\"}};\n",
       "  var render_items = [{\"docid\":\"e1d15d90-b93e-4586-8814-510a9ace825f\",\"elementid\":\"fa3aa356-6d9e-4cd0-bc1a-0cb2e11259f4\",\"modelid\":\"5adbb96f-e910-4b37-bc61-0867ef2df851\"}];\n",
       "  root.Bokeh.embed.embed_items_notebook(docs_json, render_items);\n",
       "\n",
       "  }\n",
       "  if (root.Bokeh !== undefined) {\n",
       "    embed_document(root);\n",
       "  } else {\n",
       "    var attempts = 0;\n",
       "    var timer = setInterval(function(root) {\n",
       "      if (root.Bokeh !== undefined) {\n",
       "        embed_document(root);\n",
       "        clearInterval(timer);\n",
       "      }\n",
       "      attempts++;\n",
       "      if (attempts > 100) {\n",
       "        console.log(\"Bokeh: ERROR: Unable to run BokehJS code because BokehJS library is missing\")\n",
       "        clearInterval(timer);\n",
       "      }\n",
       "    }, 10, root)\n",
       "  }\n",
       "})(window);"
      ],
      "application/vnd.bokehjs_exec.v0+json": ""
     },
     "metadata": {
      "application/vnd.bokehjs_exec.v0+json": {
       "id": "5adbb96f-e910-4b37-bc61-0867ef2df851"
      }
     },
     "output_type": "display_data"
    }
   ],
   "source": [
    "with np.warnings.catch_warnings():\n",
    "    np.warnings.filterwarnings('ignore')\n",
    "    \n",
    "    x = np.linspace(0, 5, 200)\n",
    "    y1 = (-3*x+4*x**(3/2))**(1/3)\n",
    "    y2 = (-3*x+2*x**(3/2))**(1/3)\n",
    "\n",
    "source = ColumnDataSource(data=dict(x=x, y1=y1, y2=y2))\n",
    "\n",
    "plot = Figure(plot_width=800, plot_height=400)\n",
    "plot.line(x='x', y='y1', source=source, line_width=3, line_color=\"red\", legend=\"for y(1) = +1\")\n",
    "plot.line(x='x', y='y2', source=source, line_width=3, line_color=\"blue\", legend=\"for y(1) = -1\")\n",
    "\n",
    "plot.xaxis[0].axis_label = \"x\"\n",
    "plot.yaxis[0].axis_label = \"y\"\n",
    "\n",
    "show(plot)"
   ]
  },
  {
   "cell_type": "markdown",
   "metadata": {
    "slideshow": {
     "slide_type": "slide"
    }
   },
   "source": [
    "<center>\n",
    "<span style=\"font-size: 40pt; line-height: 100px;\">\n",
    "Eigenwerte und Eigenvektoren\n",
    "</span>\n",
    "</center>\n",
    "\n",
    " vgl. Tut03"
   ]
  },
  {
   "cell_type": "code",
   "execution_count": 3,
   "metadata": {
    "slideshow": {
     "slide_type": "slide"
    }
   },
   "outputs": [
    {
     "data": {
      "text/html": [
       "<script type=\"text/javascript\" src=\"numeric-1.2.6.min.js\"></script>\n",
       "<script type=\"text/javascript\">\n",
       "    \n",
       "    function eigen_vec(v1, v2, id) {\n",
       "        \n",
       "        const scale = 3;\n",
       "        v1 *= scale;\n",
       "        v2 *= scale;\n",
       "        \n",
       "        var d = \"m 0,0 \"+v1.toFixed(2)+\",\"+v2.toFixed(2);\n",
       "        document.getElementById(id).setAttribute('d', d);\n",
       "        document.getElementById(id+\"_out\").setAttribute('d', d);\n",
       "    }\n",
       "    \n",
       "    function eq(a, b) {\n",
       "        const epsilon = 0.005\n",
       "        return Math.abs(b-a) < epsilon;\n",
       "    }\n",
       "    \n",
       "    function updateValue() {\n",
       "        \n",
       "        var a = parseFloat(document.getElementById(\"num_a\").value);\n",
       "        var b = parseFloat(document.getElementById(\"num_b\").value);\n",
       "        var c = parseFloat(document.getElementById(\"num_c\").value);\n",
       "        var d = parseFloat(document.getElementById(\"num_d\").value);\n",
       "        \n",
       "        var useEigenSpace = document.getElementById(\"useEigenSpace\").checked;\n",
       "        \n",
       "        var det = a*d - b*c;\n",
       "        \n",
       "        A = [[a, b], [c, d]];\n",
       "        ev = numeric.eig(A);\n",
       "        var lam1 = ev.lambda.x[0];\n",
       "        var lam2 = ev.lambda.x[1];\n",
       "        \n",
       "        var matrix_str = \"\";\n",
       "        if (!useEigenSpace) {\n",
       "            matrix_str = \"matrix(\"+a+\",\"+c+\",\"+b+\",\"+d+\",0,0)\"\n",
       "        } else {\n",
       "            var E = ev.E.x\n",
       "            var inv = numeric.inv(E);\n",
       "            var M = numeric.dot(inv, numeric.dot(A, E));\n",
       "            matrix_str = \"matrix(\"+M[0][0]+\",\"+M[1][0]+\",\"+M[0][1]+\",\"+M[1][1]+\",0,0)\"\n",
       "        }\n",
       "        \n",
       "        document.getElementById(\"bsp1_content\").setAttribute('transform', matrix_str);\n",
       "        document.getElementById(\"det\").innerHTML = det.toFixed(2);\n",
       "        document.getElementById(\"lam1\").innerHTML = lam1.toFixed(2);\n",
       "        document.getElementById(\"lam2\").innerHTML = lam2.toFixed(2);\n",
       "        \n",
       "        eigen_vec(ev.E.x[0][0], ev.E.x[1][0], \"eigen1\");\n",
       "        eigen_vec(ev.E.x[0][1], ev.E.x[1][1], \"eigen2\");\n",
       "        \n",
       "        //if(eq(lam1, lam2))\n",
       "        //    console.log(\"lam1 == lam2 \" + JSON.stringify(ev));\n",
       "        \n",
       "        var EigenVecNames = [\"eigen1\", \"eigen1_out\", \"eigen2\", \"eigen2_out\", \n",
       "                             \"marker_arrow_red_path\", \"marker_arrow_purple_path\"];\n",
       "        var opacity = useEigenSpace || matrix_str.indexOf(\"NaN\") != -1 || eq(lam1, lam2) \n",
       "                        ? \"0.0\" : \"1.0\";\n",
       "        for(var i = 0; i < EigenVecNames.length; i++) {\n",
       "            var el = document.getElementById(EigenVecNames[i]);\n",
       "            el.setAttribute(\"stroke-opacity\", opacity);\n",
       "            el.setAttribute(\"fill-opacity\", opacity);\n",
       "        }\n",
       "    }\n",
       "</script>\n",
       "\n",
       "<center>\n",
       "<table style=\"font-size: 12pt;\"><tr>\n",
       "\n",
       "<td>\n",
       "    <table>\n",
       "        <tr>\n",
       "            <td>$\\det(M) = $</td><td id=\"det\">1.00</td>\n",
       "        </tr>\n",
       "        <tr>\n",
       "            <td>$\\lambda_1 = $</td><td id=\"lam1\">1.00</td>\n",
       "        </tr>\n",
       "        <tr>\n",
       "            <td>$\\lambda_2 = $</td><td id=\"lam2\">1.00</td>\n",
       "        </tr>\n",
       "    </table>\n",
       "    \n",
       "    <label>Eigenraum</label>\n",
       "    <input id=\"useEigenSpace\" type=\"checkbox\" value=\"True\" onchange=\"updateValue();\"/>\n",
       "</td>\n",
       "\n",
       "<td>\n",
       "<table border=\"0\" style=\"border: none;\">\n",
       "<tr>\n",
       "    <td> \n",
       "        <table><tr> \n",
       "            <td style=\"min-width: 50px;\">$a = $</td> \n",
       "            <td><input type=\"number\" id=\"num_a\" value=\"1\" step=\"0.01\" \n",
       "                       style=\"max-width: 100px;\" oninput=\"updateValue();\"/></td> \n",
       "        </tr></table>\n",
       "    </td>\n",
       "    <td>\n",
       "        <table><tr>\n",
       "            <td style=\"min-width: 50px;\">$b = $</td>\n",
       "            <td><input type=\"number\" id=\"num_b\" value=\"0\" step=\"0.01\" \n",
       "                       style=\"max-width: 100px;\" oninput=\"updateValue();\"/></td> \n",
       "        </tr></table>\n",
       "    </td>\n",
       "</tr>\n",
       "<tr>\n",
       "    <td> \n",
       "        <table><tr> \n",
       "            <td style=\"min-width: 50px;\">$c = $</td> \n",
       "            <td><input type=\"number\" id=\"num_c\" value=\"0\" step=\"0.01\" \n",
       "                       style=\"max-width: 100px;\" oninput=\"updateValue();\"/></td> \n",
       "        </tr></table>\n",
       "    </td>\n",
       "    <td>\n",
       "        <table><tr>\n",
       "            <td style=\"min-width: 50px;\">$d = $</td>\n",
       "            <td><input type=\"number\" id=\"num_d\" value=\"1\" step=\"0.01\" \n",
       "                       style=\"max-width: 100px;\" oninput=\"updateValue();\"/></td> \n",
       "        </tr></table>\n",
       "    </td>\n",
       "</tr>\n",
       "</table>\n",
       "\n",
       "</td>\n",
       "</tr>\n",
       "</table>\n",
       "\n",
       "<center>\n",
       "<svg viewbox=\"-5.1, -5.1, 11, 11\" width=\"600px\" heigth=\"400px\">\n",
       "    <marker orient=\"auto\" refY=\"0\" refX=\"0\" id=\"marker_arrow\" style=\"overflow:visible\">\n",
       "        <path d=\"M 0,0 5,-5 -12.5,0 5,5 0,0 Z\"\n",
       "            style=\"stroke:gray; fill: gray;\" fill-opacity=\"0.5\" stroke-opacity=\"0.5\"\n",
       "            transform=\"matrix(-0.4,0,0,-0.4,-4,0)\" />\n",
       "    </marker>\n",
       "    <marker orient=\"auto\" refY=\"0\" refX=\"0\" id=\"marker_arrow_black\" style=\"overflow:visible\">\n",
       "        <path d=\"M 0,0 5,-5 -12.5,0 5,5 0,0 Z\"\n",
       "                style=\"stroke:black; fill: black;\"\n",
       "                transform=\"matrix(-0.4,0,0,-0.4,-4,0)\" />\n",
       "    </marker>\n",
       "    <marker orient=\"auto\" refY=\"0\" refX=\"0\" id=\"marker_arrow_red\" style=\"overflow:visible\">\n",
       "        <path id=\"marker_arrow_red_path\" d=\"M 0,0 5,-5 -12.5,0 5,5 0,0 Z\"\n",
       "                style=\"stroke:red; fill: red;\" stroke-opacity=\"1.0\" fill-opacity=\"1.0\"\n",
       "                transform=\"matrix(-0.4,0,0,-0.4,-4,0)\" />\n",
       "    </marker>\n",
       "    <marker orient=\"auto\" refY=\"0\" refX=\"0\" id=\"marker_arrow_purple\" style=\"overflow:visible\">\n",
       "        <path id=\"marker_arrow_purple_path\" d=\"M 0,0 5,-5 -12.5,0 5,5 0,0 Z\"\n",
       "                style=\"stroke:purple; fill: purple;\" stroke-opacity=\"1.0\" fill-opacity=\"1.0\"\n",
       "                transform=\"matrix(-0.4,0,0,-0.4,-4,0)\" />\n",
       "    </marker>\n",
       "    <g transform=\"scale(1, -1)\">\n",
       "        <path d=\"m 0,-4.5, 0,9\"\n",
       "            style=\"stroke:black;stroke-width:0.1;marker-end:url(#marker_arrow_black)\" />\n",
       "        <path d=\"m -4.5,0, 9,0\"\n",
       "            style=\"stroke:black;stroke-width:0.1;marker-end:url(#marker_arrow_black)\" />\n",
       "        <g id=\"black_markers\"></g>\n",
       "        \n",
       "        <g id=\"bsp1_content\" transform=\"matrix(1, 0, 0, 1, 0, 0)\">\n",
       "            <path d=\"m 0,-4.5, 0,9\" fill-opacity=\"0.5\" stroke-opacity=\"0.5\"\n",
       "                style=\"stroke:gray;stroke-width:0.1;marker-end:url(#marker_arrow)\" />\n",
       "            <path d=\"m -4.5,0, 9,0\" fill-opacity=\"0.5\" stroke-opacity=\"0.5\"\n",
       "                style=\"stroke:gray;stroke-width:0.1;marker-end:url(#marker_arrow)\" />\n",
       "            <g id=\"gray_markers\"></g>\n",
       "            \n",
       "            <rect x=\"1\" y=\"1\" width=\"2\" height=\"2\" fill=\"blue\" stroke=\"black\" \n",
       "                stroke-width=\"0.1\" />\n",
       "            <line x1=\"1\" y1=\"1\" x2=\"0\" y2=\"1\" stroke=\"black\" stroke-width=\"0.04\" stroke-dasharray=\"0.04, 0.04\" \n",
       "                stroke-opacity=\"0.5\" />\n",
       "            <line x1=\"1\" y1=\"1\" x2=\"1\" y2=\"0\" stroke=\"black\" stroke-width=\"0.04\" stroke-dasharray=\"0.04, 0.04\" \n",
       "                stroke-opacity=\"0.5\" />\n",
       "            <line x1=\"3\" y1=\"1\" x2=\"3\" y2=\"0\" stroke=\"black\" stroke-width=\"0.04\" stroke-dasharray=\"0.04, 0.04\" \n",
       "                stroke-opacity=\"0.5\" />\n",
       "            <line x1=\"1\" y1=\"3\" x2=\"0\" y2=\"3\" stroke=\"black\" stroke-width=\"0.04\" stroke-dasharray=\"0.04, 0.04\" \n",
       "                stroke-opacity=\"0.5\" />\n",
       "            <polygon points=\"350,75  379,161 469,161 397,215 423,301 350,250 277,301 303,215 231,161 321,161\"\n",
       "                style=\"fill:green;stroke:black;stroke-width:5;fill-rule:evenodd;\"\n",
       "                transform=\"translate(-8, -6) scale(0.015)\" />\n",
       "            <polygon points=\"-1,1 -1,3 -3,1\" \n",
       "                style=\"fill:orange;stroke:black;stroke-width:0.1;fill-rule:evenodd;\" />\n",
       "            <text x=\"0.5\" y=\"3\" style=\"font-size: 1.8\" transform=\"scale(1, -1)\" stroke=\"balck\" fill=\"brown\"\n",
       "                    font-family=\"MathJax_Script\">\n",
       "                <tspan stroke=\"black\" stroke-width=\"0.07\">KIT</tspan>\n",
       "            </text>\n",
       "            \n",
       "            \n",
       "            <path id=\"eigen1\" d=\"m 0,0, 0,3\"\n",
       "                style=\"stroke:red;stroke-width:0.1;marker-end:url(#marker_arrow_red)\"\n",
       "                stroke-opacity=\"1.0\" fill-opacity=\"1.0\" />\n",
       "            <path id=\"eigen2\" d=\"m 0,0, 3,0\"\n",
       "                style=\"stroke:purple;stroke-width:0.1;marker-end:url(#marker_arrow_purple)\" \n",
       "                stroke-opacity=\"1.0\" fill-opacity=\"1.0\"/>\n",
       "            \n",
       "        </g>\n",
       "        \n",
       "        <path id=\"eigen1_out\" d=\"m 0,0, 0,3\"\n",
       "            style=\"stroke:red;stroke-width:0.1;marker-end:url(#marker_arrow_red)\" \n",
       "            stroke-opacity=\"1.0\" fill-opacity=\"1.0\"/>\n",
       "        <path id=\"eigen2_out\" d=\"m 0,0, 3,0\"\n",
       "            style=\"stroke:purple;stroke-width:0.1;marker-end:url(#marker_arrow_purple);\" \n",
       "            stroke-opacity=\"1.0\" fill-opacity=\"1.0\"/>\n",
       "        \n",
       "    </g>\n",
       "</svg>\n",
       "</center>\n",
       "\n",
       "<script type=\"text/javascript\">\n",
       "    function marker_text(stroke, params) {\n",
       "        s = \"\";\n",
       "        for(y = -4.0; y < 4; y += 1.0) {\n",
       "            s += '<line x1=\"-0.2\" x2=\"0.2\" y1=\"' + y + '\" y2=\"' + y +\n",
       "                   '\" stroke=\"' + stroke + '\" stroke-width=\"0.05\" ' + params + ' />\\n';\n",
       "        }\n",
       "        for(x = -4.0; x < 4; x += 1.0) {\n",
       "            s +=  '<line y1=\"-0.2\" y2=\"0.2\" x1=\"' + x + '\" x2=\"' + x \n",
       "                  + '\" stroke=\"' + stroke + '\" stroke-width=\"0.05\" />\\n';\n",
       "        }\n",
       "        return s;\n",
       "    }\n",
       "    \n",
       "    document.getElementById(\"black_markers\").innerHTML = marker_text(\"black\");\n",
       "    document.getElementById(\"gray_markers\").innerHTML = \n",
       "        marker_text(\"gray\", 'fill-opacity=\"0.5\" stroke-opacity=\"0.5\"');\n",
       "</script>\n",
       "\n",
       "</center>"
      ],
      "text/plain": [
       "<IPython.core.display.HTML object>"
      ]
     },
     "metadata": {},
     "output_type": "display_data"
    }
   ],
   "source": [
    "%%html\n",
    "<script type=\"text/javascript\" src=\"numeric-1.2.6.min.js\"></script>\n",
    "<script type=\"text/javascript\">\n",
    "    \n",
    "    function eigen_vec(v1, v2, id) {\n",
    "        \n",
    "        const scale = 3;\n",
    "        v1 *= scale;\n",
    "        v2 *= scale;\n",
    "        \n",
    "        var d = \"m 0,0 \"+v1.toFixed(2)+\",\"+v2.toFixed(2);\n",
    "        document.getElementById(id).setAttribute('d', d);\n",
    "        document.getElementById(id+\"_out\").setAttribute('d', d);\n",
    "    }\n",
    "    \n",
    "    function eq(a, b) {\n",
    "        const epsilon = 0.005\n",
    "        return Math.abs(b-a) < epsilon;\n",
    "    }\n",
    "    \n",
    "    function updateValue() {\n",
    "        \n",
    "        var a = parseFloat(document.getElementById(\"num_a\").value);\n",
    "        var b = parseFloat(document.getElementById(\"num_b\").value);\n",
    "        var c = parseFloat(document.getElementById(\"num_c\").value);\n",
    "        var d = parseFloat(document.getElementById(\"num_d\").value);\n",
    "        \n",
    "        var useEigenSpace = document.getElementById(\"useEigenSpace\").checked;\n",
    "        \n",
    "        var det = a*d - b*c;\n",
    "        \n",
    "        A = [[a, b], [c, d]];\n",
    "        ev = numeric.eig(A);\n",
    "        var lam1 = ev.lambda.x[0];\n",
    "        var lam2 = ev.lambda.x[1];\n",
    "        \n",
    "        var matrix_str = \"\";\n",
    "        if (!useEigenSpace) {\n",
    "            matrix_str = \"matrix(\"+a+\",\"+c+\",\"+b+\",\"+d+\",0,0)\"\n",
    "        } else {\n",
    "            var E = ev.E.x\n",
    "            var inv = numeric.inv(E);\n",
    "            var M = numeric.dot(inv, numeric.dot(A, E));\n",
    "            matrix_str = \"matrix(\"+M[0][0]+\",\"+M[1][0]+\",\"+M[0][1]+\",\"+M[1][1]+\",0,0)\"\n",
    "        }\n",
    "        \n",
    "        document.getElementById(\"bsp1_content\").setAttribute('transform', matrix_str);\n",
    "        document.getElementById(\"det\").innerHTML = det.toFixed(2);\n",
    "        document.getElementById(\"lam1\").innerHTML = lam1.toFixed(2);\n",
    "        document.getElementById(\"lam2\").innerHTML = lam2.toFixed(2);\n",
    "        \n",
    "        eigen_vec(ev.E.x[0][0], ev.E.x[1][0], \"eigen1\");\n",
    "        eigen_vec(ev.E.x[0][1], ev.E.x[1][1], \"eigen2\");\n",
    "        \n",
    "        //if(eq(lam1, lam2))\n",
    "        //    console.log(\"lam1 == lam2 \" + JSON.stringify(ev));\n",
    "        \n",
    "        var EigenVecNames = [\"eigen1\", \"eigen1_out\", \"eigen2\", \"eigen2_out\", \n",
    "                             \"marker_arrow_red_path\", \"marker_arrow_purple_path\"];\n",
    "        var opacity = useEigenSpace || matrix_str.indexOf(\"NaN\") != -1 || eq(lam1, lam2) \n",
    "                        ? \"0.0\" : \"1.0\";\n",
    "        for(var i = 0; i < EigenVecNames.length; i++) {\n",
    "            var el = document.getElementById(EigenVecNames[i]);\n",
    "            el.setAttribute(\"stroke-opacity\", opacity);\n",
    "            el.setAttribute(\"fill-opacity\", opacity);\n",
    "        }\n",
    "    }\n",
    "</script>\n",
    "\n",
    "<center>\n",
    "<table style=\"font-size: 12pt;\"><tr>\n",
    "\n",
    "<td>\n",
    "    <table>\n",
    "        <tr>\n",
    "            <td>$\\det(M) = $</td><td id=\"det\">1.00</td>\n",
    "        </tr>\n",
    "        <tr>\n",
    "            <td>$\\lambda_1 = $</td><td id=\"lam1\">1.00</td>\n",
    "        </tr>\n",
    "        <tr>\n",
    "            <td>$\\lambda_2 = $</td><td id=\"lam2\">1.00</td>\n",
    "        </tr>\n",
    "    </table>\n",
    "    \n",
    "    <label>Eigenraum</label>\n",
    "    <input id=\"useEigenSpace\" type=\"checkbox\" value=\"True\" onchange=\"updateValue();\"/>\n",
    "</td>\n",
    "\n",
    "<td>\n",
    "<table border=\"0\" style=\"border: none;\">\n",
    "<tr>\n",
    "    <td> \n",
    "        <table><tr> \n",
    "            <td style=\"min-width: 50px;\">$a = $</td> \n",
    "            <td><input type=\"number\" id=\"num_a\" value=\"1\" step=\"0.01\" \n",
    "                       style=\"max-width: 100px;\" oninput=\"updateValue();\"/></td> \n",
    "        </tr></table>\n",
    "    </td>\n",
    "    <td>\n",
    "        <table><tr>\n",
    "            <td style=\"min-width: 50px;\">$b = $</td>\n",
    "            <td><input type=\"number\" id=\"num_b\" value=\"0\" step=\"0.01\" \n",
    "                       style=\"max-width: 100px;\" oninput=\"updateValue();\"/></td> \n",
    "        </tr></table>\n",
    "    </td>\n",
    "</tr>\n",
    "<tr>\n",
    "    <td> \n",
    "        <table><tr> \n",
    "            <td style=\"min-width: 50px;\">$c = $</td> \n",
    "            <td><input type=\"number\" id=\"num_c\" value=\"0\" step=\"0.01\" \n",
    "                       style=\"max-width: 100px;\" oninput=\"updateValue();\"/></td> \n",
    "        </tr></table>\n",
    "    </td>\n",
    "    <td>\n",
    "        <table><tr>\n",
    "            <td style=\"min-width: 50px;\">$d = $</td>\n",
    "            <td><input type=\"number\" id=\"num_d\" value=\"1\" step=\"0.01\" \n",
    "                       style=\"max-width: 100px;\" oninput=\"updateValue();\"/></td> \n",
    "        </tr></table>\n",
    "    </td>\n",
    "</tr>\n",
    "</table>\n",
    "\n",
    "</td>\n",
    "</tr>\n",
    "</table>\n",
    "\n",
    "<center>\n",
    "<svg viewbox=\"-5.1, -5.1, 11, 11\" width=\"600px\" heigth=\"400px\">\n",
    "    <marker orient=\"auto\" refY=\"0\" refX=\"0\" id=\"marker_arrow\" style=\"overflow:visible\">\n",
    "        <path d=\"M 0,0 5,-5 -12.5,0 5,5 0,0 Z\"\n",
    "            style=\"stroke:gray; fill: gray;\" fill-opacity=\"0.5\" stroke-opacity=\"0.5\"\n",
    "            transform=\"matrix(-0.4,0,0,-0.4,-4,0)\" />\n",
    "    </marker>\n",
    "    <marker orient=\"auto\" refY=\"0\" refX=\"0\" id=\"marker_arrow_black\" style=\"overflow:visible\">\n",
    "        <path d=\"M 0,0 5,-5 -12.5,0 5,5 0,0 Z\"\n",
    "                style=\"stroke:black; fill: black;\"\n",
    "                transform=\"matrix(-0.4,0,0,-0.4,-4,0)\" />\n",
    "    </marker>\n",
    "    <marker orient=\"auto\" refY=\"0\" refX=\"0\" id=\"marker_arrow_red\" style=\"overflow:visible\">\n",
    "        <path id=\"marker_arrow_red_path\" d=\"M 0,0 5,-5 -12.5,0 5,5 0,0 Z\"\n",
    "                style=\"stroke:red; fill: red;\" stroke-opacity=\"1.0\" fill-opacity=\"1.0\"\n",
    "                transform=\"matrix(-0.4,0,0,-0.4,-4,0)\" />\n",
    "    </marker>\n",
    "    <marker orient=\"auto\" refY=\"0\" refX=\"0\" id=\"marker_arrow_purple\" style=\"overflow:visible\">\n",
    "        <path id=\"marker_arrow_purple_path\" d=\"M 0,0 5,-5 -12.5,0 5,5 0,0 Z\"\n",
    "                style=\"stroke:purple; fill: purple;\" stroke-opacity=\"1.0\" fill-opacity=\"1.0\"\n",
    "                transform=\"matrix(-0.4,0,0,-0.4,-4,0)\" />\n",
    "    </marker>\n",
    "    <g transform=\"scale(1, -1)\">\n",
    "        <path d=\"m 0,-4.5, 0,9\"\n",
    "            style=\"stroke:black;stroke-width:0.1;marker-end:url(#marker_arrow_black)\" />\n",
    "        <path d=\"m -4.5,0, 9,0\"\n",
    "            style=\"stroke:black;stroke-width:0.1;marker-end:url(#marker_arrow_black)\" />\n",
    "        <g id=\"black_markers\"></g>\n",
    "        \n",
    "        <g id=\"bsp1_content\" transform=\"matrix(1, 0, 0, 1, 0, 0)\">\n",
    "            <path d=\"m 0,-4.5, 0,9\" fill-opacity=\"0.5\" stroke-opacity=\"0.5\"\n",
    "                style=\"stroke:gray;stroke-width:0.1;marker-end:url(#marker_arrow)\" />\n",
    "            <path d=\"m -4.5,0, 9,0\" fill-opacity=\"0.5\" stroke-opacity=\"0.5\"\n",
    "                style=\"stroke:gray;stroke-width:0.1;marker-end:url(#marker_arrow)\" />\n",
    "            <g id=\"gray_markers\"></g>\n",
    "            \n",
    "            <rect x=\"1\" y=\"1\" width=\"2\" height=\"2\" fill=\"blue\" stroke=\"black\" \n",
    "                stroke-width=\"0.1\" />\n",
    "            <line x1=\"1\" y1=\"1\" x2=\"0\" y2=\"1\" stroke=\"black\" stroke-width=\"0.04\" stroke-dasharray=\"0.04, 0.04\" \n",
    "                stroke-opacity=\"0.5\" />\n",
    "            <line x1=\"1\" y1=\"1\" x2=\"1\" y2=\"0\" stroke=\"black\" stroke-width=\"0.04\" stroke-dasharray=\"0.04, 0.04\" \n",
    "                stroke-opacity=\"0.5\" />\n",
    "            <line x1=\"3\" y1=\"1\" x2=\"3\" y2=\"0\" stroke=\"black\" stroke-width=\"0.04\" stroke-dasharray=\"0.04, 0.04\" \n",
    "                stroke-opacity=\"0.5\" />\n",
    "            <line x1=\"1\" y1=\"3\" x2=\"0\" y2=\"3\" stroke=\"black\" stroke-width=\"0.04\" stroke-dasharray=\"0.04, 0.04\" \n",
    "                stroke-opacity=\"0.5\" />\n",
    "            <polygon points=\"350,75  379,161 469,161 397,215 423,301 350,250 277,301 303,215 231,161 321,161\"\n",
    "                style=\"fill:green;stroke:black;stroke-width:5;fill-rule:evenodd;\"\n",
    "                transform=\"translate(-8, -6) scale(0.015)\" />\n",
    "            <polygon points=\"-1,1 -1,3 -3,1\" \n",
    "                style=\"fill:orange;stroke:black;stroke-width:0.1;fill-rule:evenodd;\" />\n",
    "            <text x=\"0.5\" y=\"3\" style=\"font-size: 1.8\" transform=\"scale(1, -1)\" stroke=\"balck\" fill=\"brown\"\n",
    "                    font-family=\"MathJax_Script\">\n",
    "                <tspan stroke=\"black\" stroke-width=\"0.07\">KIT</tspan>\n",
    "            </text>\n",
    "            \n",
    "            \n",
    "            <path id=\"eigen1\" d=\"m 0,0, 0,3\"\n",
    "                style=\"stroke:red;stroke-width:0.1;marker-end:url(#marker_arrow_red)\"\n",
    "                stroke-opacity=\"1.0\" fill-opacity=\"1.0\" />\n",
    "            <path id=\"eigen2\" d=\"m 0,0, 3,0\"\n",
    "                style=\"stroke:purple;stroke-width:0.1;marker-end:url(#marker_arrow_purple)\" \n",
    "                stroke-opacity=\"1.0\" fill-opacity=\"1.0\"/>\n",
    "            \n",
    "        </g>\n",
    "        \n",
    "        <path id=\"eigen1_out\" d=\"m 0,0, 0,3\"\n",
    "            style=\"stroke:red;stroke-width:0.1;marker-end:url(#marker_arrow_red)\" \n",
    "            stroke-opacity=\"1.0\" fill-opacity=\"1.0\"/>\n",
    "        <path id=\"eigen2_out\" d=\"m 0,0, 3,0\"\n",
    "            style=\"stroke:purple;stroke-width:0.1;marker-end:url(#marker_arrow_purple);\" \n",
    "            stroke-opacity=\"1.0\" fill-opacity=\"1.0\"/>\n",
    "        \n",
    "    </g>\n",
    "</svg>\n",
    "</center>\n",
    "\n",
    "<script type=\"text/javascript\">\n",
    "    function marker_text(stroke, params) {\n",
    "        s = \"\";\n",
    "        for(y = -4.0; y < 4; y += 1.0) {\n",
    "            s += '<line x1=\"-0.2\" x2=\"0.2\" y1=\"' + y + '\" y2=\"' + y +\n",
    "                   '\" stroke=\"' + stroke + '\" stroke-width=\"0.05\" ' + params + ' />\\n';\n",
    "        }\n",
    "        for(x = -4.0; x < 4; x += 1.0) {\n",
    "            s +=  '<line y1=\"-0.2\" y2=\"0.2\" x1=\"' + x + '\" x2=\"' + x \n",
    "                  + '\" stroke=\"' + stroke + '\" stroke-width=\"0.05\" />\\n';\n",
    "        }\n",
    "        return s;\n",
    "    }\n",
    "    \n",
    "    document.getElementById(\"black_markers\").innerHTML = marker_text(\"black\");\n",
    "    document.getElementById(\"gray_markers\").innerHTML = \n",
    "        marker_text(\"gray\", 'fill-opacity=\"0.5\" stroke-opacity=\"0.5\"');\n",
    "</script>\n",
    "\n",
    "</center>"
   ]
  },
  {
   "cell_type": "markdown",
   "metadata": {
    "slideshow": {
     "slide_type": "slide"
    }
   },
   "source": [
    "# ETIT HMII 2014 Herbst Aufgabe 1 (6+4 Punkte)\n",
    "\n",
    "Gegeben sei die symmetrische Matrix\n",
    "$$\n",
    "A = \\frac{1}{2} \\cdot \n",
    "    \\begin{pmatrix}3 & 1 & 1 \\\\ 1 & 2 & 0 \\\\ 1 & 0 & 2\\end{pmatrix} \n",
    "    \\in \\mathbb{R}^{3 \\times 3}\n",
    "$$\n",
    " * **a)** Bestimmen Sie die Eigenwerte und die Eigenvektoren der Matrix $A$.\n",
    " * **b)** Bestimmen Sie eine orthogonale Matrix $S \\in \\mathbb{R}^{3 \\times 3}$ so, dass $S^{−1} A S$ Diagonalgestalt hat.Geben Sie $S^{−1}$und $S^{−1} A S$ an."
   ]
  },
  {
   "cell_type": "code",
   "execution_count": 3,
   "metadata": {
    "collapsed": true,
    "slideshow": {
     "slide_type": "skip"
    }
   },
   "outputs": [],
   "source": [
    "from sympy.interactive.printing import init_printing\n",
    "init_printing(use_latex='mathjax')\n",
    "from sympy.matrices import Matrix\n",
    "from sympy import Symbol\n",
    "import sympy as sy\n",
    "\n",
    "from sympy.printing.latex import latex\n",
    "\n",
    "def mathtex(sy_obj):\n",
    "    return latex(sy_obj).replace(\"\\\\left[\\\\begin{matrix}\", \"\\\\begin{bmatrix}\") \\\n",
    "                        .replace(\"\\\\end{matrix}\\\\right]\", \"\\\\end{bmatrix}\") \\\n",
    "                        .replace(\"\\\\left(\\\\begin{matrix}\", \"\\\\begin{pmatrix}\") \\\n",
    "                        .replace(\"\\\\end{matrix}\\\\right)\", \"\\\\end{pmatrix}\")\n",
    "\n",
    "def eigenTable(name, mat):\n",
    "    ev = mat.eigenvects()\n",
    "    \n",
    "    s = \"$$\"\n",
    "    s += name + \" = \" + mathtex(mat) + \"\\\\\\\\\"\n",
    "    s += \"$$</span>\"\n",
    "    #s += \"<table style='float:right'><tr><th>$\\\\lambda$</th><th>$\\\\vec{v}$</th></tr><tr>\" + \\\n",
    "    #     \"</tr><tr>\".join([\"<td>$%s$</td><td>$%s$</td>\" % (mathtex(l), mathtex(v)) for l, c, v in ev]) + \\\n",
    "    #     \"</tr></table>\"\n",
    "    s += \"<style>.my-table td { min-width: 150px; }</style>\"\n",
    "    s += \"<center><table class='my-table'><tr><th>$\\\\lambda$</th><td>\" + \\\n",
    "         \"</td><td>\".join([\"$%s$\" % mathtex(l) for l, c, v in ev]) + \\\n",
    "         \\\n",
    "         \"</td></tr><tr><th>$\\\\text{alg}$</th><td>\" + \\\n",
    "         \"</td><td>\".join([\"$%s$\" % mathtex(c) for l, c, v in ev]) + \\\n",
    "         \\\n",
    "         \"</td></tr><tr><th>$\\\\vec{v}$</th><td>\" + \\\n",
    "         \"</td><td>\".join([\"$%s$\" % mathtex(sy.simplify(v[0])) for l, c, v in ev]) + \\\n",
    "        \\\n",
    "         \"</td></tr></table></center>\"\n",
    "        \n",
    "    return s\n",
    "\n",
    "def tex2py(tex):\n",
    "    return tex.replace(\"\\\\begin{pmatrix}\", \"[[\") \\\n",
    "              .replace(\"&\", \",\") \\\n",
    "              .replace(\"\\\\\\\\\", \"],[\") \\\n",
    "              .replace(\"\\\\end{pmatrix}\", \"]]\") \\\n",
    "              .replace(\"\\n\", \"\") \\\n",
    "              .replace(\"\\r\", \"\") \\\n",
    "              .replace(\" \", \"\") \\\n",
    "              .replace(\"−\", \"-\") \\\n",
    "              .replace(\"\\\\alpha\", \"a\")\n",
    "\n",
    "def asList(tex):\n",
    "    return eval(tex2py(tex))\n",
    "\n",
    "def asMatrix(tex):\n",
    "    return Matrix(asList(tex))"
   ]
  },
  {
   "cell_type": "code",
   "execution_count": 4,
   "metadata": {
    "slideshow": {
     "slide_type": "subslide"
    }
   },
   "outputs": [
    {
     "data": {
      "text/html": [
       "$$A = \\begin{bmatrix}\\frac{3}{2} & \\frac{1}{2} & \\frac{1}{2}\\\\\\frac{1}{2} & 1 & 0\\\\\\frac{1}{2} & 0 & 1\\end{bmatrix}\\\\$$</span><style>.my-table td { min-width: 150px; }</style><center><table class='my-table'><tr><th>$\\lambda$</th><td>$\\frac{1}{2}$</td><td>$1$</td><td>$2$</td></tr><tr><th>$\\text{alg}$</th><td>$1$</td><td>$1$</td><td>$1$</td></tr><tr><th>$\\vec{v}$</th><td>$\\begin{bmatrix}-1\\\\1\\\\1\\end{bmatrix}$</td><td>$\\begin{bmatrix}0\\\\-1\\\\1\\end{bmatrix}$</td><td>$\\begin{bmatrix}2\\\\1\\\\1\\end{bmatrix}$</td></tr></table></center>"
      ],
      "text/plain": [
       "<IPython.core.display.HTML object>"
      ]
     },
     "metadata": {},
     "output_type": "display_data"
    }
   ],
   "source": [
    "A = asMatrix(\"\\\\begin{pmatrix} 3 & 1 & 1 \\\\\\\\ 1 & 2 & 0 \\\\\\\\ 1 & 0 & 2 \\\\end{pmatrix}\")/2\n",
    "disp.display(disp.HTML(eigenTable(\"A\", A)))"
   ]
  },
  {
   "cell_type": "markdown",
   "metadata": {
    "slideshow": {
     "slide_type": "slide"
    }
   },
   "source": [
    "# ETIT HMII Frühjahr 2015 Aufgabe 1 (6+4 Punkte)\n",
    "\n",
    "Gegeben sei die symmetrische Matrix\n",
    "$$\n",
    "A = \\begin{pmatrix}−3&−2&−4\\\\−2&0&−2\\\\−4&−2&−3\\end{pmatrix}\n",
    "    \\in \\mathbb{R}^{3 \\times 3}\n",
    "$$\n",
    "\n",
    " * **a)** Bestimmen Sie die Eigenwerte und die Eigenvektoren der Matrix $A$.\n",
    " * **b)** Bestimmen Sie eine orthogonale Matrix $S \\in \\mathbb{R}^{3 \\times 3}$ so, dass $S^{−1} A S$ Diagonalgestalt hat.Geben Sie $S^{−1}$ und $S^{−1} A S$ an.\n",
    "\n"
   ]
  },
  {
   "cell_type": "code",
   "execution_count": 6,
   "metadata": {
    "slideshow": {
     "slide_type": "subslide"
    }
   },
   "outputs": [
    {
     "data": {
      "text/html": [
       "$$A = \\begin{bmatrix}-3 & -2 & -4\\\\-2 & 0 & -2\\\\-4 & -2 & -3\\end{bmatrix}\\\\$$</span><style>.my-table td { min-width: 150px; }</style><center><table class='my-table'><tr><th>$\\lambda$</th><td>$-8$</td><td>$1$</td></tr><tr><th>$\\text{alg}$</th><td>$1$</td><td>$2$</td></tr><tr><th>$\\vec{v}$</th><td>$\\begin{bmatrix}1\\\\\\frac{1}{2}\\\\1\\end{bmatrix}$</td><td>$\\begin{bmatrix}- \\frac{1}{2}\\\\1\\\\0\\end{bmatrix}$</td></tr></table></center>"
      ],
      "text/plain": [
       "<IPython.core.display.HTML object>"
      ]
     },
     "metadata": {},
     "output_type": "display_data"
    }
   ],
   "source": [
    "A = asMatrix(\"\\\\begin{pmatrix}−3&−2&−4\\\\\\\\−2&0&−2\\\\\\\\−4&−2&−3\\\\end{pmatrix}\")\n",
    "disp.display(disp.HTML(eigenTable(\"A\", A)))"
   ]
  },
  {
   "cell_type": "markdown",
   "metadata": {
    "slideshow": {
     "slide_type": "slide"
    }
   },
   "source": [
    "<center>\n",
    "<span style=\"font-size: 40pt; line-height: 100px;\">\n",
    "Vielen Dank\n",
    "</span>\n",
    "</center>"
   ]
  },
  {
   "cell_type": "code",
   "execution_count": 32,
   "metadata": {
    "slideshow": {
     "slide_type": "skip"
    }
   },
   "outputs": [
    {
     "name": "stdout",
     "output_type": "stream",
     "text": [
      "[NbConvertApp] Converting notebook Tut04.ipynb to slides\n",
      "[NbConvertApp] Writing 417277 bytes to Tut04.slides.html\n",
      "custom.css  numeric-1.2.6.min.js  Tut04.ipynb  Tut04.slides.html\n"
     ]
    }
   ],
   "source": [
    "# Don't forget to save first                             --SlidesExporter.reveal_scroll=False\n",
    "!jupyter nbconvert Tut04.ipynb --to slides --reveal-prefix ./../../../../reveal --SlidesExporter.reveal_theme=white \n",
    "!ls"
   ]
  },
  {
   "cell_type": "code",
   "execution_count": null,
   "metadata": {
    "collapsed": true,
    "slideshow": {
     "slide_type": "skip"
    }
   },
   "outputs": [],
   "source": []
  }
 ],
 "metadata": {
  "celltoolbar": "Slideshow",
  "kernelspec": {
   "display_name": "Python 3",
   "language": "python",
   "name": "python3"
  },
  "language_info": {
   "codemirror_mode": {
    "name": "ipython",
    "version": 3
   },
   "file_extension": ".py",
   "mimetype": "text/x-python",
   "name": "python",
   "nbconvert_exporter": "python",
   "pygments_lexer": "ipython3",
   "version": "3.5.2"
  }
 },
 "nbformat": 4,
 "nbformat_minor": 2
}
