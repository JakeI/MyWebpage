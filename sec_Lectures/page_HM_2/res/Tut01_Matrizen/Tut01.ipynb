{
 "cells": [
  {
   "cell_type": "code",
   "execution_count": 1,
   "metadata": {
    "collapsed": true,
    "slideshow": {
     "slide_type": "skip"
    }
   },
   "outputs": [],
   "source": [
    "%matplotlib qt5\n",
    "import matplotlib.pyplot as plt\n",
    "import numpy as np\n",
    "import IPython.display as disp"
   ]
  },
  {
   "cell_type": "code",
   "execution_count": 2,
   "metadata": {
    "collapsed": true,
    "slideshow": {
     "slide_type": "skip"
    }
   },
   "outputs": [],
   "source": [
    "%matplotlib inline"
   ]
  },
  {
   "cell_type": "markdown",
   "metadata": {
    "slideshow": {
     "slide_type": "slide"
    }
   },
   "source": [
    "# Tut 01 - Matrizen\n",
    "\n",
    "<center>\n",
    "<img src=\"https://imgs.xkcd.com/comics/matrix_transform.png\">\n",
    "</center>\n",
    "\n",
    "*Jochen Illerhaus - jochen.illerhaus@student.kit.edu*"
   ]
  },
  {
   "cell_type": "markdown",
   "metadata": {
    "slideshow": {
     "slide_type": "slide"
    }
   },
   "source": [
    "# Orga\n",
    "\n",
    "<ul style=\"font-size: 30pt; line-height: 1.5;\">\n",
    "<li><a href=\"http://bit.ly/2HayX3w\">http://bit.ly/2HayX3w</a></li>\n",
    "<li>jochen.illerhaus@student.kit.edu</li>\n",
    "</ul>"
   ]
  },
  {
   "cell_type": "markdown",
   "metadata": {
    "slideshow": {
     "slide_type": "slide"
    }
   },
   "source": [
    "<center>\n",
    "<span style=\"font-size: 40pt; line-height: 100px;\">\n",
    "Fragen\n",
    "</span>\n",
    "</center>"
   ]
  },
  {
   "cell_type": "code",
   "execution_count": 179,
   "metadata": {
    "slideshow": {
     "slide_type": "slide"
    }
   },
   "outputs": [
    {
     "data": {
      "text/html": [
       "<script type=\"text/javascript\">\n",
       "    function updateValue() {\n",
       "        \n",
       "        var content = document.getElementById(\"bsp1_content\");\n",
       "        \n",
       "        var a = document.getElementById(\"num_a\").value;\n",
       "        var b = document.getElementById(\"num_b\").value;\n",
       "        var c = document.getElementById(\"num_c\").value;\n",
       "        var d = document.getElementById(\"num_d\").value;\n",
       "        \n",
       "        content.setAttribute('transform', \"matrix(\"+a+\",\"+c+\",\"+b+\",\"+d+\",0,0)\");\n",
       "    }\n",
       "</script>\n",
       "\n",
       "<table><tr>\n",
       "\n",
       "<td>\n",
       "<p>\n",
       "    Benutze Transormationsmatrix $\\begin{pmatrix} a & b \\\\ c & d \\end{pmatrix}$\n",
       "</p>\n",
       "</td>\n",
       "\n",
       "<td>\n",
       "<table border=\"0\" style=\"border: none;\">\n",
       "<tr>\n",
       "    <td> \n",
       "        <table><tr> \n",
       "            <td style=\"min-width: 50px;\">$a = $</td> \n",
       "            <td><input type=\"number\" id=\"num_a\" value=\"1\" step=\"0.01\" \n",
       "                       style=\"max-width: 100px;\" oninput=\"updateValue();\"/></td> \n",
       "        </tr></table>\n",
       "    </td>\n",
       "    <td>\n",
       "        <table><tr>\n",
       "            <td style=\"min-width: 50px;\">$b = $</td>\n",
       "            <td><input type=\"number\" id=\"num_b\" value=\"0\" step=\"0.01\" \n",
       "                       style=\"max-width: 100px;\" oninput=\"updateValue();\"/></td> \n",
       "        </tr></table>\n",
       "    </td>\n",
       "</tr>\n",
       "<tr>\n",
       "    <td> \n",
       "        <table><tr> \n",
       "            <td style=\"min-width: 50px;\">$c = $</td> \n",
       "            <td><input type=\"number\" id=\"num_c\" value=\"0\" step=\"0.01\" \n",
       "                       style=\"max-width: 100px;\" oninput=\"updateValue();\"/></td> \n",
       "        </tr></table>\n",
       "    </td>\n",
       "    <td>\n",
       "        <table><tr>\n",
       "            <td style=\"min-width: 50px;\">$d = $</td>\n",
       "            <td><input type=\"number\" id=\"num_d\" value=\"1\" step=\"0.01\" \n",
       "                       style=\"max-width: 100px;\" oninput=\"updateValue();\"/></td> \n",
       "        </tr></table>\n",
       "    </td>\n",
       "</tr>\n",
       "</table>\n",
       "\n",
       "</td>\n",
       "</table>\n",
       "\n",
       "<center>\n",
       "<svg viewbox=\"-5.1, -5.1, 11, 11\" width=\"600px\" heigth=\"400px\">\n",
       "    <marker orient=\"auto\" refY=\"0\" refX=\"0\" id=\"marker_arrow\" style=\"overflow:visible\">\n",
       "        <path d=\"M 0,0 5,-5 -12.5,0 5,5 0,0 Z\"\n",
       "            style=\"stroke:gray; fill: gray;\"\n",
       "            transform=\"matrix(-0.4,0,0,-0.4,-4,0)\" />\n",
       "    </marker>\n",
       "    <marker orient=\"auto\" refY=\"0\" refX=\"0\" id=\"marker_arrow_black\" style=\"overflow:visible\">\n",
       "        <path d=\"M 0,0 5,-5 -12.5,0 5,5 0,0 Z\"\n",
       "                style=\"stroke:black; fill: black;\"\n",
       "                transform=\"matrix(-0.4,0,0,-0.4,-4,0)\" />\n",
       "    </marker>\n",
       "    <g transform=\"scale(1, -1)\">\n",
       "        <path d=\"m 0,-4.5, 0,9\"\n",
       "            style=\"stroke:black;stroke-width:0.1;marker-end:url(#marker_arrow_black)\" />\n",
       "        <path d=\"m -4.5,0, 9,0\"\n",
       "            style=\"stroke:black;stroke-width:0.1;marker-end:url(#marker_arrow_black)\" />\n",
       "        <g id=\"bsp1_content\" transform=\"matrix(1, 0, 0, 1, 0, 0)\">\n",
       "            <path d=\"m 0,-4.5, 0,9\"\n",
       "                style=\"stroke:gray;stroke-width:0.1;marker-end:url(#marker_arrow)\" />\n",
       "            <path d=\"m -4.5,0, 9,0\"\n",
       "                style=\"stroke:gray;stroke-width:0.1;marker-end:url(#marker_arrow)\" />\n",
       "                \n",
       "            <rect x=\"0.5\" y=\"0.5\" width=\"1\" height=\"3\" fill=\"blue\" stroke=\"black\" stroke-width=\"0.1\"/>\n",
       "            <polygon points=\"350,75  379,161 469,161 397,215 423,301 350,250 277,301 303,215 231,161 321,161\"\n",
       "                style=\"fill:green;stroke:black;stroke-width:5;fill-rule:evenodd;\"\n",
       "                transform=\"translate(-8, -6) scale(0.015)\" />\n",
       "        </g>\n",
       "    </g>\n",
       "</svg>\n",
       "</center>"
      ],
      "text/plain": [
       "<IPython.core.display.HTML object>"
      ]
     },
     "metadata": {},
     "output_type": "display_data"
    }
   ],
   "source": [
    "%%html\n",
    "<script type=\"text/javascript\">\n",
    "    function updateValue() {\n",
    "        \n",
    "        var content = document.getElementById(\"bsp1_content\");\n",
    "        \n",
    "        var a = document.getElementById(\"num_a\").value;\n",
    "        var b = document.getElementById(\"num_b\").value;\n",
    "        var c = document.getElementById(\"num_c\").value;\n",
    "        var d = document.getElementById(\"num_d\").value;\n",
    "        \n",
    "        content.setAttribute('transform', \"matrix(\"+a+\",\"+c+\",\"+b+\",\"+d+\",0,0)\");\n",
    "    }\n",
    "</script>\n",
    "\n",
    "<table><tr>\n",
    "\n",
    "<td>\n",
    "<p>\n",
    "    Benutze Transormationsmatrix $\\begin{pmatrix} a & b \\\\ c & d \\end{pmatrix}$\n",
    "</p>\n",
    "</td>\n",
    "\n",
    "<td>\n",
    "<table border=\"0\" style=\"border: none;\">\n",
    "<tr>\n",
    "    <td> \n",
    "        <table><tr> \n",
    "            <td style=\"min-width: 50px;\">$a = $</td> \n",
    "            <td><input type=\"number\" id=\"num_a\" value=\"1\" step=\"0.01\" \n",
    "                       style=\"max-width: 100px;\" oninput=\"updateValue();\"/></td> \n",
    "        </tr></table>\n",
    "    </td>\n",
    "    <td>\n",
    "        <table><tr>\n",
    "            <td style=\"min-width: 50px;\">$b = $</td>\n",
    "            <td><input type=\"number\" id=\"num_b\" value=\"0\" step=\"0.01\" \n",
    "                       style=\"max-width: 100px;\" oninput=\"updateValue();\"/></td> \n",
    "        </tr></table>\n",
    "    </td>\n",
    "</tr>\n",
    "<tr>\n",
    "    <td> \n",
    "        <table><tr> \n",
    "            <td style=\"min-width: 50px;\">$c = $</td> \n",
    "            <td><input type=\"number\" id=\"num_c\" value=\"0\" step=\"0.01\" \n",
    "                       style=\"max-width: 100px;\" oninput=\"updateValue();\"/></td> \n",
    "        </tr></table>\n",
    "    </td>\n",
    "    <td>\n",
    "        <table><tr>\n",
    "            <td style=\"min-width: 50px;\">$d = $</td>\n",
    "            <td><input type=\"number\" id=\"num_d\" value=\"1\" step=\"0.01\" \n",
    "                       style=\"max-width: 100px;\" oninput=\"updateValue();\"/></td> \n",
    "        </tr></table>\n",
    "    </td>\n",
    "</tr>\n",
    "</table>\n",
    "\n",
    "</td>\n",
    "</table>\n",
    "\n",
    "<center>\n",
    "<svg viewbox=\"-5.1, -5.1, 11, 11\" width=\"600px\" heigth=\"400px\">\n",
    "    <marker orient=\"auto\" refY=\"0\" refX=\"0\" id=\"marker_arrow\" style=\"overflow:visible\">\n",
    "        <path d=\"M 0,0 5,-5 -12.5,0 5,5 0,0 Z\"\n",
    "            style=\"stroke:gray; fill: gray;\"\n",
    "            transform=\"matrix(-0.4,0,0,-0.4,-4,0)\" />\n",
    "    </marker>\n",
    "    <marker orient=\"auto\" refY=\"0\" refX=\"0\" id=\"marker_arrow_black\" style=\"overflow:visible\">\n",
    "        <path d=\"M 0,0 5,-5 -12.5,0 5,5 0,0 Z\"\n",
    "                style=\"stroke:black; fill: black;\"\n",
    "                transform=\"matrix(-0.4,0,0,-0.4,-4,0)\" />\n",
    "    </marker>\n",
    "    <g transform=\"scale(1, -1)\">\n",
    "        <path d=\"m 0,-4.5, 0,9\"\n",
    "            style=\"stroke:black;stroke-width:0.1;marker-end:url(#marker_arrow_black)\" />\n",
    "        <path d=\"m -4.5,0, 9,0\"\n",
    "            style=\"stroke:black;stroke-width:0.1;marker-end:url(#marker_arrow_black)\" />\n",
    "        <g id=\"bsp1_content\" transform=\"matrix(1, 0, 0, 1, 0, 0)\">\n",
    "            <path d=\"m 0,-4.5, 0,9\"\n",
    "                style=\"stroke:gray;stroke-width:0.1;marker-end:url(#marker_arrow)\" />\n",
    "            <path d=\"m -4.5,0, 9,0\"\n",
    "                style=\"stroke:gray;stroke-width:0.1;marker-end:url(#marker_arrow)\" />\n",
    "                \n",
    "            <rect x=\"0.5\" y=\"0.5\" width=\"1\" height=\"3\" fill=\"blue\" stroke=\"black\" stroke-width=\"0.1\"/>\n",
    "            <polygon points=\"350,75  379,161 469,161 397,215 423,301 350,250 277,301 303,215 231,161 321,161\"\n",
    "                style=\"fill:green;stroke:black;stroke-width:5;fill-rule:evenodd;\"\n",
    "                transform=\"translate(-8, -6) scale(0.015)\" />\n",
    "        </g>\n",
    "    </g>\n",
    "</svg>\n",
    "</center>"
   ]
  },
  {
   "cell_type": "markdown",
   "metadata": {
    "slideshow": {
     "slide_type": "slide"
    }
   },
   "source": [
    "# Blatt 1 Aufgabe 1a\n",
    "\n",
    "Gegeben sind die Matrizen\n",
    "\n",
    "\\begin{align}\n",
    "A = \\begin{pmatrix}2 & 3i & -1 \\\\ 0 & 1 & 1-i \\\\ 2+i & 4 & -3 \\end{pmatrix} \\;\\;,\\;\\;\\;\\;\\;\\;\\;\n",
    "B = \\begin{pmatrix}1 & -i & 3 \\\\ 1 & -1 & 2 \\\\ 0 & 3 & 0 \\end{pmatrix} \\;\\;,\\;\\;\\;\\;\\;\\;\\;\n",
    "C = \\begin{pmatrix}i & 0 \\\\ 1 & -i \\\\ 2 & 2\\end{pmatrix}\n",
    "\\end{align}\n",
    "\n",
    "Entscheiden Sie, welche der folgenden Ausdrücke definiert sind, und berechnen Sie diesegegebenenfalls:\n",
    "\n",
    "$$\n",
    "A + B \\;\\;,\\;\\;\\;\\;\\;\\;\\; A + C \\;\\;,\\;\\;\\;\\;\\;\\;\\; BA \\;\\;,\\;\\;\\;\\;\\;\\;\\; CB \\;\\;,\\;\\;\\;\\;\\;\\;\\; \\big(A+B\\big)C\n",
    "$$\n",
    "\n",
    "# Blatt 1 Aufgabe 1b\n",
    "\n",
    "Sei $A = \\begin{pmatrix}0&1\\\\0&2\\end{pmatrix} \\in \\mathbb{R}^{2 \\times 2}$. Bestimmen Sie alle Matrizen $L \\in \\mathbb{R}^{2 \\times 2 }$ mit $LA = \\begin{pmatrix}0&0\\\\0&0\\end{pmatrix}$."
   ]
  },
  {
   "cell_type": "code",
   "execution_count": 175,
   "metadata": {
    "slideshow": {
     "slide_type": "slide"
    }
   },
   "outputs": [
    {
     "data": {
      "text/html": [
       "<script type=\"text/javascript\">\n",
       "    function updatePhi() {\n",
       "        \n",
       "        var content = document.getElementById(\"phi_content\");\n",
       "        \n",
       "        var phi = document.getElementById(\"num_phi\").value * Math.PI;\n",
       "        \n",
       "        var a = Math.cos(phi);\n",
       "        var b = -Math.sin(phi);\n",
       "        var c = -b;\n",
       "        var d = a\n",
       "        \n",
       "        content.setAttribute('transform', \"matrix(\"+a+\",\"+c+\",\"+b+\",\"+d+\",0,0)\");\n",
       "    }\n",
       "</script>\n",
       "\n",
       "<table><tr>\n",
       "\n",
       "<td>\n",
       "<p>\n",
       "    Benutze Transormationsmatrix \n",
       "    $\\begin{pmatrix} \\cos(\\varphi) & -\\sin(\\varphi) \\\\ \\sin(\\varphi) & \\cos(\\varphi) \\end{pmatrix}$\n",
       "</p>\n",
       "</td>\n",
       "\n",
       "<td>\n",
       "<table border=\"0\" style=\"border: none;\">\n",
       "<tr>\n",
       "    <td> \n",
       "        <table><tr> \n",
       "        \n",
       "            <td style=\"min-width: 50px;\">$\\varphi / \\pi = $</td> \n",
       "            <td><input type=\"number\" id=\"num_phi\" value=\"0\" step=\"0.01\" \n",
       "                       style=\"max-width: 100px;\" oninput=\"updatePhi();\"/></td> \n",
       "        </tr></table>\n",
       "    </td>\n",
       "</tr>\n",
       "</table>\n",
       "\n",
       "</td>\n",
       "</table>\n",
       "\n",
       "<center>\n",
       "<svg viewbox=\"-5.1, -5.1, 11, 11\" width=\"600px\" heigth=\"400px\">\n",
       "    <marker orient=\"auto\" refY=\"0\" refX=\"0\" id=\"marker_arrow\" style=\"overflow:visible\">\n",
       "        <path d=\"M 0,0 5,-5 -12.5,0 5,5 0,0 Z\"\n",
       "            style=\"stroke:gray; fill: gray;\"\n",
       "            transform=\"matrix(-0.4,0,0,-0.4,-4,0)\" />\n",
       "    </marker>\n",
       "    <marker orient=\"auto\" refY=\"0\" refX=\"0\" id=\"marker_arrow_black\" style=\"overflow:visible\">\n",
       "        <path d=\"M 0,0 5,-5 -12.5,0 5,5 0,0 Z\"\n",
       "                style=\"stroke:black; fill: black;\"\n",
       "                transform=\"matrix(-0.4,0,0,-0.4,-4,0)\" />\n",
       "    </marker>\n",
       "    <g transform=\"scale(1, -1)\">\n",
       "        <path d=\"m 0,-4.5, 0,9\"\n",
       "            style=\"stroke:black;stroke-width:0.1;marker-end:url(#marker_arrow_black)\" />\n",
       "        <path d=\"m -4.5,0, 9,0\"\n",
       "            style=\"stroke:black;stroke-width:0.1;marker-end:url(#marker_arrow_black)\" />\n",
       "        <g id=\"phi_content\" transform=\"matrix(1, 0, 0, 1, 0, 0)\">\n",
       "            <path d=\"m 0,-4.5, 0,9\"\n",
       "                style=\"stroke:gray;stroke-width:0.1;marker-end:url(#marker_arrow)\" />\n",
       "            <path d=\"m -4.5,0, 9,0\"\n",
       "                style=\"stroke:gray;stroke-width:0.1;marker-end:url(#marker_arrow)\" />\n",
       "                \n",
       "            <rect x=\"0.5\" y=\"0.5\" width=\"1\" height=\"3\" fill=\"blue\" stroke=\"black\" stroke-width=\"0.1\"/>\n",
       "            <polygon points=\"350,75  379,161 469,161 397,215 423,301 350,250 277,301 303,215 231,161 321,161\"\n",
       "                style=\"fill:green;stroke:black;stroke-width:5;fill-rule:evenodd;\"\n",
       "                transform=\"translate(-8, -6) scale(0.015)\" />\n",
       "        </g>\n",
       "    </g>\n",
       "</svg>\n",
       "</center>"
      ],
      "text/plain": [
       "<IPython.core.display.HTML object>"
      ]
     },
     "metadata": {},
     "output_type": "display_data"
    }
   ],
   "source": [
    "%%html\n",
    "<script type=\"text/javascript\">\n",
    "    function updatePhi() {\n",
    "        \n",
    "        var content = document.getElementById(\"phi_content\");\n",
    "        \n",
    "        var phi = document.getElementById(\"num_phi\").value * Math.PI;\n",
    "        \n",
    "        var a = Math.cos(phi);\n",
    "        var b = -Math.sin(phi);\n",
    "        var c = -b;\n",
    "        var d = a\n",
    "        \n",
    "        content.setAttribute('transform', \"matrix(\"+a+\",\"+c+\",\"+b+\",\"+d+\",0,0)\");\n",
    "    }\n",
    "</script>\n",
    "\n",
    "<table><tr>\n",
    "\n",
    "<td>\n",
    "<p>\n",
    "    Benutze Transormationsmatrix \n",
    "    $\\begin{pmatrix} \\cos(\\varphi) & -\\sin(\\varphi) \\\\ \\sin(\\varphi) & \\cos(\\varphi) \\end{pmatrix}$\n",
    "</p>\n",
    "</td>\n",
    "\n",
    "<td>\n",
    "<table border=\"0\" style=\"border: none;\">\n",
    "<tr>\n",
    "    <td> \n",
    "        <table><tr> \n",
    "        \n",
    "            <td style=\"min-width: 50px;\">$\\varphi / \\pi = $</td> \n",
    "            <td><input type=\"number\" id=\"num_phi\" value=\"0\" step=\"0.01\" \n",
    "                       style=\"max-width: 100px;\" oninput=\"updatePhi();\"/></td> \n",
    "        </tr></table>\n",
    "    </td>\n",
    "</tr>\n",
    "</table>\n",
    "\n",
    "</td>\n",
    "</table>\n",
    "\n",
    "<center>\n",
    "<svg viewbox=\"-5.1, -5.1, 11, 11\" width=\"600px\" heigth=\"400px\">\n",
    "    <marker orient=\"auto\" refY=\"0\" refX=\"0\" id=\"marker_arrow\" style=\"overflow:visible\">\n",
    "        <path d=\"M 0,0 5,-5 -12.5,0 5,5 0,0 Z\"\n",
    "            style=\"stroke:gray; fill: gray;\"\n",
    "            transform=\"matrix(-0.4,0,0,-0.4,-4,0)\" />\n",
    "    </marker>\n",
    "    <marker orient=\"auto\" refY=\"0\" refX=\"0\" id=\"marker_arrow_black\" style=\"overflow:visible\">\n",
    "        <path d=\"M 0,0 5,-5 -12.5,0 5,5 0,0 Z\"\n",
    "                style=\"stroke:black; fill: black;\"\n",
    "                transform=\"matrix(-0.4,0,0,-0.4,-4,0)\" />\n",
    "    </marker>\n",
    "    <g transform=\"scale(1, -1)\">\n",
    "        <path d=\"m 0,-4.5, 0,9\"\n",
    "            style=\"stroke:black;stroke-width:0.1;marker-end:url(#marker_arrow_black)\" />\n",
    "        <path d=\"m -4.5,0, 9,0\"\n",
    "            style=\"stroke:black;stroke-width:0.1;marker-end:url(#marker_arrow_black)\" />\n",
    "        <g id=\"phi_content\" transform=\"matrix(1, 0, 0, 1, 0, 0)\">\n",
    "            <path d=\"m 0,-4.5, 0,9\"\n",
    "                style=\"stroke:gray;stroke-width:0.1;marker-end:url(#marker_arrow)\" />\n",
    "            <path d=\"m -4.5,0, 9,0\"\n",
    "                style=\"stroke:gray;stroke-width:0.1;marker-end:url(#marker_arrow)\" />\n",
    "                \n",
    "            <rect x=\"0.5\" y=\"0.5\" width=\"1\" height=\"3\" fill=\"blue\" stroke=\"black\" stroke-width=\"0.1\"/>\n",
    "            <polygon points=\"350,75  379,161 469,161 397,215 423,301 350,250 277,301 303,215 231,161 321,161\"\n",
    "                style=\"fill:green;stroke:black;stroke-width:5;fill-rule:evenodd;\"\n",
    "                transform=\"translate(-8, -6) scale(0.015)\" />\n",
    "        </g>\n",
    "    </g>\n",
    "</svg>\n",
    "</center>"
   ]
  },
  {
   "cell_type": "markdown",
   "metadata": {
    "slideshow": {
     "slide_type": "slide"
    }
   },
   "source": [
    "# Blatt 1 Aufgabe 4a\n",
    "\n",
    "Gegeben seien:\n",
    "$$\n",
    "\\begin{pmatrix} i / \\sqrt{2} \\\\ −1 / \\sqrt{2} \\\\ 0 \\end{pmatrix} \\;\\;,\\;\\;\\;\\;\\;\\;\\;\n",
    "\\begin{pmatrix} 1/2 \\\\ −i/2 \\\\ (1−i)/2 \\end{pmatrix}\n",
    "$$\n",
    "Ergänzen  Sie  einen  dritten  Vektor  so,  dass  die  Vektoren  die  Spalten  einer  unitären Matrix bilden.\n",
    "\n",
    "# Blatt 1 Aufgabe 4b\n",
    "\n",
    "Sei $A \\in \\mathbb{C}^{n \\times n}$ eine unitäre Matrix.\n",
    " * **i)** Rechnen Sie nach, dass $\\langle Az,Az \\rangle = \\langle z,z \\rangle$ für alle $z \\in \\mathbb{C}^n$ gilt.\n",
    " * **ii)** Sei $\\lambda \\in \\mathbb{C}$ so, dass es einen Vektor $z \\in \\mathbb{C}^n \\setminus \\{0\\}$gibt mit $Az = \\lambda z$. Zeigen Sie,dass dann $|\\lambda|= 1$ gilt.\n",
    "\n",
    "**Hinweis:** Verwenden Sie die Definition einer unitären Matrix. \n"
   ]
  },
  {
   "cell_type": "code",
   "execution_count": 22,
   "metadata": {
    "collapsed": true,
    "slideshow": {
     "slide_type": "skip"
    }
   },
   "outputs": [],
   "source": [
    "from sympy.interactive.printing import init_printing\n",
    "init_printing(use_latex='mathjax')\n",
    "import sympy as sy\n",
    "from sympy.matrices import Matrix\n",
    "from sympy.printing.mathml import mathml\n",
    "from sympy.assumptions import assuming, Q\n",
    "from sympy import I, re, im, Abs, arg, conjugate\n",
    "from sympy import Rational, sqrt"
   ]
  },
  {
   "cell_type": "code",
   "execution_count": 27,
   "metadata": {
    "slideshow": {
     "slide_type": "subslide"
    }
   },
   "outputs": [
    {
     "data": {
      "text/html": [
       "<h2>Aufgabe 4a</h2>"
      ],
      "text/plain": [
       "<IPython.core.display.HTML object>"
      ]
     },
     "metadata": {},
     "output_type": "display_data"
    },
    {
     "data": {
      "text/html": [
       "$UU^* = $"
      ],
      "text/plain": [
       "<IPython.core.display.HTML object>"
      ]
     },
     "metadata": {},
     "output_type": "display_data"
    },
    {
     "data": {
      "text/latex": [
       "$$\\left[\\begin{matrix}\\frac{\\sqrt{2} i}{2} & \\frac{1}{2} & \\frac{e^{i \\varphi}}{2}\\\\- \\frac{\\sqrt{2}}{2} & - \\frac{i}{2} & - \\frac{i}{2} e^{i \\varphi}\\\\0 & \\frac{1}{2} - \\frac{i}{2} & \\frac{e^{i \\varphi}}{2} \\left(-1 + i\\right)\\end{matrix}\\right]$$"
      ],
      "text/plain": [
       "⎡                  ⅈ⋅\\varphi     ⎤\n",
       "⎢√2⋅ⅈ             ℯ              ⎥\n",
       "⎢────   1/2       ──────────     ⎥\n",
       "⎢ 2                   2          ⎥\n",
       "⎢                                ⎥\n",
       "⎢                   ⅈ⋅\\varphi    ⎥\n",
       "⎢-√2    -ⅈ      -ⅈ⋅ℯ             ⎥\n",
       "⎢────   ───     ──────────────   ⎥\n",
       "⎢ 2      2            2          ⎥\n",
       "⎢                                ⎥\n",
       "⎢                       ⅈ⋅\\varphi⎥\n",
       "⎢      1   ⅈ  (-1 + ⅈ)⋅ℯ         ⎥\n",
       "⎢ 0    ─ - ─  ───────────────────⎥\n",
       "⎣      2   2           2         ⎦"
      ]
     },
     "metadata": {},
     "output_type": "display_data"
    },
    {
     "data": {
      "text/latex": [
       "$$\\left[\\begin{matrix}- \\frac{\\sqrt{2} i}{2} & - \\frac{\\sqrt{2}}{2} & 0\\\\\\frac{1}{2} & \\frac{i}{2} & \\frac{1}{2} + \\frac{i}{2}\\\\\\frac{1}{2} e^{- i \\varphi} & \\frac{i}{2} e^{- i \\varphi} & \\frac{1}{2} \\left(-1 - i\\right) e^{- i \\varphi}\\end{matrix}\\right]$$"
      ],
      "text/plain": [
       "⎡  -√2⋅ⅈ          -√2                            ⎤\n",
       "⎢  ──────         ────                0          ⎥\n",
       "⎢    2             2                             ⎥\n",
       "⎢                                                ⎥\n",
       "⎢                   ⅈ               1   ⅈ        ⎥\n",
       "⎢    1/2            ─               ─ + ─        ⎥\n",
       "⎢                   2               2   2        ⎥\n",
       "⎢                                                ⎥\n",
       "⎢ -ⅈ⋅\\varphi     -ⅈ⋅\\varphi            -ⅈ⋅\\varphi⎥\n",
       "⎢ℯ            ⅈ⋅ℯ            (-1 - ⅈ)⋅ℯ          ⎥\n",
       "⎢───────────  ─────────────  ────────────────────⎥\n",
       "⎣     2             2                 2          ⎦"
      ]
     },
     "metadata": {},
     "output_type": "display_data"
    },
    {
     "data": {
      "text/html": [
       "$ = $"
      ],
      "text/plain": [
       "<IPython.core.display.HTML object>"
      ]
     },
     "metadata": {},
     "output_type": "display_data"
    },
    {
     "data": {
      "text/latex": [
       "$$\\left[\\begin{matrix}1 & 0 & 0\\\\0 & 1 & 0\\\\0 & 0 & 1\\end{matrix}\\right]$$"
      ],
      "text/plain": [
       "⎡1  0  0⎤\n",
       "⎢       ⎥\n",
       "⎢0  1  0⎥\n",
       "⎢       ⎥\n",
       "⎣0  0  1⎦"
      ]
     },
     "metadata": {},
     "output_type": "display_data"
    }
   ],
   "source": [
    "phi = sy.Symbol('\\\\varphi', real=True)\n",
    "w = Rational(1, 2)*sy.exp(I*phi)\n",
    "U = Matrix([\n",
    "                [I/sqrt(2), Rational(1, 2), w],\n",
    "                [-1/sy.sqrt(2), -I/2, -I*w],\n",
    "                [0, (1-1*I)/2, (1*I-1)*w]\n",
    "           ])\n",
    "u = U.transpose().conjugate()\n",
    "disp.display(\n",
    "    disp.HTML(\"<h2>Aufgabe 4a</h2>\"), \n",
    "    disp.HTML(\"$UU^* = $\"), \n",
    "    U, \n",
    "    u, \n",
    "    disp.HTML(\"$ = $\"), \n",
    "    sy.simplify(U*u))"
   ]
  },
  {
   "cell_type": "markdown",
   "metadata": {
    "slideshow": {
     "slide_type": "slide"
    }
   },
   "source": [
    "<center>\n",
    "<span style=\"font-size: 40pt; line-height: 100px;\">\n",
    "Vielen Dank\n",
    "</span>\n",
    "</center>"
   ]
  },
  {
   "cell_type": "code",
   "execution_count": 177,
   "metadata": {
    "slideshow": {
     "slide_type": "skip"
    }
   },
   "outputs": [
    {
     "name": "stdout",
     "output_type": "stream",
     "text": [
      "[NbConvertApp] Converting notebook Tut01.ipynb to slides\n",
      "[NbConvertApp] Writing 276879 bytes to Tut01.slides.html\n",
      "custom.css  Tut01.ipynb  Tut01.slides.html\n"
     ]
    }
   ],
   "source": [
    "# Don't forget to save first\n",
    "!jupyter nbconvert Tut01.ipynb --to slides --reveal-prefix ./../../../../reveal --SlidesExporter.reveal_theme=white\n",
    "!ls"
   ]
  },
  {
   "cell_type": "code",
   "execution_count": 34,
   "metadata": {
    "collapsed": true,
    "slideshow": {
     "slide_type": "skip"
    }
   },
   "outputs": [],
   "source": []
  }
 ],
 "metadata": {
  "celltoolbar": "Slideshow",
  "kernelspec": {
   "display_name": "Python 3",
   "language": "python",
   "name": "python3"
  },
  "language_info": {
   "codemirror_mode": {
    "name": "ipython",
    "version": 3
   },
   "file_extension": ".py",
   "mimetype": "text/x-python",
   "name": "python",
   "nbconvert_exporter": "python",
   "pygments_lexer": "ipython3",
   "version": "3.5.2"
  }
 },
 "nbformat": 4,
 "nbformat_minor": 2
}
