{
 "cells": [
  {
   "cell_type": "code",
   "execution_count": 40,
   "metadata": {
    "collapsed": true,
    "slideshow": {
     "slide_type": "skip"
    }
   },
   "outputs": [],
   "source": [
    "%matplotlib qt5\n",
    "import matplotlib.pyplot as plt\n",
    "import numpy as np\n",
    "import IPython.display as disp\n",
    "\n",
    "import pandas as pd"
   ]
  },
  {
   "cell_type": "code",
   "execution_count": 41,
   "metadata": {
    "collapsed": true,
    "slideshow": {
     "slide_type": "skip"
    }
   },
   "outputs": [],
   "source": [
    "%matplotlib inline"
   ]
  },
  {
   "cell_type": "markdown",
   "metadata": {
    "slideshow": {
     "slide_type": "slide"
    }
   },
   "source": [
    "# Tut 03 - Kreuzprodukt und Eigenwerte\n",
    "\n",
    "<span style=\"font-size: 80pt;\">\n",
    "$$\n",
    "E \\psi = \\hat{H} \\psi\n",
    "$$\n",
    "</span>\n",
    "$$\n",
    "\\Leftrightarrow\n",
    "\\\\\n",
    "\\omega \\hbar \\; \\psi =\n",
    "\\bigg( - {\\hbar^2 \\over 2 m} \\sum_i {\\partial^2 \\over \\partial q_i^2} + U(q_1, \\cdots)  \\bigg) \\psi\n",
    "\\\\\n",
    "\\Leftrightarrow\n",
    "\\\\\n",
    "i \\hbar {\\partial \\over \\partial t} \\Psi = \n",
    "\\bigg( - {\\hbar^2 \\over 2 m} \\sum_i {\\partial^2 \\over \\partial q_i^2} + U(q_1, \\cdots)  \\bigg) \\Psi\n",
    "$$\n",
    "\n",
    "*Jochen Illerhaus - jochen.illerhaus@student.kit.edu*"
   ]
  },
  {
   "cell_type": "markdown",
   "metadata": {
    "slideshow": {
     "slide_type": "slide"
    }
   },
   "source": [
    "# Orga\n",
    "\n",
    "<ul style=\"font-size: 30pt; line-height: 1.5;\">\n",
    "<li><a href=\"http://bit.ly/2HayX3w\">http://bit.ly/2HayX3w</a></li>\n",
    "<li>jochen.illerhaus@student.kit.edu</li>\n",
    "</ul>"
   ]
  },
  {
   "cell_type": "markdown",
   "metadata": {
    "slideshow": {
     "slide_type": "slide"
    }
   },
   "source": [
    "<center>\n",
    "<span style=\"font-size: 40pt; line-height: 100px;\">\n",
    "Fragen\n",
    "</span>\n",
    "</center>"
   ]
  },
  {
   "cell_type": "markdown",
   "metadata": {
    "slideshow": {
     "slide_type": "slide"
    }
   },
   "source": [
    "<center>\n",
    "<span style=\"font-size: 40pt; line-height: 100px;\">\n",
    "$\\vec{x} \\times \\vec{y}$\n",
    "</span>\n",
    "</center>\n",
    "\n",
    "# Eigenschaften\n",
    "\n",
    "$$\n",
    "\\cdot \\times \\cdot \\, : \\mathbb{R}^3 \\times \\mathbb{R}^3 \\to \\mathbb{R}^3 \n",
    "\\\\\n",
    "\\big| \\vec{x} \\times \\vec{y} \\big| = \\big| \\vec{x} \\big| \\, \\big| \\vec{y} \\big| \n",
    "    \\sin \\big( \\angle \\vec{x}, \\vec{y} \\big)\n",
    "\\\\\n",
    "\\begin{pmatrix} x_1 \\\\ x_2 \\\\ x_3 \\end{pmatrix} \n",
    "\\times\n",
    "\\begin{pmatrix} y_1 \\\\ y_2 \\\\ y_3 \\end{pmatrix}\n",
    "=\n",
    "\\begin{pmatrix} \n",
    "    x_2 y_3 - x_3 y_2 \n",
    "    \\\\ \n",
    "    x_3 y_1 - x_1 y_3\n",
    "    \\\\ \n",
    "    x_1 y_2 - x_2 y_1\n",
    "\\end{pmatrix} \n",
    "=\n",
    "\\begin{vmatrix}\n",
    "    \\hat{e_x} & \\hat{e_y} & \\hat{e_z}\n",
    "    \\\\\n",
    "    x_1 & x_2 & x_3 \n",
    "    \\\\\n",
    "    y_1 & y_2 & y_3\n",
    "\\end{vmatrix}\n",
    "= \\sum_{i,j,k} \\hat{e_i} \\epsilon_{ijk} x_j y_k\n",
    "\\\\\n",
    "\\vec{x} \\times \\vec{y} = \\vec{z} \n",
    "\\; \\; \\Rightarrow \\; \\;\n",
    "\\bigg( \\vec{x} \\perp \\vec{z} \\wedge \\vec{y} \\perp \\vec{z} \\bigg)\n",
    "$$"
   ]
  },
  {
   "cell_type": "markdown",
   "metadata": {
    "slideshow": {
     "slide_type": "slide"
    }
   },
   "source": [
    "$$\n",
    "\\cdot \\times \\cdot \\, : \\mathbb{R}^3 \\times \\mathbb{R}^3 \\to \\mathbb{R}^3 \n",
    "\\\\\n",
    "\\big| \\vec{x} \\times \\vec{y} \\big| = \\big| \\vec{x} \\big| \\, \\big| \\vec{y} \\big| \n",
    "    \\sin \\big( \\angle \\vec{x}, \\vec{y} \\big)\n",
    "\\\\\n",
    "\\begin{pmatrix} x_1 \\\\ x_2 \\\\ x_3 \\end{pmatrix} \n",
    "\\times\n",
    "\\begin{pmatrix} y_1 \\\\ y_2 \\\\ y_3 \\end{pmatrix}\n",
    "=\n",
    "\\begin{pmatrix} \n",
    "    x_2 y_3 - x_3 y_2 \n",
    "    \\\\ \n",
    "    x_3 y_1 - x_1 y_3\n",
    "    \\\\ \n",
    "    x_1 y_2 - x_2 y_1\n",
    "\\end{pmatrix} \n",
    "=\n",
    "\\begin{vmatrix}\n",
    "    \\hat{e_x} & \\hat{e_y} & \\hat{e_z}\n",
    "    \\\\\n",
    "    x_1 & x_2 & x_3 \n",
    "    \\\\\n",
    "    y_1 & y_2 & y_3\n",
    "\\end{vmatrix}\n",
    "= \\sum_{i,j,k} \\hat{e_i} \\epsilon_{ijk} x_j y_k\n",
    "\\\\\n",
    "\\vec{x} \\times \\vec{y} = \\vec{z} \n",
    "\\; \\; \\Rightarrow \\; \\;\n",
    "\\bigg( \\vec{x} \\perp \\vec{z} \\wedge \\vec{y} \\perp \\vec{z} \\bigg)\n",
    "$$\n",
    "\n",
    "# Blatt 3 Aufgabe 1\n",
    "\n",
    "Gegeben seien die Vektoren \n",
    "$$\n",
    "x = \\begin{pmatrix}−2 \\\\ 1 \\\\ 1 \\end{pmatrix} \n",
    "\\;\\;\\; \\text{und} \\;\\;\\;\n",
    "y = \\begin{pmatrix} 2 \\\\ 0 \\\\ −2 \\end{pmatrix}\n",
    "$$.\n",
    "\n",
    "Berechnen Sie $x \\times y$, $\\langle x \\times y,x \\rangle$, den Winkel, den die Vektoren $x$ und $y$ einschließen, sowieden Flächeninhalt des von $x$ und $y$ aufgespannten Parallelogramms."
   ]
  },
  {
   "cell_type": "markdown",
   "metadata": {
    "slideshow": {
     "slide_type": "slide"
    }
   },
   "source": [
    "<center>\n",
    "<span style=\"font-size: 40pt; line-height: 100px;\">\n",
    "Eigenwerte und Eigenvektoren\n",
    "</span>\n",
    "</center>"
   ]
  },
  {
   "cell_type": "code",
   "execution_count": 3,
   "metadata": {
    "slideshow": {
     "slide_type": "slide"
    }
   },
   "outputs": [
    {
     "data": {
      "text/html": [
       "<script type=\"text/javascript\" src=\"numeric-1.2.6.min.js\"></script>\n",
       "<script type=\"text/javascript\">\n",
       "    \n",
       "    function eigen_vec(v1, v2, id) {\n",
       "        \n",
       "        const scale = 3;\n",
       "        v1 *= scale;\n",
       "        v2 *= scale;\n",
       "        \n",
       "        var d = \"m 0,0 \"+v1.toFixed(2)+\",\"+v2.toFixed(2);\n",
       "        document.getElementById(id).setAttribute('d', d);\n",
       "        document.getElementById(id+\"_out\").setAttribute('d', d);\n",
       "    }\n",
       "    \n",
       "    function eq(a, b) {\n",
       "        const epsilon = 0.005\n",
       "        return Math.abs(b-a) < epsilon;\n",
       "    }\n",
       "    \n",
       "    function updateValue() {\n",
       "        \n",
       "        var a = parseFloat(document.getElementById(\"num_a\").value);\n",
       "        var b = parseFloat(document.getElementById(\"num_b\").value);\n",
       "        var c = parseFloat(document.getElementById(\"num_c\").value);\n",
       "        var d = parseFloat(document.getElementById(\"num_d\").value);\n",
       "        \n",
       "        var useEigenSpace = document.getElementById(\"useEigenSpace\").checked;\n",
       "        \n",
       "        var det = a*d - b*c;\n",
       "        \n",
       "        A = [[a, b], [c, d]];\n",
       "        ev = numeric.eig(A);\n",
       "        var lam1 = ev.lambda.x[0];\n",
       "        var lam2 = ev.lambda.x[1];\n",
       "        \n",
       "        var matrix_str = \"\";\n",
       "        if (!useEigenSpace) {\n",
       "            matrix_str = \"matrix(\"+a+\",\"+c+\",\"+b+\",\"+d+\",0,0)\"\n",
       "        } else {\n",
       "            var E = ev.E.x\n",
       "            var inv = numeric.inv(E);\n",
       "            var M = numeric.dot(inv, numeric.dot(A, E));\n",
       "            matrix_str = \"matrix(\"+M[0][0]+\",\"+M[1][0]+\",\"+M[0][1]+\",\"+M[1][1]+\",0,0)\"\n",
       "        }\n",
       "        \n",
       "        document.getElementById(\"bsp1_content\").setAttribute('transform', matrix_str);\n",
       "        document.getElementById(\"det\").innerHTML = det.toFixed(2);\n",
       "        document.getElementById(\"lam1\").innerHTML = lam1.toFixed(2);\n",
       "        document.getElementById(\"lam2\").innerHTML = lam2.toFixed(2);\n",
       "        \n",
       "        eigen_vec(ev.E.x[0][0], ev.E.x[1][0], \"eigen1\");\n",
       "        eigen_vec(ev.E.x[0][1], ev.E.x[1][1], \"eigen2\");\n",
       "        \n",
       "        //if(eq(lam1, lam2))\n",
       "        //    console.log(\"lam1 == lam2 \" + JSON.stringify(ev));\n",
       "        \n",
       "        var EigenVecNames = [\"eigen1\", \"eigen1_out\", \"eigen2\", \"eigen2_out\", \n",
       "                             \"marker_arrow_red_path\", \"marker_arrow_purple_path\"];\n",
       "        var opacity = useEigenSpace || matrix_str.indexOf(\"NaN\") != -1 || eq(lam1, lam2) \n",
       "                        ? \"0.0\" : \"1.0\";\n",
       "        for(var i = 0; i < EigenVecNames.length; i++) {\n",
       "            var el = document.getElementById(EigenVecNames[i]);\n",
       "            el.setAttribute(\"stroke-opacity\", opacity);\n",
       "            el.setAttribute(\"fill-opacity\", opacity);\n",
       "        }\n",
       "    }\n",
       "</script>\n",
       "\n",
       "<center>\n",
       "<table style=\"font-size: 12pt;\"><tr>\n",
       "\n",
       "<td>\n",
       "    <table>\n",
       "        <tr>\n",
       "            <td>$\\det(M) = $</td><td id=\"det\">1.00</td>\n",
       "        </tr>\n",
       "        <tr>\n",
       "            <td>$\\lambda_1 = $</td><td id=\"lam1\">1.00</td>\n",
       "        </tr>\n",
       "        <tr>\n",
       "            <td>$\\lambda_2 = $</td><td id=\"lam2\">1.00</td>\n",
       "        </tr>\n",
       "    </table>\n",
       "    \n",
       "    <label>Eigenraum</label>\n",
       "    <input id=\"useEigenSpace\" type=\"checkbox\" value=\"True\" onchange=\"updateValue();\"/>\n",
       "</td>\n",
       "\n",
       "<td>\n",
       "<table border=\"0\" style=\"border: none;\">\n",
       "<tr>\n",
       "    <td> \n",
       "        <table><tr> \n",
       "            <td style=\"min-width: 50px;\">$a = $</td> \n",
       "            <td><input type=\"number\" id=\"num_a\" value=\"1\" step=\"0.01\" \n",
       "                       style=\"max-width: 100px;\" oninput=\"updateValue();\"/></td> \n",
       "        </tr></table>\n",
       "    </td>\n",
       "    <td>\n",
       "        <table><tr>\n",
       "            <td style=\"min-width: 50px;\">$b = $</td>\n",
       "            <td><input type=\"number\" id=\"num_b\" value=\"0\" step=\"0.01\" \n",
       "                       style=\"max-width: 100px;\" oninput=\"updateValue();\"/></td> \n",
       "        </tr></table>\n",
       "    </td>\n",
       "</tr>\n",
       "<tr>\n",
       "    <td> \n",
       "        <table><tr> \n",
       "            <td style=\"min-width: 50px;\">$c = $</td> \n",
       "            <td><input type=\"number\" id=\"num_c\" value=\"0\" step=\"0.01\" \n",
       "                       style=\"max-width: 100px;\" oninput=\"updateValue();\"/></td> \n",
       "        </tr></table>\n",
       "    </td>\n",
       "    <td>\n",
       "        <table><tr>\n",
       "            <td style=\"min-width: 50px;\">$d = $</td>\n",
       "            <td><input type=\"number\" id=\"num_d\" value=\"1\" step=\"0.01\" \n",
       "                       style=\"max-width: 100px;\" oninput=\"updateValue();\"/></td> \n",
       "        </tr></table>\n",
       "    </td>\n",
       "</tr>\n",
       "</table>\n",
       "\n",
       "</td>\n",
       "</tr>\n",
       "</table>\n",
       "\n",
       "<center>\n",
       "<svg viewbox=\"-5.1, -5.1, 11, 11\" width=\"600px\" heigth=\"400px\">\n",
       "    <marker orient=\"auto\" refY=\"0\" refX=\"0\" id=\"marker_arrow\" style=\"overflow:visible\">\n",
       "        <path d=\"M 0,0 5,-5 -12.5,0 5,5 0,0 Z\"\n",
       "            style=\"stroke:gray; fill: gray;\" fill-opacity=\"0.5\" stroke-opacity=\"0.5\"\n",
       "            transform=\"matrix(-0.4,0,0,-0.4,-4,0)\" />\n",
       "    </marker>\n",
       "    <marker orient=\"auto\" refY=\"0\" refX=\"0\" id=\"marker_arrow_black\" style=\"overflow:visible\">\n",
       "        <path d=\"M 0,0 5,-5 -12.5,0 5,5 0,0 Z\"\n",
       "                style=\"stroke:black; fill: black;\"\n",
       "                transform=\"matrix(-0.4,0,0,-0.4,-4,0)\" />\n",
       "    </marker>\n",
       "    <marker orient=\"auto\" refY=\"0\" refX=\"0\" id=\"marker_arrow_red\" style=\"overflow:visible\">\n",
       "        <path id=\"marker_arrow_red_path\" d=\"M 0,0 5,-5 -12.5,0 5,5 0,0 Z\"\n",
       "                style=\"stroke:red; fill: red;\" stroke-opacity=\"1.0\" fill-opacity=\"1.0\"\n",
       "                transform=\"matrix(-0.4,0,0,-0.4,-4,0)\" />\n",
       "    </marker>\n",
       "    <marker orient=\"auto\" refY=\"0\" refX=\"0\" id=\"marker_arrow_purple\" style=\"overflow:visible\">\n",
       "        <path id=\"marker_arrow_purple_path\" d=\"M 0,0 5,-5 -12.5,0 5,5 0,0 Z\"\n",
       "                style=\"stroke:purple; fill: purple;\" stroke-opacity=\"1.0\" fill-opacity=\"1.0\"\n",
       "                transform=\"matrix(-0.4,0,0,-0.4,-4,0)\" />\n",
       "    </marker>\n",
       "    <g transform=\"scale(1, -1)\">\n",
       "        <path d=\"m 0,-4.5, 0,9\"\n",
       "            style=\"stroke:black;stroke-width:0.1;marker-end:url(#marker_arrow_black)\" />\n",
       "        <path d=\"m -4.5,0, 9,0\"\n",
       "            style=\"stroke:black;stroke-width:0.1;marker-end:url(#marker_arrow_black)\" />\n",
       "        <g id=\"black_markers\"></g>\n",
       "        \n",
       "        <g id=\"bsp1_content\" transform=\"matrix(1, 0, 0, 1, 0, 0)\">\n",
       "            <path d=\"m 0,-4.5, 0,9\" fill-opacity=\"0.5\" stroke-opacity=\"0.5\"\n",
       "                style=\"stroke:gray;stroke-width:0.1;marker-end:url(#marker_arrow)\" />\n",
       "            <path d=\"m -4.5,0, 9,0\" fill-opacity=\"0.5\" stroke-opacity=\"0.5\"\n",
       "                style=\"stroke:gray;stroke-width:0.1;marker-end:url(#marker_arrow)\" />\n",
       "            <g id=\"gray_markers\"></g>\n",
       "            \n",
       "            <rect x=\"1\" y=\"1\" width=\"2\" height=\"2\" fill=\"blue\" stroke=\"black\" \n",
       "                stroke-width=\"0.1\" />\n",
       "            <line x1=\"1\" y1=\"1\" x2=\"0\" y2=\"1\" stroke=\"black\" stroke-width=\"0.04\" stroke-dasharray=\"0.04, 0.04\" \n",
       "                stroke-opacity=\"0.5\" />\n",
       "            <line x1=\"1\" y1=\"1\" x2=\"1\" y2=\"0\" stroke=\"black\" stroke-width=\"0.04\" stroke-dasharray=\"0.04, 0.04\" \n",
       "                stroke-opacity=\"0.5\" />\n",
       "            <line x1=\"3\" y1=\"1\" x2=\"3\" y2=\"0\" stroke=\"black\" stroke-width=\"0.04\" stroke-dasharray=\"0.04, 0.04\" \n",
       "                stroke-opacity=\"0.5\" />\n",
       "            <line x1=\"1\" y1=\"3\" x2=\"0\" y2=\"3\" stroke=\"black\" stroke-width=\"0.04\" stroke-dasharray=\"0.04, 0.04\" \n",
       "                stroke-opacity=\"0.5\" />\n",
       "            <polygon points=\"350,75  379,161 469,161 397,215 423,301 350,250 277,301 303,215 231,161 321,161\"\n",
       "                style=\"fill:green;stroke:black;stroke-width:5;fill-rule:evenodd;\"\n",
       "                transform=\"translate(-8, -6) scale(0.015)\" />\n",
       "            <polygon points=\"-1,1 -1,3 -3,1\" \n",
       "                style=\"fill:orange;stroke:black;stroke-width:0.1;fill-rule:evenodd;\" />\n",
       "            <text x=\"0.5\" y=\"3\" style=\"font-size: 1.8\" transform=\"scale(1, -1)\" stroke=\"balck\" fill=\"brown\"\n",
       "                    font-family=\"MathJax_Script\">\n",
       "                <tspan stroke=\"black\" stroke-width=\"0.07\">KIT</tspan>\n",
       "            </text>\n",
       "            \n",
       "            \n",
       "            <path id=\"eigen1\" d=\"m 0,0, 0,3\"\n",
       "                style=\"stroke:red;stroke-width:0.1;marker-end:url(#marker_arrow_red)\"\n",
       "                stroke-opacity=\"1.0\" fill-opacity=\"1.0\" />\n",
       "            <path id=\"eigen2\" d=\"m 0,0, 3,0\"\n",
       "                style=\"stroke:purple;stroke-width:0.1;marker-end:url(#marker_arrow_purple)\" \n",
       "                stroke-opacity=\"1.0\" fill-opacity=\"1.0\"/>\n",
       "            \n",
       "        </g>\n",
       "        \n",
       "        <path id=\"eigen1_out\" d=\"m 0,0, 0,3\"\n",
       "            style=\"stroke:red;stroke-width:0.1;marker-end:url(#marker_arrow_red)\" \n",
       "            stroke-opacity=\"1.0\" fill-opacity=\"1.0\"/>\n",
       "        <path id=\"eigen2_out\" d=\"m 0,0, 3,0\"\n",
       "            style=\"stroke:purple;stroke-width:0.1;marker-end:url(#marker_arrow_purple);\" \n",
       "            stroke-opacity=\"1.0\" fill-opacity=\"1.0\"/>\n",
       "        \n",
       "    </g>\n",
       "</svg>\n",
       "</center>\n",
       "\n",
       "<script type=\"text/javascript\">\n",
       "    function marker_text(stroke, params) {\n",
       "        s = \"\";\n",
       "        for(y = -4.0; y < 4; y += 1.0) {\n",
       "            s += '<line x1=\"-0.2\" x2=\"0.2\" y1=\"' + y + '\" y2=\"' + y +\n",
       "                   '\" stroke=\"' + stroke + '\" stroke-width=\"0.05\" ' + params + ' />\\n';\n",
       "        }\n",
       "        for(x = -4.0; x < 4; x += 1.0) {\n",
       "            s +=  '<line y1=\"-0.2\" y2=\"0.2\" x1=\"' + x + '\" x2=\"' + x \n",
       "                  + '\" stroke=\"' + stroke + '\" stroke-width=\"0.05\" />\\n';\n",
       "        }\n",
       "        return s;\n",
       "    }\n",
       "    \n",
       "    document.getElementById(\"black_markers\").innerHTML = marker_text(\"black\");\n",
       "    document.getElementById(\"gray_markers\").innerHTML = \n",
       "        marker_text(\"gray\", 'fill-opacity=\"0.5\" stroke-opacity=\"0.5\"');\n",
       "</script>\n",
       "\n",
       "</center>"
      ],
      "text/plain": [
       "<IPython.core.display.HTML object>"
      ]
     },
     "metadata": {},
     "output_type": "display_data"
    }
   ],
   "source": [
    "%%html\n",
    "<script type=\"text/javascript\" src=\"numeric-1.2.6.min.js\"></script>\n",
    "<script type=\"text/javascript\">\n",
    "    \n",
    "    function eigen_vec(v1, v2, id) {\n",
    "        \n",
    "        const scale = 3;\n",
    "        v1 *= scale;\n",
    "        v2 *= scale;\n",
    "        \n",
    "        var d = \"m 0,0 \"+v1.toFixed(2)+\",\"+v2.toFixed(2);\n",
    "        document.getElementById(id).setAttribute('d', d);\n",
    "        document.getElementById(id+\"_out\").setAttribute('d', d);\n",
    "    }\n",
    "    \n",
    "    function eq(a, b) {\n",
    "        const epsilon = 0.005\n",
    "        return Math.abs(b-a) < epsilon;\n",
    "    }\n",
    "    \n",
    "    function updateValue() {\n",
    "        \n",
    "        var a = parseFloat(document.getElementById(\"num_a\").value);\n",
    "        var b = parseFloat(document.getElementById(\"num_b\").value);\n",
    "        var c = parseFloat(document.getElementById(\"num_c\").value);\n",
    "        var d = parseFloat(document.getElementById(\"num_d\").value);\n",
    "        \n",
    "        var useEigenSpace = document.getElementById(\"useEigenSpace\").checked;\n",
    "        \n",
    "        var det = a*d - b*c;\n",
    "        \n",
    "        A = [[a, b], [c, d]];\n",
    "        ev = numeric.eig(A);\n",
    "        var lam1 = ev.lambda.x[0];\n",
    "        var lam2 = ev.lambda.x[1];\n",
    "        \n",
    "        var matrix_str = \"\";\n",
    "        if (!useEigenSpace) {\n",
    "            matrix_str = \"matrix(\"+a+\",\"+c+\",\"+b+\",\"+d+\",0,0)\"\n",
    "        } else {\n",
    "            var E = ev.E.x\n",
    "            var inv = numeric.inv(E);\n",
    "            var M = numeric.dot(inv, numeric.dot(A, E));\n",
    "            matrix_str = \"matrix(\"+M[0][0]+\",\"+M[1][0]+\",\"+M[0][1]+\",\"+M[1][1]+\",0,0)\"\n",
    "        }\n",
    "        \n",
    "        document.getElementById(\"bsp1_content\").setAttribute('transform', matrix_str);\n",
    "        document.getElementById(\"det\").innerHTML = det.toFixed(2);\n",
    "        document.getElementById(\"lam1\").innerHTML = lam1.toFixed(2);\n",
    "        document.getElementById(\"lam2\").innerHTML = lam2.toFixed(2);\n",
    "        \n",
    "        eigen_vec(ev.E.x[0][0], ev.E.x[1][0], \"eigen1\");\n",
    "        eigen_vec(ev.E.x[0][1], ev.E.x[1][1], \"eigen2\");\n",
    "        \n",
    "        //if(eq(lam1, lam2))\n",
    "        //    console.log(\"lam1 == lam2 \" + JSON.stringify(ev));\n",
    "        \n",
    "        var EigenVecNames = [\"eigen1\", \"eigen1_out\", \"eigen2\", \"eigen2_out\", \n",
    "                             \"marker_arrow_red_path\", \"marker_arrow_purple_path\"];\n",
    "        var opacity = useEigenSpace || matrix_str.indexOf(\"NaN\") != -1 || eq(lam1, lam2) \n",
    "                        ? \"0.0\" : \"1.0\";\n",
    "        for(var i = 0; i < EigenVecNames.length; i++) {\n",
    "            var el = document.getElementById(EigenVecNames[i]);\n",
    "            el.setAttribute(\"stroke-opacity\", opacity);\n",
    "            el.setAttribute(\"fill-opacity\", opacity);\n",
    "        }\n",
    "    }\n",
    "</script>\n",
    "\n",
    "<center>\n",
    "<table style=\"font-size: 12pt;\"><tr>\n",
    "\n",
    "<td>\n",
    "    <table>\n",
    "        <tr>\n",
    "            <td>$\\det(M) = $</td><td id=\"det\">1.00</td>\n",
    "        </tr>\n",
    "        <tr>\n",
    "            <td>$\\lambda_1 = $</td><td id=\"lam1\">1.00</td>\n",
    "        </tr>\n",
    "        <tr>\n",
    "            <td>$\\lambda_2 = $</td><td id=\"lam2\">1.00</td>\n",
    "        </tr>\n",
    "    </table>\n",
    "    \n",
    "    <label>Eigenraum</label>\n",
    "    <input id=\"useEigenSpace\" type=\"checkbox\" value=\"True\" onchange=\"updateValue();\"/>\n",
    "</td>\n",
    "\n",
    "<td>\n",
    "<table border=\"0\" style=\"border: none;\">\n",
    "<tr>\n",
    "    <td> \n",
    "        <table><tr> \n",
    "            <td style=\"min-width: 50px;\">$a = $</td> \n",
    "            <td><input type=\"number\" id=\"num_a\" value=\"1\" step=\"0.01\" \n",
    "                       style=\"max-width: 100px;\" oninput=\"updateValue();\"/></td> \n",
    "        </tr></table>\n",
    "    </td>\n",
    "    <td>\n",
    "        <table><tr>\n",
    "            <td style=\"min-width: 50px;\">$b = $</td>\n",
    "            <td><input type=\"number\" id=\"num_b\" value=\"0\" step=\"0.01\" \n",
    "                       style=\"max-width: 100px;\" oninput=\"updateValue();\"/></td> \n",
    "        </tr></table>\n",
    "    </td>\n",
    "</tr>\n",
    "<tr>\n",
    "    <td> \n",
    "        <table><tr> \n",
    "            <td style=\"min-width: 50px;\">$c = $</td> \n",
    "            <td><input type=\"number\" id=\"num_c\" value=\"0\" step=\"0.01\" \n",
    "                       style=\"max-width: 100px;\" oninput=\"updateValue();\"/></td> \n",
    "        </tr></table>\n",
    "    </td>\n",
    "    <td>\n",
    "        <table><tr>\n",
    "            <td style=\"min-width: 50px;\">$d = $</td>\n",
    "            <td><input type=\"number\" id=\"num_d\" value=\"1\" step=\"0.01\" \n",
    "                       style=\"max-width: 100px;\" oninput=\"updateValue();\"/></td> \n",
    "        </tr></table>\n",
    "    </td>\n",
    "</tr>\n",
    "</table>\n",
    "\n",
    "</td>\n",
    "</tr>\n",
    "</table>\n",
    "\n",
    "<center>\n",
    "<svg viewbox=\"-5.1, -5.1, 11, 11\" width=\"600px\" heigth=\"400px\">\n",
    "    <marker orient=\"auto\" refY=\"0\" refX=\"0\" id=\"marker_arrow\" style=\"overflow:visible\">\n",
    "        <path d=\"M 0,0 5,-5 -12.5,0 5,5 0,0 Z\"\n",
    "            style=\"stroke:gray; fill: gray;\" fill-opacity=\"0.5\" stroke-opacity=\"0.5\"\n",
    "            transform=\"matrix(-0.4,0,0,-0.4,-4,0)\" />\n",
    "    </marker>\n",
    "    <marker orient=\"auto\" refY=\"0\" refX=\"0\" id=\"marker_arrow_black\" style=\"overflow:visible\">\n",
    "        <path d=\"M 0,0 5,-5 -12.5,0 5,5 0,0 Z\"\n",
    "                style=\"stroke:black; fill: black;\"\n",
    "                transform=\"matrix(-0.4,0,0,-0.4,-4,0)\" />\n",
    "    </marker>\n",
    "    <marker orient=\"auto\" refY=\"0\" refX=\"0\" id=\"marker_arrow_red\" style=\"overflow:visible\">\n",
    "        <path id=\"marker_arrow_red_path\" d=\"M 0,0 5,-5 -12.5,0 5,5 0,0 Z\"\n",
    "                style=\"stroke:red; fill: red;\" stroke-opacity=\"1.0\" fill-opacity=\"1.0\"\n",
    "                transform=\"matrix(-0.4,0,0,-0.4,-4,0)\" />\n",
    "    </marker>\n",
    "    <marker orient=\"auto\" refY=\"0\" refX=\"0\" id=\"marker_arrow_purple\" style=\"overflow:visible\">\n",
    "        <path id=\"marker_arrow_purple_path\" d=\"M 0,0 5,-5 -12.5,0 5,5 0,0 Z\"\n",
    "                style=\"stroke:purple; fill: purple;\" stroke-opacity=\"1.0\" fill-opacity=\"1.0\"\n",
    "                transform=\"matrix(-0.4,0,0,-0.4,-4,0)\" />\n",
    "    </marker>\n",
    "    <g transform=\"scale(1, -1)\">\n",
    "        <path d=\"m 0,-4.5, 0,9\"\n",
    "            style=\"stroke:black;stroke-width:0.1;marker-end:url(#marker_arrow_black)\" />\n",
    "        <path d=\"m -4.5,0, 9,0\"\n",
    "            style=\"stroke:black;stroke-width:0.1;marker-end:url(#marker_arrow_black)\" />\n",
    "        <g id=\"black_markers\"></g>\n",
    "        \n",
    "        <g id=\"bsp1_content\" transform=\"matrix(1, 0, 0, 1, 0, 0)\">\n",
    "            <path d=\"m 0,-4.5, 0,9\" fill-opacity=\"0.5\" stroke-opacity=\"0.5\"\n",
    "                style=\"stroke:gray;stroke-width:0.1;marker-end:url(#marker_arrow)\" />\n",
    "            <path d=\"m -4.5,0, 9,0\" fill-opacity=\"0.5\" stroke-opacity=\"0.5\"\n",
    "                style=\"stroke:gray;stroke-width:0.1;marker-end:url(#marker_arrow)\" />\n",
    "            <g id=\"gray_markers\"></g>\n",
    "            \n",
    "            <rect x=\"1\" y=\"1\" width=\"2\" height=\"2\" fill=\"blue\" stroke=\"black\" \n",
    "                stroke-width=\"0.1\" />\n",
    "            <line x1=\"1\" y1=\"1\" x2=\"0\" y2=\"1\" stroke=\"black\" stroke-width=\"0.04\" stroke-dasharray=\"0.04, 0.04\" \n",
    "                stroke-opacity=\"0.5\" />\n",
    "            <line x1=\"1\" y1=\"1\" x2=\"1\" y2=\"0\" stroke=\"black\" stroke-width=\"0.04\" stroke-dasharray=\"0.04, 0.04\" \n",
    "                stroke-opacity=\"0.5\" />\n",
    "            <line x1=\"3\" y1=\"1\" x2=\"3\" y2=\"0\" stroke=\"black\" stroke-width=\"0.04\" stroke-dasharray=\"0.04, 0.04\" \n",
    "                stroke-opacity=\"0.5\" />\n",
    "            <line x1=\"1\" y1=\"3\" x2=\"0\" y2=\"3\" stroke=\"black\" stroke-width=\"0.04\" stroke-dasharray=\"0.04, 0.04\" \n",
    "                stroke-opacity=\"0.5\" />\n",
    "            <polygon points=\"350,75  379,161 469,161 397,215 423,301 350,250 277,301 303,215 231,161 321,161\"\n",
    "                style=\"fill:green;stroke:black;stroke-width:5;fill-rule:evenodd;\"\n",
    "                transform=\"translate(-8, -6) scale(0.015)\" />\n",
    "            <polygon points=\"-1,1 -1,3 -3,1\" \n",
    "                style=\"fill:orange;stroke:black;stroke-width:0.1;fill-rule:evenodd;\" />\n",
    "            <text x=\"0.5\" y=\"3\" style=\"font-size: 1.8\" transform=\"scale(1, -1)\" stroke=\"balck\" fill=\"brown\"\n",
    "                    font-family=\"MathJax_Script\">\n",
    "                <tspan stroke=\"black\" stroke-width=\"0.07\">KIT</tspan>\n",
    "            </text>\n",
    "            \n",
    "            \n",
    "            <path id=\"eigen1\" d=\"m 0,0, 0,3\"\n",
    "                style=\"stroke:red;stroke-width:0.1;marker-end:url(#marker_arrow_red)\"\n",
    "                stroke-opacity=\"1.0\" fill-opacity=\"1.0\" />\n",
    "            <path id=\"eigen2\" d=\"m 0,0, 3,0\"\n",
    "                style=\"stroke:purple;stroke-width:0.1;marker-end:url(#marker_arrow_purple)\" \n",
    "                stroke-opacity=\"1.0\" fill-opacity=\"1.0\"/>\n",
    "            \n",
    "        </g>\n",
    "        \n",
    "        <path id=\"eigen1_out\" d=\"m 0,0, 0,3\"\n",
    "            style=\"stroke:red;stroke-width:0.1;marker-end:url(#marker_arrow_red)\" \n",
    "            stroke-opacity=\"1.0\" fill-opacity=\"1.0\"/>\n",
    "        <path id=\"eigen2_out\" d=\"m 0,0, 3,0\"\n",
    "            style=\"stroke:purple;stroke-width:0.1;marker-end:url(#marker_arrow_purple);\" \n",
    "            stroke-opacity=\"1.0\" fill-opacity=\"1.0\"/>\n",
    "        \n",
    "    </g>\n",
    "</svg>\n",
    "</center>\n",
    "\n",
    "<script type=\"text/javascript\">\n",
    "    function marker_text(stroke, params) {\n",
    "        s = \"\";\n",
    "        for(y = -4.0; y < 4; y += 1.0) {\n",
    "            s += '<line x1=\"-0.2\" x2=\"0.2\" y1=\"' + y + '\" y2=\"' + y +\n",
    "                   '\" stroke=\"' + stroke + '\" stroke-width=\"0.05\" ' + params + ' />\\n';\n",
    "        }\n",
    "        for(x = -4.0; x < 4; x += 1.0) {\n",
    "            s +=  '<line y1=\"-0.2\" y2=\"0.2\" x1=\"' + x + '\" x2=\"' + x \n",
    "                  + '\" stroke=\"' + stroke + '\" stroke-width=\"0.05\" />\\n';\n",
    "        }\n",
    "        return s;\n",
    "    }\n",
    "    \n",
    "    document.getElementById(\"black_markers\").innerHTML = marker_text(\"black\");\n",
    "    document.getElementById(\"gray_markers\").innerHTML = \n",
    "        marker_text(\"gray\", 'fill-opacity=\"0.5\" stroke-opacity=\"0.5\"');\n",
    "</script>\n",
    "\n",
    "</center>"
   ]
  },
  {
   "cell_type": "code",
   "execution_count": 12,
   "metadata": {
    "collapsed": true,
    "slideshow": {
     "slide_type": "skip"
    }
   },
   "outputs": [],
   "source": [
    "from sympy.interactive.printing import init_printing\n",
    "init_printing(use_latex='mathjax')\n",
    "from sympy.matrices import Matrix\n",
    "from sympy import Symbol\n",
    "import sympy as sy"
   ]
  },
  {
   "cell_type": "code",
   "execution_count": 38,
   "metadata": {
    "collapsed": true,
    "slideshow": {
     "slide_type": "skip"
    }
   },
   "outputs": [],
   "source": [
    "from sympy.printing.latex import latex\n",
    "\n",
    "def mathtex(sy_obj):\n",
    "    return latex(sy_obj).replace(\"\\\\left[\\\\begin{matrix}\", \"\\\\begin{bmatrix}\") \\\n",
    "                        .replace(\"\\\\end{matrix}\\\\right]\", \"\\\\end{bmatrix}\") \\\n",
    "                        .replace(\"\\\\left(\\\\begin{matrix}\", \"\\\\begin{pmatrix}\") \\\n",
    "                        .replace(\"\\\\end{matrix}\\\\right)\", \"\\\\end{pmatrix}\")"
   ]
  },
  {
   "cell_type": "code",
   "execution_count": 122,
   "metadata": {
    "collapsed": true,
    "slideshow": {
     "slide_type": "skip"
    }
   },
   "outputs": [],
   "source": [
    "def eigenTable(name, mat):\n",
    "    ev = mat.eigenvects()\n",
    "    \n",
    "    s = \"$$\"\n",
    "    s += name + \" = \" + mathtex(mat) + \"\\\\\\\\\"\n",
    "    s += \"$$</span>\"\n",
    "    #s += \"<table style='float:right'><tr><th>$\\\\lambda$</th><th>$\\\\vec{v}$</th></tr><tr>\" + \\\n",
    "    #     \"</tr><tr>\".join([\"<td>$%s$</td><td>$%s$</td>\" % (mathtex(l), mathtex(v)) for l, c, v in ev]) + \\\n",
    "    #     \"</tr></table>\"\n",
    "    s += \"<style>.my-table td { min-width: 150px; }</style>\"\n",
    "    s += \"<center><table class='my-table'><tr><th>$\\\\lambda$</th><td>\" + \\\n",
    "         \"</td><td>\".join([\"$%s$\" % mathtex(l) for l, c, v in ev]) + \\\n",
    "         \\\n",
    "         \"</td></tr><tr><th>$\\\\text{alg}$</th><td>\" + \\\n",
    "         \"</td><td>\".join([\"$%s$\" % mathtex(c) for l, c, v in ev]) + \\\n",
    "         \\\n",
    "         \"</td></tr><tr><th>$\\\\vec{v}$</th><td>\" + \\\n",
    "         \"</td><td>\".join([\"$%s$\" % mathtex(sy.simplify(v[0])) for l, c, v in ev]) + \\\n",
    "        \\\n",
    "         \"</td></tr></table></center>\"\n",
    "        \n",
    "    return s"
   ]
  },
  {
   "cell_type": "code",
   "execution_count": 123,
   "metadata": {
    "slideshow": {
     "slide_type": "slide"
    }
   },
   "outputs": [
    {
     "data": {
      "text/html": [
       "$$R(\\theta, \\varphi) := \\begin{bmatrix}\\sin{\\left (\\theta \\right )} \\cos{\\left (\\varphi \\right )} & \\cos{\\left (\\theta \\right )} \\cos{\\left (\\varphi \\right )} & - \\sin{\\left (\\varphi \\right )}\\\\\\sin{\\left (\\theta \\right )} \\sin{\\left (\\varphi \\right )} & \\sin{\\left (\\varphi \\right )} \\cos{\\left (\\theta \\right )} & \\cos{\\left (\\varphi \\right )}\\\\\\cos{\\left (\\theta \\right )} & - \\sin{\\left (\\theta \\right )} & 0\\end{bmatrix}\\\\$$ <hr /> $$L := R(\\pi, 0) = \\begin{bmatrix}0 & -1 & 0\\\\0 & 0 & 1\\\\-1 & 0 & 0\\end{bmatrix}\\\\$$</span><style>.my-table td { min-width: 150px; }</style><center><table class='my-table'><tr><th>$\\lambda$</th><td>$1$</td><td>$- \\frac{1}{2} - \\frac{\\sqrt{3} i}{2}$</td><td>$- \\frac{1}{2} + \\frac{\\sqrt{3} i}{2}$</td></tr><tr><th>$\\text{alg}$</th><td>$1$</td><td>$1$</td><td>$1$</td></tr><tr><th>$\\vec{v}$</th><td>$\\begin{bmatrix}-1\\\\1\\\\1\\end{bmatrix}$</td><td>$\\begin{bmatrix}\\frac{1}{2} + \\frac{\\sqrt{3} i}{2}\\\\- \\frac{1}{2} + \\frac{\\sqrt{3} i}{2}\\\\1\\end{bmatrix}$</td><td>$\\begin{bmatrix}\\frac{1}{2} - \\frac{\\sqrt{3} i}{2}\\\\- \\frac{1}{2} - \\frac{\\sqrt{3} i}{2}\\\\1\\end{bmatrix}$</td></tr></table></center>"
      ],
      "text/plain": [
       "<IPython.core.display.HTML object>"
      ]
     },
     "metadata": {},
     "output_type": "display_data"
    }
   ],
   "source": [
    "from sympy import sin, cos\n",
    "\n",
    "theta, phi = Symbol(\"\\\\theta\", real=True), Symbol(\"\\\\varphi\", real=True)\n",
    "\n",
    "R = Matrix([\n",
    "    [\n",
    "        sin(theta)*cos(phi),\n",
    "        cos(theta)*cos(phi),\n",
    "        -sin(phi)\n",
    "    ],\n",
    "    [\n",
    "        sin(theta)*sin(phi),\n",
    "        cos(theta)*sin(phi),\n",
    "        cos(phi)\n",
    "    ],\n",
    "    [\n",
    "        cos(theta),\n",
    "        -sin(theta),\n",
    "        0\n",
    "    ]\n",
    "])\n",
    "\n",
    "L = R.subs(theta, sy.pi).subs(phi, 0)\n",
    "#ev = L.eigenvects()\n",
    "\n",
    "s = \"$$\"\n",
    "s += \"R(\\\\theta, \\\\varphi) := \" + mathtex(R) + \"\\\\\\\\\"\n",
    "s += \"$$ <hr /> \"\n",
    "s += eigenTable(\"L := R(\\\\pi, 0)\", L)\n",
    "\n",
    "\n",
    "disp.display(disp.HTML(s))"
   ]
  },
  {
   "cell_type": "markdown",
   "metadata": {
    "slideshow": {
     "slide_type": "slide"
    }
   },
   "source": [
    "# Blatt 3 Aufgabe 2\n",
    "\n",
    "Bestimmen Sie die Eigenwerte und die zugehörigen Eigenräume von\n",
    "\n",
    "$$\n",
    "A = \\begin{pmatrix} 22 & −2 & −4 \\\\ 4 & 16 & −4 \\\\ 2 & −1 & 16 \\end{pmatrix}\n",
    "\\;\\;\\; \\text{und} \\;\\;\\;\n",
    "B = \\begin{pmatrix} 1 & 1 & 0 \\\\ 2 & 0 & 2 \\\\ −1 & 0 & 0 \\end{pmatrix}\n",
    "$$\n",
    "\n",
    "Welche algebraischen und geometrischen Vielfachheiten haben die Eigenwerte?"
   ]
  },
  {
   "cell_type": "code",
   "execution_count": 111,
   "metadata": {
    "collapsed": true,
    "slideshow": {
     "slide_type": "skip"
    }
   },
   "outputs": [],
   "source": [
    "def tex2py(tex):\n",
    "    return tex.replace(\"\\\\begin{pmatrix}\", \"[[\") \\\n",
    "              .replace(\"&\", \",\") \\\n",
    "              .replace(\"\\\\\\\\\", \"],[\") \\\n",
    "              .replace(\"\\\\end{pmatrix}\", \"]]\") \\\n",
    "              .replace(\"\\n\", \"\") \\\n",
    "              .replace(\"\\r\", \"\") \\\n",
    "              .replace(\" \", \"\") \\\n",
    "              .replace(\"−\", \"-\") \\\n",
    "              .replace(\"\\\\alpha\", \"a\")\n",
    "\n",
    "def asList(tex):\n",
    "    return eval(tex2py(tex))\n",
    "\n",
    "def asMatrix(tex):\n",
    "    return Matrix(asList(tex))"
   ]
  },
  {
   "cell_type": "code",
   "execution_count": 120,
   "metadata": {
    "slideshow": {
     "slide_type": "subslide"
    }
   },
   "outputs": [
    {
     "data": {
      "text/html": [
       "$$A = \\begin{bmatrix}22 & -2 & -4\\\\4 & 16 & -4\\\\2 & -1 & 16\\end{bmatrix}\\\\$$</span><style>.my-table td { min-width: 150px; }</style><center><table class='my-table'><tr><th>$\\lambda$</th><td>$18$</td></tr><tr><th>$\\text{alg}$</th><td>$3$</td></tr><tr><th>$\\vec{v}$</th><td>$\\begin{bmatrix}\\frac{1}{2}\\\\1\\\\0\\end{bmatrix}$</td></tr></table></center>"
      ],
      "text/plain": [
       "<IPython.core.display.HTML object>"
      ]
     },
     "metadata": {},
     "output_type": "display_data"
    }
   ],
   "source": [
    "A = asMatrix(\"\\\\begin{pmatrix} 22 & −2 & −4 \\\\\\\\ 4 & 16 & −4 \\\\\\\\ 2 & −1 & 16 \\\\end{pmatrix}\")\n",
    "disp.display(disp.HTML(eigenTable(\"A\", A)))"
   ]
  },
  {
   "cell_type": "code",
   "execution_count": 124,
   "metadata": {
    "slideshow": {
     "slide_type": "subslide"
    }
   },
   "outputs": [
    {
     "data": {
      "text/html": [
       "$$B = \\begin{bmatrix}1 & 1 & 0\\\\2 & 0 & 2\\\\-1 & 0 & 0\\end{bmatrix}\\\\$$</span><style>.my-table td { min-width: 150px; }</style><center><table class='my-table'><tr><th>$\\lambda$</th><td>$1$</td><td>$- \\sqrt{2}$</td><td>$\\sqrt{2}$</td></tr><tr><th>$\\text{alg}$</th><td>$1$</td><td>$1$</td><td>$1$</td></tr><tr><th>$\\vec{v}$</th><td>$\\begin{bmatrix}-1\\\\0\\\\1\\end{bmatrix}$</td><td>$\\begin{bmatrix}\\sqrt{2}\\\\-2 - \\sqrt{2}\\\\1\\end{bmatrix}$</td><td>$\\begin{bmatrix}- \\sqrt{2}\\\\-2 + \\sqrt{2}\\\\1\\end{bmatrix}$</td></tr></table></center>"
      ],
      "text/plain": [
       "<IPython.core.display.HTML object>"
      ]
     },
     "metadata": {},
     "output_type": "display_data"
    }
   ],
   "source": [
    "B = asMatrix(\"\\\\begin{pmatrix} 1 & 1 & 0 \\\\\\\\ 2 & 0 & 2 \\\\\\\\ −1 & 0 & 0 \\\\end{pmatrix}\")\n",
    "disp.display(disp.HTML(eigenTable(\"B\", B)))"
   ]
  },
  {
   "cell_type": "markdown",
   "metadata": {
    "slideshow": {
     "slide_type": "slide"
    }
   },
   "source": [
    "# Blatt 3 Aufgabe 6\n",
    "\n",
    "**a)** Finden Sie Matrizen mit den folgenden Eigenschaften:\n",
    " * i) $A \\in \\mathbb{R}^{3 \\times 3}$ und $A$ hat nur den Eigenwert $5$.\n",
    " * ii) $B \\in \\mathbb{R}^{4 \\times 4}$ und $B$ hat paarweise verschiedene reelle Eigenwerte.\n",
    " * iii) $C \\in \\mathbb{R}^{5 \\times 5}$ und $ χ_C(λ) = −λ^5 + 5λ^3 − 4λ$ ist das charakteristische Polynom von $C$.\n",
    " \n",
    "**b)** Sei $A \\in \\mathbb{C}^{n \\times n}$ und $\\lambda$ ein Eigenwert von $A$. Zeigen Sie, dass dann $λ^2 + 5$ ein Eigenwertvon $A^2 + 5I_n$ ist.\n",
    "\n",
    "**c)** Ist die folgende Aussage wahr? Eine Matrix $B \\in \\mathbb{R}^{n \\times n}$ besitzt mindestens einen reellen Eigenwert."
   ]
  },
  {
   "cell_type": "markdown",
   "metadata": {
    "slideshow": {
     "slide_type": "slide"
    }
   },
   "source": [
    "<center>\n",
    "<span style=\"font-size: 40pt; line-height: 100px;\">\n",
    "Vielen Dank\n",
    "</span>\n",
    "</center>"
   ]
  },
  {
   "cell_type": "code",
   "execution_count": 136,
   "metadata": {
    "slideshow": {
     "slide_type": "skip"
    }
   },
   "outputs": [
    {
     "name": "stdout",
     "output_type": "stream",
     "text": [
      "[NbConvertApp] Converting notebook Tut03.ipynb to slides\n",
      "[NbConvertApp] Writing 290980 bytes to Tut03.slides.html\n",
      "custom.css  numeric-1.2.6.min.js  Tut03.ipynb  Tut03.slides.html\n"
     ]
    }
   ],
   "source": [
    "# Don't forget to save first\n",
    "!jupyter nbconvert Tut03.ipynb --to slides --reveal-prefix ./../../../../reveal --SlidesExporter.reveal_theme=white\n",
    "!ls"
   ]
  },
  {
   "cell_type": "code",
   "execution_count": null,
   "metadata": {
    "collapsed": true,
    "slideshow": {
     "slide_type": "skip"
    }
   },
   "outputs": [],
   "source": []
  }
 ],
 "metadata": {
  "celltoolbar": "Slideshow",
  "kernelspec": {
   "display_name": "Python 3",
   "language": "python",
   "name": "python3"
  },
  "language_info": {
   "codemirror_mode": {
    "name": "ipython",
    "version": 3
   },
   "file_extension": ".py",
   "mimetype": "text/x-python",
   "name": "python",
   "nbconvert_exporter": "python",
   "pygments_lexer": "ipython3",
   "version": "3.5.2"
  }
 },
 "nbformat": 4,
 "nbformat_minor": 2
}
