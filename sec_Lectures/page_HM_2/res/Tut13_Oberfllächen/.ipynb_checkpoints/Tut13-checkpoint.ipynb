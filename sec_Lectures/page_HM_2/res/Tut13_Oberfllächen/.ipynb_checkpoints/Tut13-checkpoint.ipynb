{
 "cells": [
  {
   "cell_type": "code",
   "execution_count": 1,
   "metadata": {
    "collapsed": true,
    "slideshow": {
     "slide_type": "skip"
    }
   },
   "outputs": [],
   "source": [
    "%matplotlib qt5\n",
    "import matplotlib.pyplot as plt\n",
    "import mpl_toolkits.mplot3d as mpd\n",
    "import numpy as np\n",
    "\n",
    "import plotly.plotly as py\n",
    "import plotly.tools as tls\n",
    "import plotly.graph_objs as go\n",
    "import plotly.offline as off\n",
    "\n",
    "import IPython.display as disp"
   ]
  },
  {
   "cell_type": "code",
   "execution_count": null,
   "metadata": {
    "slideshow": {
     "slide_type": "notes"
    }
   },
   "outputs": [],
   "source": [
    "%matplotlib inline\n",
    "\n",
    "off.init_notebook_mode(connected=True)"
   ]
  },
  {
   "cell_type": "markdown",
   "metadata": {
    "slideshow": {
     "slide_type": "slide"
    }
   },
   "source": [
    "# Tut 11 - Oberflächen\n",
    "\n",
    "\n",
    "<p style=\"font-size: 18pt;\">\n",
    "$$\n",
    "\n",
    "$$\n",
    "</p>\n",
    "\n",
    "*Jochen Illerhaus - jochen.illerhaus@student.kit.edu*"
   ]
  },
  {
   "cell_type": "markdown",
   "metadata": {
    "slideshow": {
     "slide_type": "slide"
    }
   },
   "source": [
    "# Orga\n",
    "\n",
    "<ul style=\"font-size: 30pt; line-height: 1.5;\">\n",
    "<li><a href=\"http://bit.ly/2HayX3w\">http://bit.ly/2HayX3w</a></li>\n",
    "<li>jochen.illerhaus@student.kit.edu</li>\n",
    "</ul>"
   ]
  },
  {
   "cell_type": "markdown",
   "metadata": {
    "slideshow": {
     "slide_type": "slide"
    }
   },
   "source": [
    "<h2 style=\"text-align: center; font-size: 64pt;\">Fragen</h2>"
   ]
  },
  {
   "cell_type": "markdown",
   "metadata": {
    "slideshow": {
     "slide_type": "slide"
    }
   },
   "source": [
    "# Blatt 12 Aufgabe 1\n",
    "\n",
    "Gegeben seien der Kegel $K = \\Big\\{ \\big(x, \\, y, \\, z \\big) \\in \\mathbb{R}^3 \\, : \\;  0 \\leq z \\leq 2 − \\sqrt{x^2+y^2} \\Big\\}$ mit der Oberfläche $\\mathscr{F}$ sowie das Vektorfeld $\\vec{w} \\, : \\; \\mathbb{R}^3 \\to \\mathbb{R}^3 \\, , \\; \\vec{w}\\big(x, \\, y, \\, z \\big) = \\big(z, \\, y, \\, z + 1\\big)^T$. Berechnen Sie den Fluß $\\iint\\limits_{\\mathscr{F}} \\vec{w} d\\vec{\\sigma}$ des Vektorfeldes $\\vec{w}$ durch die Oberfläche $\\mathscr{F}$ des Kegels $K$ nach außen."
   ]
  },
  {
   "cell_type": "markdown",
   "metadata": {
    "slideshow": {
     "slide_type": "slide"
    }
   },
   "source": [
    "# Übungsklausur Aufgabe 1 (12+8 Punkte)\n",
    "\n",
    "**a)** Gegeben sei die symmetrische Matrix\n",
    "\n",
    "$$ A = \\begin{pmatrix}1&1&3\\\\1&5&1\\\\3&1&1\\end{pmatrix} \\in \\mathbb{R}^{3 \\times 3}$$\n",
    "\n",
    "Bestimmen Sie die Eigenwerte und die Eigenvektoren von $A$.\n",
    "\n",
    "**b)** Seien\n",
    "\n",
    "$$ y_1 = \\pmatrix{2\\\\−2\\\\2}\\,,\\;\\; y_2 = \\pmatrix{5\\\\1\\\\1}\\, , \\;\\; y_3 = \\pmatrix{−3\\\\−3\\\\1}$$\n",
    "\n",
    "Geben Sie eine Orthonormalbasis von $\\text{lin}\\big\\{y_1,\\,y_2,\\,y_3\\big\\}$ an."
   ]
  },
  {
   "cell_type": "markdown",
   "metadata": {
    "slideshow": {
     "slide_type": "slide"
    }
   },
   "source": [
    "<center>\n",
    "<span style=\"font-size: 40pt; line-height: 100px;\">\n",
    "Fragen\n",
    "</span>\n",
    "</center>"
   ]
  },
  {
   "cell_type": "markdown",
   "metadata": {
    "slideshow": {
     "slide_type": "slide"
    }
   },
   "source": [
    "<center>\n",
    "<span style=\"font-size: 40pt; line-height: 100px;\">\n",
    "Vielen Dank\n",
    "</span>\n",
    "</center>"
   ]
  },
  {
   "cell_type": "code",
   "execution_count": 79,
   "metadata": {
    "slideshow": {
     "slide_type": "skip"
    }
   },
   "outputs": [
    {
     "name": "stdout",
     "output_type": "stream",
     "text": [
      "[NbConvertApp] Converting notebook Tut12.ipynb to slides\n",
      "[NbConvertApp] Writing 432929 bytes to Tut12.slides.html\n",
      "2a.html  2b.html  custom.css  Ellipsoide.svg  Tut12.ipynb  Tut12.slides.html\n"
     ]
    }
   ],
   "source": [
    "# Don't forget to save first                             --SlidesExporter.reveal_scroll=False\n",
    "!jupyter nbconvert Tut13.ipynb --to slides --reveal-prefix ./../../../../reveal --SlidesExporter.reveal_theme=white \n",
    "!ls"
   ]
  },
  {
   "cell_type": "markdown",
   "metadata": {
    "collapsed": true,
    "slideshow": {
     "slide_type": "skip"
    }
   },
   "source": [
    "$\\rho, \\delta$"
   ]
  },
  {
   "cell_type": "code",
   "execution_count": null,
   "metadata": {
    "collapsed": true,
    "slideshow": {
     "slide_type": "skip"
    }
   },
   "outputs": [],
   "source": []
  }
 ],
 "metadata": {
  "celltoolbar": "Slideshow",
  "kernelspec": {
   "display_name": "Python 3",
   "language": "python",
   "name": "python3"
  },
  "language_info": {
   "codemirror_mode": {
    "name": "ipython",
    "version": 3
   },
   "file_extension": ".py",
   "mimetype": "text/x-python",
   "name": "python",
   "nbconvert_exporter": "python",
   "pygments_lexer": "ipython3",
   "version": "3.5.2"
  }
 },
 "nbformat": 4,
 "nbformat_minor": 2
}
